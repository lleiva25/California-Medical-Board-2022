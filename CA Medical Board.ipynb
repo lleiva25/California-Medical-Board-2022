{
 "cells": [
  {
   "cell_type": "markdown",
   "metadata": {},
   "source": [
    "<h1>2023 California Medical Board Analysis</h1>"
   ]
  },
  {
   "cell_type": "markdown",
   "metadata": {},
   "source": [
    "<H4>Extract Data</H4>"
   ]
  },
  {
   "cell_type": "code",
   "execution_count": 292,
   "metadata": {},
   "outputs": [
    {
     "data": {
      "text/html": [
       "<div>\n",
       "<style scoped>\n",
       "    .dataframe tbody tr th:only-of-type {\n",
       "        vertical-align: middle;\n",
       "    }\n",
       "\n",
       "    .dataframe tbody tr th {\n",
       "        vertical-align: top;\n",
       "    }\n",
       "\n",
       "    .dataframe thead th {\n",
       "        text-align: right;\n",
       "    }\n",
       "</style>\n",
       "<table border=\"1\" class=\"dataframe\">\n",
       "  <thead>\n",
       "    <tr style=\"text-align: right;\">\n",
       "      <th></th>\n",
       "      <th>Fiscal Year</th>\n",
       "      <th>Year</th>\n",
       "      <th>Quarter</th>\n",
       "      <th>Month</th>\n",
       "      <th>Date</th>\n",
       "      <th>DCA Entity</th>\n",
       "      <th>License Type Code</th>\n",
       "      <th>License Type</th>\n",
       "      <th>Transaction Code</th>\n",
       "      <th>Application Type</th>\n",
       "      <th>Target Cycle Time Complete Applications</th>\n",
       "      <th>Volume Complete Applications</th>\n",
       "      <th>Cycle Time Complete Applications</th>\n",
       "      <th>Volume Incomplete Applications</th>\n",
       "      <th>Cycle Time Incomplete Applications</th>\n",
       "      <th>Volume Renewal Applications</th>\n",
       "      <th>Cycle Time Renewal Applications</th>\n",
       "      <th>Comment</th>\n",
       "      <th>Website</th>\n",
       "    </tr>\n",
       "  </thead>\n",
       "  <tbody>\n",
       "    <tr>\n",
       "      <th>0</th>\n",
       "      <td>6/30/2022</td>\n",
       "      <td>2022</td>\n",
       "      <td>Q2</td>\n",
       "      <td>December</td>\n",
       "      <td>12/31/2021</td>\n",
       "      <td>Acupuncture Board</td>\n",
       "      <td>NaN</td>\n",
       "      <td>Licensed Acupuncturist</td>\n",
       "      <td>NaN</td>\n",
       "      <td>Initial License Application</td>\n",
       "      <td>9</td>\n",
       "      <td>27.0</td>\n",
       "      <td>3.0</td>\n",
       "      <td>0.0</td>\n",
       "      <td>0</td>\n",
       "      <td>0</td>\n",
       "      <td>0.0</td>\n",
       "      <td>NaN</td>\n",
       "      <td>NaN</td>\n",
       "    </tr>\n",
       "    <tr>\n",
       "      <th>1</th>\n",
       "      <td>6/30/2022</td>\n",
       "      <td>2022</td>\n",
       "      <td>Q2</td>\n",
       "      <td>December</td>\n",
       "      <td>12/31/2021</td>\n",
       "      <td>Acupuncture Board</td>\n",
       "      <td>NaN</td>\n",
       "      <td>Licensed Acupuncturist</td>\n",
       "      <td>NaN</td>\n",
       "      <td>Renewal Application</td>\n",
       "      <td>0</td>\n",
       "      <td>0.0</td>\n",
       "      <td>0.0</td>\n",
       "      <td>0.0</td>\n",
       "      <td>0</td>\n",
       "      <td>479</td>\n",
       "      <td>3.0</td>\n",
       "      <td>NaN</td>\n",
       "      <td>NaN</td>\n",
       "    </tr>\n",
       "    <tr>\n",
       "      <th>2</th>\n",
       "      <td>6/30/2022</td>\n",
       "      <td>2022</td>\n",
       "      <td>Q2</td>\n",
       "      <td>November</td>\n",
       "      <td>11/30/2021</td>\n",
       "      <td>Acupuncture Board</td>\n",
       "      <td>NaN</td>\n",
       "      <td>Licensed Acupuncturist</td>\n",
       "      <td>NaN</td>\n",
       "      <td>Initial License Application</td>\n",
       "      <td>9</td>\n",
       "      <td>20.0</td>\n",
       "      <td>3.0</td>\n",
       "      <td>0.0</td>\n",
       "      <td>0</td>\n",
       "      <td>0</td>\n",
       "      <td>0.0</td>\n",
       "      <td>NaN</td>\n",
       "      <td>NaN</td>\n",
       "    </tr>\n",
       "    <tr>\n",
       "      <th>3</th>\n",
       "      <td>6/30/2022</td>\n",
       "      <td>2022</td>\n",
       "      <td>Q2</td>\n",
       "      <td>November</td>\n",
       "      <td>11/30/2021</td>\n",
       "      <td>Acupuncture Board</td>\n",
       "      <td>NaN</td>\n",
       "      <td>Licensed Acupuncturist</td>\n",
       "      <td>NaN</td>\n",
       "      <td>Renewal Application</td>\n",
       "      <td>0</td>\n",
       "      <td>0.0</td>\n",
       "      <td>0.0</td>\n",
       "      <td>0.0</td>\n",
       "      <td>0</td>\n",
       "      <td>375</td>\n",
       "      <td>3.0</td>\n",
       "      <td>NaN</td>\n",
       "      <td>NaN</td>\n",
       "    </tr>\n",
       "    <tr>\n",
       "      <th>4</th>\n",
       "      <td>6/30/2022</td>\n",
       "      <td>2022</td>\n",
       "      <td>Q2</td>\n",
       "      <td>October</td>\n",
       "      <td>10/31/2021</td>\n",
       "      <td>Acupuncture Board</td>\n",
       "      <td>NaN</td>\n",
       "      <td>Licensed Acupuncturist</td>\n",
       "      <td>NaN</td>\n",
       "      <td>Initial License Application</td>\n",
       "      <td>9</td>\n",
       "      <td>27.0</td>\n",
       "      <td>3.0</td>\n",
       "      <td>0.0</td>\n",
       "      <td>0</td>\n",
       "      <td>0</td>\n",
       "      <td>0.0</td>\n",
       "      <td>NaN</td>\n",
       "      <td>NaN</td>\n",
       "    </tr>\n",
       "  </tbody>\n",
       "</table>\n",
       "</div>"
      ],
      "text/plain": [
       "  Fiscal Year  Year Quarter     Month        Date         DCA Entity  \\\n",
       "0   6/30/2022  2022      Q2  December  12/31/2021  Acupuncture Board   \n",
       "1   6/30/2022  2022      Q2  December  12/31/2021  Acupuncture Board   \n",
       "2   6/30/2022  2022      Q2  November  11/30/2021  Acupuncture Board   \n",
       "3   6/30/2022  2022      Q2  November  11/30/2021  Acupuncture Board   \n",
       "4   6/30/2022  2022      Q2   October  10/31/2021  Acupuncture Board   \n",
       "\n",
       "  License Type Code            License Type Transaction Code  \\\n",
       "0               NaN  Licensed Acupuncturist              NaN   \n",
       "1               NaN  Licensed Acupuncturist              NaN   \n",
       "2               NaN  Licensed Acupuncturist              NaN   \n",
       "3               NaN  Licensed Acupuncturist              NaN   \n",
       "4               NaN  Licensed Acupuncturist              NaN   \n",
       "\n",
       "              Application Type Target Cycle Time Complete Applications  \\\n",
       "0  Initial License Application                                       9   \n",
       "1          Renewal Application                                       0   \n",
       "2  Initial License Application                                       9   \n",
       "3          Renewal Application                                       0   \n",
       "4  Initial License Application                                       9   \n",
       "\n",
       "   Volume Complete Applications  Cycle Time Complete Applications  \\\n",
       "0                          27.0                               3.0   \n",
       "1                           0.0                               0.0   \n",
       "2                          20.0                               3.0   \n",
       "3                           0.0                               0.0   \n",
       "4                          27.0                               3.0   \n",
       "\n",
       "   Volume Incomplete Applications Cycle Time Incomplete Applications  \\\n",
       "0                             0.0                                  0   \n",
       "1                             0.0                                  0   \n",
       "2                             0.0                                  0   \n",
       "3                             0.0                                  0   \n",
       "4                             0.0                                  0   \n",
       "\n",
       "  Volume Renewal Applications  Cycle Time Renewal Applications Comment  \\\n",
       "0                           0                              0.0     NaN   \n",
       "1                         479                              3.0     NaN   \n",
       "2                           0                              0.0     NaN   \n",
       "3                         375                              3.0     NaN   \n",
       "4                           0                              0.0     NaN   \n",
       "\n",
       "   Website  \n",
       "0      NaN  \n",
       "1      NaN  \n",
       "2      NaN  \n",
       "3      NaN  \n",
       "4      NaN  "
      ]
     },
     "execution_count": 292,
     "metadata": {},
     "output_type": "execute_result"
    }
   ],
   "source": [
    "import pandas as pd \n",
    "\n",
    "licensing_csv_url = '/Users/leslieleiva/Documents/GitHub/California-Medical-Board-2022/Resources/LIcensing_performance_data_2022.csv'\n",
    "disciplinary_xlsx_url = '/Users/leslieleiva/Documents/GitHub/California-Medical-Board-2022/Resources/Disciplinary-Alert-Actions-2022.xlsx'\n",
    "\n",
    "licensing_df = pd.DataFrame(pd.read_csv(licensing_csv_url))\n",
    "disciplinary_df = pd. DataFrame(pd.read_excel(disciplinary_xlsx_url))\n",
    "\n",
    "licensing_df.head()"
   ]
  },
  {
   "cell_type": "code",
   "execution_count": 283,
   "metadata": {},
   "outputs": [
    {
     "data": {
      "text/html": [
       "<div>\n",
       "<style scoped>\n",
       "    .dataframe tbody tr th:only-of-type {\n",
       "        vertical-align: middle;\n",
       "    }\n",
       "\n",
       "    .dataframe tbody tr th {\n",
       "        vertical-align: top;\n",
       "    }\n",
       "\n",
       "    .dataframe thead th {\n",
       "        text-align: right;\n",
       "    }\n",
       "</style>\n",
       "<table border=\"1\" class=\"dataframe\">\n",
       "  <thead>\n",
       "    <tr style=\"text-align: right;\">\n",
       "      <th></th>\n",
       "      <th>ALERT \\nISSUE DATE</th>\n",
       "      <th>NAME</th>\n",
       "      <th>CITY/STATE</th>\n",
       "      <th>LICENSE\\nNUMBER</th>\n",
       "      <th>TYPE OF ACTION</th>\n",
       "      <th>DATE\\nOF ACTION</th>\n",
       "    </tr>\n",
       "  </thead>\n",
       "  <tbody>\n",
       "    <tr>\n",
       "      <th>0</th>\n",
       "      <td>2022-01-03</td>\n",
       "      <td>Smith, Bradley</td>\n",
       "      <td>Redondo Beach, CA</td>\n",
       "      <td>G 66535</td>\n",
       "      <td>Surrendered</td>\n",
       "      <td>2022-01-01</td>\n",
       "    </tr>\n",
       "    <tr>\n",
       "      <th>1</th>\n",
       "      <td>2022-01-03</td>\n",
       "      <td>Serrahn, Robin</td>\n",
       "      <td>Fort Bragg, CA</td>\n",
       "      <td>G 54947</td>\n",
       "      <td>Public Reprimand</td>\n",
       "      <td>2022-01-03</td>\n",
       "    </tr>\n",
       "    <tr>\n",
       "      <th>2</th>\n",
       "      <td>2022-01-03</td>\n",
       "      <td>Sliskovich, Peter</td>\n",
       "      <td>San Pedro, CA</td>\n",
       "      <td>G 42414</td>\n",
       "      <td>Surrendered</td>\n",
       "      <td>2022-01-03</td>\n",
       "    </tr>\n",
       "    <tr>\n",
       "      <th>3</th>\n",
       "      <td>2022-01-04</td>\n",
       "      <td>Yassa, Nadine</td>\n",
       "      <td>Roseville, CA</td>\n",
       "      <td>A 48720</td>\n",
       "      <td>Accusation and Petition to Revoke Probation</td>\n",
       "      <td>2021-12-16</td>\n",
       "    </tr>\n",
       "    <tr>\n",
       "      <th>4</th>\n",
       "      <td>2022-01-04</td>\n",
       "      <td>Saify, Emil</td>\n",
       "      <td>Hollywood, CA</td>\n",
       "      <td>A 92733</td>\n",
       "      <td>Accusation</td>\n",
       "      <td>2021-12-17</td>\n",
       "    </tr>\n",
       "  </tbody>\n",
       "</table>\n",
       "</div>"
      ],
      "text/plain": [
       "  ALERT \\nISSUE DATE               NAME         CITY/STATE LICENSE\\nNUMBER  \\\n",
       "0         2022-01-03     Smith, Bradley  Redondo Beach, CA         G 66535   \n",
       "1         2022-01-03     Serrahn, Robin     Fort Bragg, CA         G 54947   \n",
       "2         2022-01-03  Sliskovich, Peter      San Pedro, CA         G 42414   \n",
       "3         2022-01-04      Yassa, Nadine      Roseville, CA         A 48720   \n",
       "4         2022-01-04        Saify, Emil      Hollywood, CA         A 92733   \n",
       "\n",
       "                                TYPE OF ACTION DATE\\nOF ACTION  \n",
       "0                                  Surrendered      2022-01-01  \n",
       "1                             Public Reprimand      2022-01-03  \n",
       "2                                  Surrendered      2022-01-03  \n",
       "3  Accusation and Petition to Revoke Probation      2021-12-16  \n",
       "4                                   Accusation      2021-12-17  "
      ]
     },
     "execution_count": 283,
     "metadata": {},
     "output_type": "execute_result"
    }
   ],
   "source": [
    "disciplinary_df.head()"
   ]
  },
  {
   "cell_type": "markdown",
   "metadata": {},
   "source": [
    "<H4>Extract/Read SQL Database</H4>"
   ]
  },
  {
   "cell_type": "code",
   "execution_count": 284,
   "metadata": {},
   "outputs": [
    {
     "name": "stdout",
     "output_type": "stream",
     "text": [
      "\n",
      "Data from table: AdministrativeDisciplinaryAction\n",
      "  LicenseID     CaseNumber            Description        EffectiveDate\n",
      "0    807802  16 1991013768   SURRENDER OF LICENSE  1994-05-31 00:00:00\n",
      "1   2088873  16 2010206989  SURRENDER OF LICENSE.  2011-03-16 00:00:00\n",
      "2    297159  D1 1990002905  SURRENDER OF LICENSE.  2000-02-03 00:00:00\n",
      "3    243565  17 1993029527               REVOKED.  1998-11-16 00:00:00\n",
      "4    762568  02 2002140691   PROBATION COMPLETED.  2014-02-01 00:00:00\n",
      "\n",
      "Data from table: FelonyConviction\n",
      "  LicenseID                                DescriptionOfAction  \\\n",
      "0   1050066  FOUND GUILTY OF THREE COUNTS OF VIOLATING TITL...   \n",
      "1    685433  PLED GUILTY TO THE SINGLE-COUNT INFORMATION, A...   \n",
      "2    161220  PLED GUILTY TO 1 COUNT VIOL. OF TITLE 21, U.S....   \n",
      "3    510141  1 CT 182(A)(1)-PC (CONSPIRACY TO COMMIT MURDER...   \n",
      "4   1819438      PLED GUILTY TO 1 COUNT 487.1-PC (GRAND THEFT)   \n",
      "\n",
      "  EffectiveDateOfAction                                         Court  \\\n",
      "0   2012-01-12 00:00:00   U.S. DISTRICT COURT, EASTERN DISTRICT OF CA   \n",
      "1   2008-11-10 00:00:00  U.S. DISTRICT COURT, CENTRIAL DISTRICT OF CA   \n",
      "2   1991-04-16 00:00:00   U.S. DISTRICT COURT, CENTRAL DIST OF CALIF.   \n",
      "3   1998-04-29 00:00:00               CONTRA COSTA CO. SUPERIOR COURT   \n",
      "4   1992-03-12 00:00:00             SAN JOAQUIN COUNTY SUPERIOR COURT   \n",
      "\n",
      "                Docket                                           Sentence  \n",
      "0           CR00427-06  NINTY-SEVEN MONTHS IN FEDERAL PRISON WITH TERM...  \n",
      "1  2:08-CR-01171-MMM-1  IMPRISONMENT FOR A TERM OF THIRTY SIX (36) MON...  \n",
      "2         CR90625A-JMI  (ON 7-22-91) 2 YRS PROBATION W/TERMS & CONDITI...  \n",
      "3             961883-6  ON 5-29-98: 25 YRS. TO LIFE IN PRISON; $10,000...  \n",
      "4             SC50567A  120 DAYS COUNTY JAIL; 5 YEARS PROBATION WITH T...  \n",
      "\n",
      "Data from table: HospitalDisciplinaryAction\n",
      "  LicenseID                             DescriptionOfAction  \\\n",
      "0    803279  Termination or revocation of staff privileges.   \n",
      "1   5675790   Termination or revocation of staff privileges   \n",
      "2   1635492   Termination or revocation of staff privileges   \n",
      "3   2135313   Termination or revocation of staff privileges   \n",
      "4   1288353   Termination or revocation of staff privileges   \n",
      "\n",
      "                         HealthCareFacility EffectiveDateOfAction  \n",
      "0             Bakersfield Memorial Hospital   2020-12-09 00:00:00  \n",
      "1            Tahoe Forest Hospital District   2025-07-13 00:00:00  \n",
      "2  Scripps Clinic Ambulatory Surgery Center   2021-04-12 00:00:00  \n",
      "3                       UCSF Medical Center   2021-02-11 00:00:00  \n",
      "4      Kaiser Foundation Hospital Vacaville   2022-09-28 00:00:00  \n",
      "\n",
      "Data from table: License\n",
      "  LicenseID LicenseType LicenseNumber PrimaryStatusCode      LastName  \\\n",
      "0    100006           A          5365                85       SWANSON   \n",
      "1    100014           A          5366                85       TEITLER   \n",
      "2    100020           A          5367                85     THRELFALL   \n",
      "3    100026           A          5368                85       UYEYAMA   \n",
      "4    100033           A          5369                85  VAN DEVENTER   \n",
      "\n",
      "  FirstName MiddleName NameSuffix PreviousLastName PreviousFirstName  ...  \\\n",
      "0   LEONARD          N                                                ...   \n",
      "1       MAX     HERMAN                                                ...   \n",
      "2    DONALD          R                                                ...   \n",
      "3    HAJIME                                                           ...   \n",
      "4        WM     CLARKE                 VANDEVENTER                WM  ...   \n",
      "\n",
      "  SchoolCode       GraduationDate AddressOfRecordLine1 AddressOfRecordLine2  \\\n",
      "0      CA002  1930-01-01 00:00:00   353 GREENFIELD CIR                        \n",
      "1      NE006  1930-01-01 00:00:00   18700 BURBANK BLVD                        \n",
      "2      CA011  1930-01-01 00:00:00      3899 HYLAND AVE                        \n",
      "3      CA002  1930-01-01 00:00:00        2808 GROVE ST                        \n",
      "4      CA011  1930-01-01 00:00:00  1115 HIGHLAND DRIVE                        \n",
      "\n",
      "  AddressOfRecordLine3 AddressOfRecordCity AddressOfRecordCountyCode  \\\n",
      "0                               SANTA ROSA                       097   \n",
      "1                                  TARZANA                       037   \n",
      "2                                 SAN JOSE                       085   \n",
      "3                                 BERKELEY                       001   \n",
      "4                                  MODESTO                       099   \n",
      "\n",
      "  AddressOfRecordState AddressOfRecordCountry AddressOfRecordZipCode  \n",
      "0                   CA          United States                  95405  \n",
      "1                   CA          United States                  91356  \n",
      "2                   CA          United States                  95127  \n",
      "3                   CA          United States                  94703  \n",
      "4                   CA          United States                  95354  \n",
      "\n",
      "[5 rows x 25 columns]\n",
      "\n",
      "Data from table: MisdemeanorConviction\n",
      "  LicenseID                                DescriptionOfAction  \\\n",
      "0    688939  PLED NOLO CONTENDERE TO VIOLATING VEHICLE CODE...   \n",
      "1    769421  PLED NOLO CONTENDERE TO ONE COUNT OF VIOLATING...   \n",
      "2    205937  PLED NOLO CONTENDERE TO THE VIOLATION OF PENAL...   \n",
      "3   1954769  DR. ROULAKIS PLED NOLO CONTENDERE TO ONE COUNT...   \n",
      "4   1865221  PLED NOLO CONTENDERE TO VIOLATING GOVERNMENT C...   \n",
      "\n",
      "         EffectiveDate                                        Court  \\\n",
      "0  2009-07-21 00:00:00    SUPERIOR COURT OF CA, COUNTY OF SAN MATEO   \n",
      "1  2013-04-05 00:00:00  SUPERIOR COURT OF CA, COUNTY OF LOS ANGELES   \n",
      "2  2009-09-18 00:00:00  SUPERIOR COURT OF CA, COUNTY OF LOS ANGELES   \n",
      "3  2008-02-20 00:00:00  SUPERIOR COURT OF CA, COUNTY OF LOS ANGELES   \n",
      "4  2009-12-22 00:00:00     SUPERIOR COURT OF CA, COUNTY OF MONTEREY   \n",
      "\n",
      "      Docket                                           Sentence  \n",
      "0  NM384949A   THREE YEARS PROBATION WITH TERMS AND CONDITIONS.  \n",
      "1   SA077903  THIRTY-SIX (36) MONTHS' PROBATION WITH TERMS A...  \n",
      "2   GA062940  SUMMARY PROBATION FOR A PERIOD OF THREE YEARS ...  \n",
      "3   7PS03028  THREE YEARS SUMMARY PROBATION WITH TERMS AND C...  \n",
      "4  SS082797A   THREE YEARS PROBATION WITH TERMS AND CONDITIONS.  \n",
      "\n",
      "Data from table: REF_SchoolCode\n",
      "  SchoolCode                                               Name StateCode  \\\n",
      "0      AZ001          University of Arizona College of Medicine        AZ   \n",
      "1      AZ002  University of Arizona College of Medicine - Ph...        AZ   \n",
      "2      IA03A  University of Iowa Roy J. and Lucille A. Carve...        IA   \n",
      "3      IA001            Iowa College of Physicians and Surgeons        IA   \n",
      "4      IA002                               Iowa Medical College        IA   \n",
      "\n",
      "  StateName CountryCode    CountryName  \n",
      "0   Arizona          US  United States  \n",
      "1   Arizona          US  United States  \n",
      "2      Iowa          US  United States  \n",
      "3      Iowa          US  United States  \n",
      "4      Iowa          US  United States  \n"
     ]
    }
   ],
   "source": [
    "#Import dependencies\n",
    "import sqlite3\n",
    "\n",
    "# Path to your SQLite database\n",
    "db_file = '/Users/leslieleiva/Documents/GitHub/California-Medical-Board-2022/Resources/MBC_Physician_Surgeon_Database.db'\n",
    "\n",
    "# Connect to the SQLite database\n",
    "conn = sqlite3.connect(db_file)\n",
    "\n",
    "# List of tables to read from the database\n",
    "tables_list = [\n",
    "    'AdministrativeDisciplinaryAction',\n",
    "    'FelonyConviction',\n",
    "    'HospitalDisciplinaryAction',\n",
    "    'License',\n",
    "    'MisdemeanorConviction',\n",
    "    'REF_SchoolCode'\n",
    "]\n",
    "\n",
    "# Dictionary to hold the DataFrames\n",
    "dataframes = {}\n",
    "\n",
    "for table in tables_list:\n",
    "    # Query the table and load into a DataFrame\n",
    "    df = pd.read_sql_query(f\"SELECT * FROM {table}\", conn)\n",
    "    dataframes[table] = df\n",
    "\n",
    "# Close the connection\n",
    "conn.close()\n",
    "\n",
    "# Now you can access each DataFrame using the table name as the key\n",
    "for table_name, df in dataframes.items():\n",
    "    print(f\"\\nData from table: {table_name}\")\n",
    "    print(df.head())  # Display the first few rows of each DataFrame\n"
   ]
  },
  {
   "cell_type": "code",
   "execution_count": 285,
   "metadata": {},
   "outputs": [
    {
     "data": {
      "text/html": [
       "<div>\n",
       "<style scoped>\n",
       "    .dataframe tbody tr th:only-of-type {\n",
       "        vertical-align: middle;\n",
       "    }\n",
       "\n",
       "    .dataframe tbody tr th {\n",
       "        vertical-align: top;\n",
       "    }\n",
       "\n",
       "    .dataframe thead th {\n",
       "        text-align: right;\n",
       "    }\n",
       "</style>\n",
       "<table border=\"1\" class=\"dataframe\">\n",
       "  <thead>\n",
       "    <tr style=\"text-align: right;\">\n",
       "      <th></th>\n",
       "      <th>LicenseID</th>\n",
       "      <th>CaseNumber</th>\n",
       "      <th>Description</th>\n",
       "      <th>EffectiveDate</th>\n",
       "    </tr>\n",
       "  </thead>\n",
       "  <tbody>\n",
       "    <tr>\n",
       "      <th>0</th>\n",
       "      <td>807802</td>\n",
       "      <td>16 1991013768</td>\n",
       "      <td>SURRENDER OF LICENSE</td>\n",
       "      <td>1994-05-31 00:00:00</td>\n",
       "    </tr>\n",
       "    <tr>\n",
       "      <th>1</th>\n",
       "      <td>2088873</td>\n",
       "      <td>16 2010206989</td>\n",
       "      <td>SURRENDER OF LICENSE.</td>\n",
       "      <td>2011-03-16 00:00:00</td>\n",
       "    </tr>\n",
       "    <tr>\n",
       "      <th>2</th>\n",
       "      <td>297159</td>\n",
       "      <td>D1 1990002905</td>\n",
       "      <td>SURRENDER OF LICENSE.</td>\n",
       "      <td>2000-02-03 00:00:00</td>\n",
       "    </tr>\n",
       "    <tr>\n",
       "      <th>3</th>\n",
       "      <td>243565</td>\n",
       "      <td>17 1993029527</td>\n",
       "      <td>REVOKED.</td>\n",
       "      <td>1998-11-16 00:00:00</td>\n",
       "    </tr>\n",
       "    <tr>\n",
       "      <th>4</th>\n",
       "      <td>762568</td>\n",
       "      <td>02 2002140691</td>\n",
       "      <td>PROBATION COMPLETED.</td>\n",
       "      <td>2014-02-01 00:00:00</td>\n",
       "    </tr>\n",
       "    <tr>\n",
       "      <th>...</th>\n",
       "      <td>...</td>\n",
       "      <td>...</td>\n",
       "      <td>...</td>\n",
       "      <td>...</td>\n",
       "    </tr>\n",
       "    <tr>\n",
       "      <th>9341</th>\n",
       "      <td>493086</td>\n",
       "      <td>8002023101346</td>\n",
       "      <td>SURRENDER OF LICENSE.</td>\n",
       "      <td>2024-04-22 00:00:00</td>\n",
       "    </tr>\n",
       "    <tr>\n",
       "      <th>9342</th>\n",
       "      <td>1059354</td>\n",
       "      <td>8002023101732</td>\n",
       "      <td>AMENDED ACCUSATION AND PETITION TO REVOKE PROB...</td>\n",
       "      <td>2024-06-06 00:00:00</td>\n",
       "    </tr>\n",
       "    <tr>\n",
       "      <th>9343</th>\n",
       "      <td>1191917</td>\n",
       "      <td>8002023101989</td>\n",
       "      <td>ACCUSATION FILED. THE PHYSICIAN HAS NOT HAD A ...</td>\n",
       "      <td>2024-05-16 00:00:00</td>\n",
       "    </tr>\n",
       "    <tr>\n",
       "      <th>9344</th>\n",
       "      <td>1138157</td>\n",
       "      <td>8002023103526</td>\n",
       "      <td>SURRENDER OF LICENSE.</td>\n",
       "      <td>2024-02-21 00:00:00</td>\n",
       "    </tr>\n",
       "    <tr>\n",
       "      <th>9345</th>\n",
       "      <td>800872</td>\n",
       "      <td>8002024104650</td>\n",
       "      <td>SURRENDER OF LICENSE.</td>\n",
       "      <td>2024-01-25 00:00:00</td>\n",
       "    </tr>\n",
       "  </tbody>\n",
       "</table>\n",
       "<p>9346 rows × 4 columns</p>\n",
       "</div>"
      ],
      "text/plain": [
       "     LicenseID     CaseNumber  \\\n",
       "0       807802  16 1991013768   \n",
       "1      2088873  16 2010206989   \n",
       "2       297159  D1 1990002905   \n",
       "3       243565  17 1993029527   \n",
       "4       762568  02 2002140691   \n",
       "...        ...            ...   \n",
       "9341    493086  8002023101346   \n",
       "9342   1059354  8002023101732   \n",
       "9343   1191917  8002023101989   \n",
       "9344   1138157  8002023103526   \n",
       "9345    800872  8002024104650   \n",
       "\n",
       "                                            Description        EffectiveDate  \n",
       "0                                  SURRENDER OF LICENSE  1994-05-31 00:00:00  \n",
       "1                                 SURRENDER OF LICENSE.  2011-03-16 00:00:00  \n",
       "2                                 SURRENDER OF LICENSE.  2000-02-03 00:00:00  \n",
       "3                                              REVOKED.  1998-11-16 00:00:00  \n",
       "4                                  PROBATION COMPLETED.  2014-02-01 00:00:00  \n",
       "...                                                 ...                  ...  \n",
       "9341                              SURRENDER OF LICENSE.  2024-04-22 00:00:00  \n",
       "9342  AMENDED ACCUSATION AND PETITION TO REVOKE PROB...  2024-06-06 00:00:00  \n",
       "9343  ACCUSATION FILED. THE PHYSICIAN HAS NOT HAD A ...  2024-05-16 00:00:00  \n",
       "9344                              SURRENDER OF LICENSE.  2024-02-21 00:00:00  \n",
       "9345                              SURRENDER OF LICENSE.  2024-01-25 00:00:00  \n",
       "\n",
       "[9346 rows x 4 columns]"
      ]
     },
     "execution_count": 285,
     "metadata": {},
     "output_type": "execute_result"
    }
   ],
   "source": [
    "#How to access dataframes in dictionary list\n",
    "dataframes[tables_list[0]]"
   ]
  },
  {
   "cell_type": "markdown",
   "metadata": {},
   "source": [
    "<H4>Clean-up</H4>"
   ]
  },
  {
   "cell_type": "markdown",
   "metadata": {},
   "source": []
  },
  {
   "cell_type": "code",
   "execution_count": 286,
   "metadata": {},
   "outputs": [],
   "source": [
    "#Simplifying database by reducing the amount of columns\n",
    "licensing_count_df = licensing_df[[\n",
    "    'Date',\n",
    "    'DCA Entity',\n",
    "    'License Type'\n",
    "]]\n",
    "\n",
    "licensing_sum_df = licensing_df[[\n",
    "        'Date',\n",
    "        'DCA Entity',\n",
    "        'License Type',\n",
    "        'Volume Complete Applications',\n",
    "        'Volume Incomplete Applications',\n",
    "        'Volume Renewal Applications'\n",
    "        \n",
    "]]\n",
    "\n",
    "#Group by date count\n",
    "licensing_count_df = licensing_count_df.groupby('Date').count()\n",
    "\n",
    "#Group by date sum\n",
    "licensing_date_sum_df = licensing_sum_df.groupby('Date').sum()\n",
    "\n",
    "#Delete columns\n",
    "del licensing_date_sum_df['DCA Entity']\n",
    "del licensing_date_sum_df['License Type']\n",
    "del licensing_date_sum_df['Volume Renewal Applications']\n",
    "\n",
    "#Group by License Type\n",
    "licensing_type_sum_df = licensing_sum_df.groupby('License Type').sum()\n",
    "\n",
    "#delete columns\n",
    "del licensing_type_sum_df['Date']\n",
    "del licensing_type_sum_df['DCA Entity']\n",
    "del licensing_type_sum_df['Volume Renewal Applications']\n",
    "\n",
    "#Create list of license types\n",
    "license_type_list = list(licensing_type_sum_df.index)\n",
    "\n",
    "# Path to the output file\n",
    "output_file = \"Output/List_Licenses.txt\"\n",
    "\n",
    "# Open the file in write mode\n",
    "with open(output_file, 'w') as file:\n",
    "    for item in license_type_list:\n",
    "        file.write(\"%s\\n\" % item)  # Write each item followed by a newline character"
   ]
  },
  {
   "cell_type": "markdown",
   "metadata": {},
   "source": [
    "<H4>Disciplinary Data</H4>"
   ]
  },
  {
   "cell_type": "code",
   "execution_count": 293,
   "metadata": {},
   "outputs": [
    {
     "data": {
      "text/html": [
       "<div>\n",
       "<style scoped>\n",
       "    .dataframe tbody tr th:only-of-type {\n",
       "        vertical-align: middle;\n",
       "    }\n",
       "\n",
       "    .dataframe tbody tr th {\n",
       "        vertical-align: top;\n",
       "    }\n",
       "\n",
       "    .dataframe thead th {\n",
       "        text-align: right;\n",
       "    }\n",
       "</style>\n",
       "<table border=\"1\" class=\"dataframe\">\n",
       "  <thead>\n",
       "    <tr style=\"text-align: right;\">\n",
       "      <th></th>\n",
       "      <th>City</th>\n",
       "      <th>Conviction</th>\n",
       "      <th>DATE\\nOF ACTION</th>\n",
       "    </tr>\n",
       "  </thead>\n",
       "  <tbody>\n",
       "    <tr>\n",
       "      <th>0</th>\n",
       "      <td>Redondo Beach</td>\n",
       "      <td>Surrendered</td>\n",
       "      <td>2022-01-01</td>\n",
       "    </tr>\n",
       "    <tr>\n",
       "      <th>1</th>\n",
       "      <td>Fort Bragg</td>\n",
       "      <td>Public Reprimand</td>\n",
       "      <td>2022-01-03</td>\n",
       "    </tr>\n",
       "    <tr>\n",
       "      <th>2</th>\n",
       "      <td>San Pedro</td>\n",
       "      <td>Surrendered</td>\n",
       "      <td>2022-01-03</td>\n",
       "    </tr>\n",
       "    <tr>\n",
       "      <th>42</th>\n",
       "      <td>Woodland Hills</td>\n",
       "      <td>Decision</td>\n",
       "      <td>2022-01-06</td>\n",
       "    </tr>\n",
       "    <tr>\n",
       "      <th>43</th>\n",
       "      <td>Santa Barbara</td>\n",
       "      <td>Decision</td>\n",
       "      <td>2022-01-06</td>\n",
       "    </tr>\n",
       "  </tbody>\n",
       "</table>\n",
       "</div>"
      ],
      "text/plain": [
       "              City        Conviction DATE\\nOF ACTION\n",
       "0    Redondo Beach       Surrendered      2022-01-01\n",
       "1       Fort Bragg  Public Reprimand      2022-01-03\n",
       "2        San Pedro       Surrendered      2022-01-03\n",
       "42  Woodland Hills          Decision      2022-01-06\n",
       "43   Santa Barbara          Decision      2022-01-06"
      ]
     },
     "execution_count": 293,
     "metadata": {},
     "output_type": "execute_result"
    }
   ],
   "source": [
    "disciplinary_df = disciplinary_df.drop(columns={\n",
    "    'ALERT \\nISSUE DATE',\n",
    "    'NAME',\n",
    "    'LICENSE\\nNUMBER'\n",
    "})\n",
    "\n",
    "disciplinary_df = disciplinary_df.rename(columns={\n",
    "   # 'DATE\\nOF ACTION':'Month',\n",
    "    'CITY/STATE':'City',\n",
    "    'TYPE OF ACTION': 'Conviction'\n",
    "})\n",
    "\n",
    "disciplinary_df['City'] = disciplinary_df['City'].str.replace(', CA','')\n",
    "\n",
    "disciplinary_df = disciplinary_df[disciplinary_df['DATE\\nOF ACTION'].dt.year == 2022]\n",
    "\n",
    "disciplinary_df.head()"
   ]
  },
  {
   "cell_type": "code",
   "execution_count": 299,
   "metadata": {},
   "outputs": [
    {
     "data": {
      "text/html": [
       "<div>\n",
       "<style scoped>\n",
       "    .dataframe tbody tr th:only-of-type {\n",
       "        vertical-align: middle;\n",
       "    }\n",
       "\n",
       "    .dataframe tbody tr th {\n",
       "        vertical-align: top;\n",
       "    }\n",
       "\n",
       "    .dataframe thead th {\n",
       "        text-align: right;\n",
       "    }\n",
       "</style>\n",
       "<table border=\"1\" class=\"dataframe\">\n",
       "  <thead>\n",
       "    <tr style=\"text-align: right;\">\n",
       "      <th></th>\n",
       "      <th>Month</th>\n",
       "      <th>No. Alerts</th>\n",
       "    </tr>\n",
       "  </thead>\n",
       "  <tbody>\n",
       "    <tr>\n",
       "      <th>0</th>\n",
       "      <td>01</td>\n",
       "      <td>1</td>\n",
       "    </tr>\n",
       "    <tr>\n",
       "      <th>1</th>\n",
       "      <td>01</td>\n",
       "      <td>3</td>\n",
       "    </tr>\n",
       "    <tr>\n",
       "      <th>2</th>\n",
       "      <td>01</td>\n",
       "      <td>3</td>\n",
       "    </tr>\n",
       "    <tr>\n",
       "      <th>3</th>\n",
       "      <td>01</td>\n",
       "      <td>1</td>\n",
       "    </tr>\n",
       "    <tr>\n",
       "      <th>4</th>\n",
       "      <td>01</td>\n",
       "      <td>8</td>\n",
       "    </tr>\n",
       "  </tbody>\n",
       "</table>\n",
       "</div>"
      ],
      "text/plain": [
       "  Month  No. Alerts\n",
       "0    01           1\n",
       "1    01           3\n",
       "2    01           3\n",
       "3    01           1\n",
       "4    01           8"
      ]
     },
     "execution_count": 299,
     "metadata": {},
     "output_type": "execute_result"
    }
   ],
   "source": [
    "disciplinary_month_df = disciplinary_df.groupby(['DATE\\nOF ACTION']).count()\n",
    "\n",
    "disciplinary_month_df = disciplinary_month_df.reset_index()\n",
    "\n",
    "del disciplinary_month_df['City']\n",
    "\n",
    "disciplinary_month_df = disciplinary_month_df.rename(columns={\n",
    "    'Conviction':'No. Alerts'\n",
    "})\n",
    "\n",
    "disciplinary_month_df['Month'] = disciplinary_month_df['DATE\\nOF ACTION'].dt.strftime('%m')\n",
    "\n",
    "disciplinary_month_df = disciplinary_month_df[[\n",
    "    'Month',\n",
    "    'No. Alerts'\n",
    "    ]]\n",
    "\n",
    "disciplinary_month_df.head()"
   ]
  },
  {
   "cell_type": "code",
   "execution_count": 305,
   "metadata": {},
   "outputs": [
    {
     "data": {
      "text/html": [
       "<div>\n",
       "<style scoped>\n",
       "    .dataframe tbody tr th:only-of-type {\n",
       "        vertical-align: middle;\n",
       "    }\n",
       "\n",
       "    .dataframe tbody tr th {\n",
       "        vertical-align: top;\n",
       "    }\n",
       "\n",
       "    .dataframe thead th {\n",
       "        text-align: right;\n",
       "    }\n",
       "</style>\n",
       "<table border=\"1\" class=\"dataframe\">\n",
       "  <thead>\n",
       "    <tr style=\"text-align: right;\">\n",
       "      <th></th>\n",
       "      <th>Month</th>\n",
       "      <th>No. Alerts</th>\n",
       "    </tr>\n",
       "  </thead>\n",
       "  <tbody>\n",
       "    <tr>\n",
       "      <th>0</th>\n",
       "      <td>01</td>\n",
       "      <td>4.904762</td>\n",
       "    </tr>\n",
       "    <tr>\n",
       "      <th>1</th>\n",
       "      <td>02</td>\n",
       "      <td>4.421053</td>\n",
       "    </tr>\n",
       "    <tr>\n",
       "      <th>2</th>\n",
       "      <td>03</td>\n",
       "      <td>4.916667</td>\n",
       "    </tr>\n",
       "    <tr>\n",
       "      <th>3</th>\n",
       "      <td>04</td>\n",
       "      <td>3.947368</td>\n",
       "    </tr>\n",
       "    <tr>\n",
       "      <th>4</th>\n",
       "      <td>05</td>\n",
       "      <td>2.684211</td>\n",
       "    </tr>\n",
       "  </tbody>\n",
       "</table>\n",
       "</div>"
      ],
      "text/plain": [
       "  Month  No. Alerts\n",
       "0    01    4.904762\n",
       "1    02    4.421053\n",
       "2    03    4.916667\n",
       "3    04    3.947368\n",
       "4    05    2.684211"
      ]
     },
     "execution_count": 305,
     "metadata": {},
     "output_type": "execute_result"
    }
   ],
   "source": [
    "disciplinary_month_total = disciplinary_month_df.groupby(['Month']).sum().reset_index()\n",
    "\n",
    "disciplinary_month_avg = disciplinary_month_df.groupby(['Month']).mean().reset_index()\n",
    "\n",
    "disciplinary_month_avg.head()"
   ]
  },
  {
   "cell_type": "markdown",
   "metadata": {},
   "source": [
    "<h5>Merging Alert Locations & County FIPS information</h5>"
   ]
  },
  {
   "cell_type": "code",
   "execution_count": 308,
   "metadata": {},
   "outputs": [
    {
     "data": {
      "text/html": [
       "<div>\n",
       "<style scoped>\n",
       "    .dataframe tbody tr th:only-of-type {\n",
       "        vertical-align: middle;\n",
       "    }\n",
       "\n",
       "    .dataframe tbody tr th {\n",
       "        vertical-align: top;\n",
       "    }\n",
       "\n",
       "    .dataframe thead th {\n",
       "        text-align: right;\n",
       "    }\n",
       "</style>\n",
       "<table border=\"1\" class=\"dataframe\">\n",
       "  <thead>\n",
       "    <tr style=\"text-align: right;\">\n",
       "      <th></th>\n",
       "      <th>COUNTY</th>\n",
       "      <th>CITY</th>\n",
       "    </tr>\n",
       "  </thead>\n",
       "  <tbody>\n",
       "    <tr>\n",
       "      <th>0</th>\n",
       "      <td>San Bernardino</td>\n",
       "      <td>Adelanto</td>\n",
       "    </tr>\n",
       "    <tr>\n",
       "      <th>1</th>\n",
       "      <td>Los Angeles</td>\n",
       "      <td>Agoura Hills</td>\n",
       "    </tr>\n",
       "    <tr>\n",
       "      <th>2</th>\n",
       "      <td>Alameda</td>\n",
       "      <td>Alameda</td>\n",
       "    </tr>\n",
       "    <tr>\n",
       "      <th>3</th>\n",
       "      <td>Alameda</td>\n",
       "      <td>Albany</td>\n",
       "    </tr>\n",
       "    <tr>\n",
       "      <th>4</th>\n",
       "      <td>Los Angeles</td>\n",
       "      <td>Alhambra</td>\n",
       "    </tr>\n",
       "    <tr>\n",
       "      <th>...</th>\n",
       "      <td>...</td>\n",
       "      <td>...</td>\n",
       "    </tr>\n",
       "    <tr>\n",
       "      <th>477</th>\n",
       "      <td>Napa</td>\n",
       "      <td>Yountville</td>\n",
       "    </tr>\n",
       "    <tr>\n",
       "      <th>478</th>\n",
       "      <td>Siskiyou</td>\n",
       "      <td>Yreka</td>\n",
       "    </tr>\n",
       "    <tr>\n",
       "      <th>479</th>\n",
       "      <td>Sutter</td>\n",
       "      <td>Yuba City</td>\n",
       "    </tr>\n",
       "    <tr>\n",
       "      <th>480</th>\n",
       "      <td>San Bernardino</td>\n",
       "      <td>Yucaipa</td>\n",
       "    </tr>\n",
       "    <tr>\n",
       "      <th>481</th>\n",
       "      <td>San Bernardino</td>\n",
       "      <td>Yucca Valley</td>\n",
       "    </tr>\n",
       "  </tbody>\n",
       "</table>\n",
       "<p>482 rows × 2 columns</p>\n",
       "</div>"
      ],
      "text/plain": [
       "             COUNTY          CITY\n",
       "0    San Bernardino      Adelanto\n",
       "1       Los Angeles  Agoura Hills\n",
       "2           Alameda       Alameda\n",
       "3           Alameda        Albany\n",
       "4       Los Angeles      Alhambra\n",
       "..              ...           ...\n",
       "477            Napa    Yountville\n",
       "478        Siskiyou         Yreka\n",
       "479          Sutter     Yuba City\n",
       "480  San Bernardino       Yucaipa\n",
       "481  San Bernardino  Yucca Valley\n",
       "\n",
       "[482 rows x 2 columns]"
      ]
     },
     "execution_count": 308,
     "metadata": {},
     "output_type": "execute_result"
    }
   ],
   "source": [
    "city_county_path = \"/Users/leslieleiva/Documents/GitHub/California-Medical-Board-2022/Resources/California_Counties_Incorporated_Cities.csv\"\n",
    "city_county_df = pd.DataFrame(pd.read_csv(city_county_path))\n",
    "city_county_df"
   ]
  },
  {
   "cell_type": "code",
   "execution_count": 322,
   "metadata": {},
   "outputs": [
    {
     "ename": "ShapefileException",
     "evalue": "Shapefile Reader requires a shapefile or file-like object. (no dbf file found)",
     "output_type": "error",
     "traceback": [
      "\u001b[0;31m---------------------------------------------------------------------------\u001b[0m",
      "\u001b[0;31mShapefileException\u001b[0m                        Traceback (most recent call last)",
      "Cell \u001b[0;32mIn[322], line 24\u001b[0m\n\u001b[1;32m     21\u001b[0m     \u001b[38;5;28;01mreturn\u001b[39;00m df\n\u001b[1;32m     23\u001b[0m \u001b[38;5;66;03m# Declare a variable for the df to be stored\u001b[39;00m\n\u001b[0;32m---> 24\u001b[0m df \u001b[38;5;241m=\u001b[39m \u001b[43mread_shapefile\u001b[49m\u001b[43m(\u001b[49m\u001b[43msf\u001b[49m\u001b[43m)\u001b[49m\n\u001b[1;32m     26\u001b[0m \u001b[38;5;66;03m#View Dataframe\u001b[39;00m\n\u001b[1;32m     27\u001b[0m df\u001b[38;5;241m.\u001b[39mhead()\n",
      "Cell \u001b[0;32mIn[322], line 17\u001b[0m, in \u001b[0;36mread_shapefile\u001b[0;34m(sf)\u001b[0m\n\u001b[1;32m     11\u001b[0m \u001b[38;5;250m\u001b[39m\u001b[38;5;124;03m\"\"\"\u001b[39;00m\n\u001b[1;32m     12\u001b[0m \u001b[38;5;124;03mRead a shapefile into a Pandas DataFrame with a 'coords' \u001b[39;00m\n\u001b[1;32m     13\u001b[0m \u001b[38;5;124;03mcolumn holding the geometry information. This uses the pyshp\u001b[39;00m\n\u001b[1;32m     14\u001b[0m \u001b[38;5;124;03mpackage.\u001b[39;00m\n\u001b[1;32m     15\u001b[0m \u001b[38;5;124;03m\"\"\"\u001b[39;00m\n\u001b[1;32m     16\u001b[0m fields \u001b[38;5;241m=\u001b[39m [x[\u001b[38;5;241m0\u001b[39m] \u001b[38;5;28;01mfor\u001b[39;00m x \u001b[38;5;129;01min\u001b[39;00m sf\u001b[38;5;241m.\u001b[39mfields][\u001b[38;5;241m1\u001b[39m:]\n\u001b[0;32m---> 17\u001b[0m records \u001b[38;5;241m=\u001b[39m \u001b[43msf\u001b[49m\u001b[38;5;241;43m.\u001b[39;49m\u001b[43mrecords\u001b[49m\u001b[43m(\u001b[49m\u001b[43m)\u001b[49m\n\u001b[1;32m     18\u001b[0m shps \u001b[38;5;241m=\u001b[39m [s\u001b[38;5;241m.\u001b[39mpoints \u001b[38;5;28;01mfor\u001b[39;00m s \u001b[38;5;129;01min\u001b[39;00m sf\u001b[38;5;241m.\u001b[39mshapes()]\n\u001b[1;32m     19\u001b[0m df \u001b[38;5;241m=\u001b[39m pd\u001b[38;5;241m.\u001b[39mDataFrame(columns\u001b[38;5;241m=\u001b[39mfields, data\u001b[38;5;241m=\u001b[39mrecords)\n",
      "File \u001b[0;32m~/Library/Python/3.9/lib/python/site-packages/shapefile.py:1710\u001b[0m, in \u001b[0;36mReader.records\u001b[0;34m(self, fields)\u001b[0m\n\u001b[1;32m   1705\u001b[0m \u001b[38;5;250m\u001b[39m\u001b[38;5;124;03m\"\"\"Returns all records in a dbf file. \u001b[39;00m\n\u001b[1;32m   1706\u001b[0m \u001b[38;5;124;03mTo only read some of the fields, specify the 'fields' arg as a\u001b[39;00m\n\u001b[1;32m   1707\u001b[0m \u001b[38;5;124;03mlist of one or more fieldnames.\u001b[39;00m\n\u001b[1;32m   1708\u001b[0m \u001b[38;5;124;03m\"\"\"\u001b[39;00m\n\u001b[1;32m   1709\u001b[0m \u001b[38;5;28;01mif\u001b[39;00m \u001b[38;5;28mself\u001b[39m\u001b[38;5;241m.\u001b[39mnumRecords \u001b[38;5;129;01mis\u001b[39;00m \u001b[38;5;28;01mNone\u001b[39;00m:\n\u001b[0;32m-> 1710\u001b[0m     \u001b[38;5;28;43mself\u001b[39;49m\u001b[38;5;241;43m.\u001b[39;49m\u001b[43m__dbfHeader\u001b[49m\u001b[43m(\u001b[49m\u001b[43m)\u001b[49m\n\u001b[1;32m   1711\u001b[0m records \u001b[38;5;241m=\u001b[39m []\n\u001b[1;32m   1712\u001b[0m f \u001b[38;5;241m=\u001b[39m \u001b[38;5;28mself\u001b[39m\u001b[38;5;241m.\u001b[39m__getFileObj(\u001b[38;5;28mself\u001b[39m\u001b[38;5;241m.\u001b[39mdbf)\n",
      "File \u001b[0;32m~/Library/Python/3.9/lib/python/site-packages/shapefile.py:1509\u001b[0m, in \u001b[0;36mReader.__dbfHeader\u001b[0;34m(self)\u001b[0m\n\u001b[1;32m   1507\u001b[0m \u001b[38;5;250m\u001b[39m\u001b[38;5;124;03m\"\"\"Reads a dbf header. Xbase-related code borrows heavily from ActiveState Python Cookbook Recipe 362715 by Raymond Hettinger\"\"\"\u001b[39;00m\n\u001b[1;32m   1508\u001b[0m \u001b[38;5;28;01mif\u001b[39;00m \u001b[38;5;129;01mnot\u001b[39;00m \u001b[38;5;28mself\u001b[39m\u001b[38;5;241m.\u001b[39mdbf:\n\u001b[0;32m-> 1509\u001b[0m     \u001b[38;5;28;01mraise\u001b[39;00m ShapefileException(\u001b[38;5;124m\"\u001b[39m\u001b[38;5;124mShapefile Reader requires a shapefile or file-like object. (no dbf file found)\u001b[39m\u001b[38;5;124m\"\u001b[39m)\n\u001b[1;32m   1510\u001b[0m dbf \u001b[38;5;241m=\u001b[39m \u001b[38;5;28mself\u001b[39m\u001b[38;5;241m.\u001b[39mdbf\n\u001b[1;32m   1511\u001b[0m \u001b[38;5;66;03m# read relevant header parts\u001b[39;00m\n",
      "\u001b[0;31mShapefileException\u001b[0m: Shapefile Reader requires a shapefile or file-like object. (no dbf file found)"
     ]
    }
   ],
   "source": [
    "#Read shapely files and plot\n",
    "from shapely.geometry import shape, mapping\n",
    "import shapefile as shp\n",
    "\n",
    "#Read shapefile from path\n",
    "shp_path = '/Users/leslieleiva/Documents/GitHub/California-Medical-Board-2022/Resources/California_County_Boundaries.shp'\n",
    "sf = shp.Reader(shp_path)\n",
    "\n",
    "# Converting shapefile data into a Pandas DataFrame\n",
    "def read_shapefile(sf):\n",
    "    \"\"\"\n",
    "    Read a shapefile into a Pandas DataFrame with a 'coords' \n",
    "    column holding the geometry information. This uses the pyshp\n",
    "    package.\n",
    "    \"\"\"\n",
    "    fields = [x[0] for x in sf.fields][1:]\n",
    "    records = sf.records()\n",
    "    shps = [s.points for s in sf.shapes()]\n",
    "    df = pd.DataFrame(columns=fields, data=records)\n",
    "    df = df.assign(coords=shps)\n",
    "    return df\n",
    "\n",
    "# Declare a variable for the df to be stored\n",
    "df = read_shapefile(sf)\n",
    "\n",
    "#View Dataframe\n",
    "df.head()"
   ]
  },
  {
   "cell_type": "code",
   "execution_count": null,
   "metadata": {},
   "outputs": [
    {
     "data": {
      "text/html": [
       "<div>\n",
       "<style scoped>\n",
       "    .dataframe tbody tr th:only-of-type {\n",
       "        vertical-align: middle;\n",
       "    }\n",
       "\n",
       "    .dataframe tbody tr th {\n",
       "        vertical-align: top;\n",
       "    }\n",
       "\n",
       "    .dataframe thead th {\n",
       "        text-align: right;\n",
       "    }\n",
       "</style>\n",
       "<table border=\"1\" class=\"dataframe\">\n",
       "  <thead>\n",
       "    <tr style=\"text-align: right;\">\n",
       "      <th></th>\n",
       "      <th>City</th>\n",
       "      <th>No. Alerts</th>\n",
       "    </tr>\n",
       "  </thead>\n",
       "  <tbody>\n",
       "    <tr>\n",
       "      <th>0</th>\n",
       "      <td>Agoura Hills</td>\n",
       "      <td>2</td>\n",
       "    </tr>\n",
       "    <tr>\n",
       "      <th>1</th>\n",
       "      <td>Albuquerque, NM</td>\n",
       "      <td>1</td>\n",
       "    </tr>\n",
       "    <tr>\n",
       "      <th>2</th>\n",
       "      <td>Aliso Viejo</td>\n",
       "      <td>1</td>\n",
       "    </tr>\n",
       "    <tr>\n",
       "      <th>3</th>\n",
       "      <td>Altadena</td>\n",
       "      <td>1</td>\n",
       "    </tr>\n",
       "    <tr>\n",
       "      <th>4</th>\n",
       "      <td>Anaheim</td>\n",
       "      <td>3</td>\n",
       "    </tr>\n",
       "    <tr>\n",
       "      <th>...</th>\n",
       "      <td>...</td>\n",
       "      <td>...</td>\n",
       "    </tr>\n",
       "    <tr>\n",
       "      <th>319</th>\n",
       "      <td>Woodland Hills</td>\n",
       "      <td>5</td>\n",
       "    </tr>\n",
       "    <tr>\n",
       "      <th>320</th>\n",
       "      <td>Woodside</td>\n",
       "      <td>1</td>\n",
       "    </tr>\n",
       "    <tr>\n",
       "      <th>321</th>\n",
       "      <td>Yuba City</td>\n",
       "      <td>2</td>\n",
       "    </tr>\n",
       "    <tr>\n",
       "      <th>322</th>\n",
       "      <td>Yucaipa</td>\n",
       "      <td>1</td>\n",
       "    </tr>\n",
       "    <tr>\n",
       "      <th>323</th>\n",
       "      <td>Yucca Valley</td>\n",
       "      <td>1</td>\n",
       "    </tr>\n",
       "  </tbody>\n",
       "</table>\n",
       "<p>324 rows × 2 columns</p>\n",
       "</div>"
      ],
      "text/plain": [
       "                City  No. Alerts\n",
       "0       Agoura Hills           2\n",
       "1    Albuquerque, NM           1\n",
       "2        Aliso Viejo           1\n",
       "3          Altadena            1\n",
       "4           Anaheim            3\n",
       "..               ...         ...\n",
       "319   Woodland Hills           5\n",
       "320         Woodside           1\n",
       "321       Yuba City            2\n",
       "322          Yucaipa           1\n",
       "323     Yucca Valley           1\n",
       "\n",
       "[324 rows x 2 columns]"
      ]
     },
     "execution_count": 266,
     "metadata": {},
     "output_type": "execute_result"
    }
   ],
   "source": [
    "disciplinary_location_df = disciplinary_df.groupby(['City']).count()\n",
    "\n",
    "disciplinary_location_df = disciplinary_location_df.reset_index()\n",
    "\n",
    "del disciplinary_location_df['Month']\n",
    "\n",
    "disciplinary_location_df = disciplinary_location_df.rename(columns={\n",
    "    'Conviction':'No. Alerts'\n",
    "})\n",
    "\n",
    "disciplinary_location_df"
   ]
  },
  {
   "cell_type": "code",
   "execution_count": null,
   "metadata": {},
   "outputs": [],
   "source": [
    "#Declaring variables for plot\n",
    "values = county_data_fips_df['Total Employees'].tolist()\n",
    "fips = county_data_fips_df['County_FIP'].tolist()\n",
    "county = county_data_fips_df['County'].tolist()\n",
    "\n",
    "endpts = list(np.mgrid[min(values):max(values):4j])\n",
    "colorscale = px.colors.sequential.Sunset\n",
    "\n",
    "fig = ff.create_choropleth(\n",
    "    fips=fips,\n",
    "    values=values, \n",
    "    scope=['California'],\n",
    "    show_hover=True, \n",
    "    show_state_data=True,\n",
    "    colorscale=colorscale, \n",
    "    binning_endpoints=endpts, \n",
    "    round_legend_values=True,\n",
    "    plot_bgcolor='rgb(229,229,229)',\n",
    "    paper_bgcolor='rgb(229,229,229)',\n",
    "    legend_title='No. Employees Laid Off by County',\n",
    "    county_outline={'color': 'rgb(255,255,255)', 'width': 0.5},\n",
    "    exponent_format=True\n",
    "    #text = county\n",
    ")\n",
    "\n",
    "#Transparent background\n",
    "fig.update_layout(\n",
    "    {\n",
    "        \"paper_bgcolor\": \"rgba(0, 0, 0, 0)\",\n",
    "        \"plot_bgcolor\": \"rgba(0, 0, 0, 0)\",\n",
    "    }\n",
    ")\n",
    "\n",
    "\n",
    "fig.layout.template = None\n",
    "\n",
    "\n",
    "fig.update_layout(\n",
    "    #title_text = '2011 US Agriculture Exports by State',\n",
    "    geo_scope='usa', # limit map scope to USA\n",
    ")\n",
    "\n",
    "fig.show()"
   ]
  },
  {
   "cell_type": "markdown",
   "metadata": {},
   "source": [
    "<H5>Clean-up SQL Disciplinary Table</H5>"
   ]
  },
  {
   "cell_type": "code",
   "execution_count": null,
   "metadata": {},
   "outputs": [
    {
     "name": "stderr",
     "output_type": "stream",
     "text": [
      "/var/folders/m_/c3cfft1d34jg2yvx6z3cv29h0000gn/T/ipykernel_86033/1696976222.py:23: SettingWithCopyWarning:\n",
      "\n",
      "\n",
      "A value is trying to be set on a copy of a slice from a DataFrame.\n",
      "Try using .loc[row_indexer,col_indexer] = value instead\n",
      "\n",
      "See the caveats in the documentation: https://pandas.pydata.org/pandas-docs/stable/user_guide/indexing.html#returning-a-view-versus-a-copy\n",
      "\n"
     ]
    },
    {
     "data": {
      "text/html": [
       "<div>\n",
       "<style scoped>\n",
       "    .dataframe tbody tr th:only-of-type {\n",
       "        vertical-align: middle;\n",
       "    }\n",
       "\n",
       "    .dataframe tbody tr th {\n",
       "        vertical-align: top;\n",
       "    }\n",
       "\n",
       "    .dataframe thead th {\n",
       "        text-align: right;\n",
       "    }\n",
       "</style>\n",
       "<table border=\"1\" class=\"dataframe\">\n",
       "  <thead>\n",
       "    <tr style=\"text-align: right;\">\n",
       "      <th></th>\n",
       "      <th>Date</th>\n",
       "      <th>Disciplinary Action</th>\n",
       "      <th>Month</th>\n",
       "    </tr>\n",
       "  </thead>\n",
       "  <tbody>\n",
       "    <tr>\n",
       "      <th>257</th>\n",
       "      <td>2022-03-15</td>\n",
       "      <td>PROBATION COMPLETED.</td>\n",
       "      <td>03</td>\n",
       "    </tr>\n",
       "    <tr>\n",
       "      <th>578</th>\n",
       "      <td>2022-03-22</td>\n",
       "      <td>PROBATION COMPLETED.</td>\n",
       "      <td>03</td>\n",
       "    </tr>\n",
       "    <tr>\n",
       "      <th>589</th>\n",
       "      <td>2022-02-11</td>\n",
       "      <td>FIVE YEARS PROBATION WITH VARIOUS TERMS AND CO...</td>\n",
       "      <td>02</td>\n",
       "    </tr>\n",
       "    <tr>\n",
       "      <th>598</th>\n",
       "      <td>2022-10-30</td>\n",
       "      <td>PROBATION COMPLETED.</td>\n",
       "      <td>10</td>\n",
       "    </tr>\n",
       "    <tr>\n",
       "      <th>652</th>\n",
       "      <td>2022-06-21</td>\n",
       "      <td>SURRENDER OF LICENSE.</td>\n",
       "      <td>06</td>\n",
       "    </tr>\n",
       "  </tbody>\n",
       "</table>\n",
       "</div>"
      ],
      "text/plain": [
       "          Date                                Disciplinary Action Month\n",
       "257 2022-03-15                               PROBATION COMPLETED.    03\n",
       "578 2022-03-22                               PROBATION COMPLETED.    03\n",
       "589 2022-02-11  FIVE YEARS PROBATION WITH VARIOUS TERMS AND CO...    02\n",
       "598 2022-10-30                               PROBATION COMPLETED.    10\n",
       "652 2022-06-21                              SURRENDER OF LICENSE.    06"
      ]
     },
     "execution_count": 165,
     "metadata": {},
     "output_type": "execute_result"
    }
   ],
   "source": [
    "import datetime as dt\n",
    "\n",
    "#Delete Unneeded columns\n",
    "DisciplinaryAction_df = dataframes[tables_list[0]][[\n",
    "    'EffectiveDate',\n",
    "    'Description',\n",
    "]]\n",
    "\n",
    "DisciplinaryAction_df = DisciplinaryAction_df.rename(columns={\n",
    "    'EffectiveDate':'Date',\n",
    "    'Description':'Disciplinary Action'\n",
    "})\n",
    "\n",
    "# # Convert 'Date' column to datetime\n",
    "DisciplinaryAction_df['Date'] = pd.to_datetime(DisciplinaryAction_df['Date'],\n",
    "                                               format='%Y-%m-%d %H:%M:%S',\n",
    "                                               errors='coerce'\n",
    "                                               )\n",
    "\n",
    "# Filter for only the rows where the 'Date' column is in the year 2022\n",
    "DisciplinaryAction_df_2022 = DisciplinaryAction_df[DisciplinaryAction_df['Date'].dt.year == 2022]\n",
    "\n",
    "DisciplinaryAction_df_2022['Month'] = DisciplinaryAction_df_2022['Date'].dt.strftime('%m')\n",
    "\n",
    "disciplinary_list = list(DisciplinaryAction_df_2022['Disciplinary Action'].unique())\n",
    "\n",
    "# Path to the output file\n",
    "output_file = \"Output/List_DisciplinaryAction.txt\"\n",
    "\n",
    "# Open the file in write mode\n",
    "with open(output_file, 'w') as file:\n",
    "    for item in disciplinary_list:\n",
    "        file.write(\"%s\\n\" % item)  # Write each item followed by a newline character\n",
    "\n",
    "DisciplinaryAction_df_2022.head()"
   ]
  },
  {
   "cell_type": "code",
   "execution_count": null,
   "metadata": {},
   "outputs": [
    {
     "name": "stderr",
     "output_type": "stream",
     "text": [
      "/var/folders/m_/c3cfft1d34jg2yvx6z3cv29h0000gn/T/ipykernel_86033/1940185099.py:238: SettingWithCopyWarning:\n",
      "\n",
      "\n",
      "A value is trying to be set on a copy of a slice from a DataFrame.\n",
      "Try using .loc[row_indexer,col_indexer] = value instead\n",
      "\n",
      "See the caveats in the documentation: https://pandas.pydata.org/pandas-docs/stable/user_guide/indexing.html#returning-a-view-versus-a-copy\n",
      "\n"
     ]
    },
    {
     "data": {
      "text/html": [
       "<div>\n",
       "<style scoped>\n",
       "    .dataframe tbody tr th:only-of-type {\n",
       "        vertical-align: middle;\n",
       "    }\n",
       "\n",
       "    .dataframe tbody tr th {\n",
       "        vertical-align: top;\n",
       "    }\n",
       "\n",
       "    .dataframe thead th {\n",
       "        text-align: right;\n",
       "    }\n",
       "</style>\n",
       "<table border=\"1\" class=\"dataframe\">\n",
       "  <thead>\n",
       "    <tr style=\"text-align: right;\">\n",
       "      <th></th>\n",
       "      <th>Date</th>\n",
       "      <th>Disciplinary Action</th>\n",
       "      <th>Month</th>\n",
       "    </tr>\n",
       "  </thead>\n",
       "  <tbody>\n",
       "    <tr>\n",
       "      <th>257</th>\n",
       "      <td>2022-03-15</td>\n",
       "      <td>PROBATION COMPLETED</td>\n",
       "      <td>03</td>\n",
       "    </tr>\n",
       "    <tr>\n",
       "      <th>578</th>\n",
       "      <td>2022-03-22</td>\n",
       "      <td>PROBATION COMPLETED</td>\n",
       "      <td>03</td>\n",
       "    </tr>\n",
       "    <tr>\n",
       "      <th>589</th>\n",
       "      <td>2022-02-11</td>\n",
       "      <td>5 YR PROBATION</td>\n",
       "      <td>02</td>\n",
       "    </tr>\n",
       "    <tr>\n",
       "      <th>598</th>\n",
       "      <td>2022-10-30</td>\n",
       "      <td>PROBATION COMPLETED</td>\n",
       "      <td>10</td>\n",
       "    </tr>\n",
       "    <tr>\n",
       "      <th>652</th>\n",
       "      <td>2022-06-21</td>\n",
       "      <td>SURRENDER OF LICENSE</td>\n",
       "      <td>06</td>\n",
       "    </tr>\n",
       "    <tr>\n",
       "      <th>...</th>\n",
       "      <td>...</td>\n",
       "      <td>...</td>\n",
       "      <td>...</td>\n",
       "    </tr>\n",
       "    <tr>\n",
       "      <th>9279</th>\n",
       "      <td>2022-03-11</td>\n",
       "      <td>8 YR PROBATION</td>\n",
       "      <td>03</td>\n",
       "    </tr>\n",
       "    <tr>\n",
       "      <th>9285</th>\n",
       "      <td>2022-07-29</td>\n",
       "      <td>PUBLIC REPRIMAND</td>\n",
       "      <td>07</td>\n",
       "    </tr>\n",
       "    <tr>\n",
       "      <th>9294</th>\n",
       "      <td>2022-12-27</td>\n",
       "      <td>SURRENDER OF LICENSE</td>\n",
       "      <td>12</td>\n",
       "    </tr>\n",
       "    <tr>\n",
       "      <th>9299</th>\n",
       "      <td>2022-10-14</td>\n",
       "      <td>SUSPENSION</td>\n",
       "      <td>10</td>\n",
       "    </tr>\n",
       "    <tr>\n",
       "      <th>9316</th>\n",
       "      <td>2022-11-30</td>\n",
       "      <td>ACCUSATION FILED</td>\n",
       "      <td>11</td>\n",
       "    </tr>\n",
       "  </tbody>\n",
       "</table>\n",
       "<p>502 rows × 3 columns</p>\n",
       "</div>"
      ],
      "text/plain": [
       "           Date   Disciplinary Action Month\n",
       "257  2022-03-15   PROBATION COMPLETED    03\n",
       "578  2022-03-22   PROBATION COMPLETED    03\n",
       "589  2022-02-11        5 YR PROBATION    02\n",
       "598  2022-10-30   PROBATION COMPLETED    10\n",
       "652  2022-06-21  SURRENDER OF LICENSE    06\n",
       "...         ...                   ...   ...\n",
       "9279 2022-03-11        8 YR PROBATION    03\n",
       "9285 2022-07-29      PUBLIC REPRIMAND    07\n",
       "9294 2022-12-27  SURRENDER OF LICENSE    12\n",
       "9299 2022-10-14            SUSPENSION    10\n",
       "9316 2022-11-30      ACCUSATION FILED    11\n",
       "\n",
       "[502 rows x 3 columns]"
      ]
     },
     "execution_count": 166,
     "metadata": {},
     "output_type": "execute_result"
    }
   ],
   "source": [
    "#Create a dictionary that will be used to correct typos and categorize data\n",
    "reversed_dict = {\n",
    "    'PROBATION COMPLETED':'PROBATION COMPLETED',\n",
    "    'PROBATION COMPLETED.':'PROBATION COMPLETED',\n",
    "    \"FIVE YEARS PROBATION WITH VARIOUS TERMS AND CONDITIONS. RESTRICTIONS: SHALL NOT ORDER, PRESCRIBE, DISPENSE, ADMINISTER, FURNISH, OR POSSESS SCHEDULE II CONTROLLED SUBSTANCES, AND SHALL NOT ISSUE AN ORAL OR WRITTEN RECOMMENDATION OR APPROVAL TO A PATIENT OR A PATIENT'S PRIMARY CAREGIVER FOR THE POSSESSION OR CULTIVATION OF MARIJUANA FOR THE PERSONAL MEDICAL PURPOSES OF THE PATIENT; AND PROHIBITED FROM SUPERVISING PHYSICIAN ASSISTANTS AND ADVANCED PRACTICE NURSES.\":'5 YR PROBATION',\n",
    "    \"FIVE YEARS PROBATION WITH VARIOUS TERMS AND CONDITIONS. RESTRICTIONS: PROHIBITED FROM ENGAGING IN CONCIERGE SERVICE PRACTICE; AND PROHIBITED FROM SUPERVISING PHYSICIAN ASSISTANTS AND ADVANCED PRACTICE NURSES.\":'5 YR PROBATION',\n",
    "    \"FIVE YEARS PROBATION WITH VARIOUS TERMS AND CONDITIONS. RESTRICTIONS: PROHIBITED FROM PERFORMING COSMETIC SURGERY OR COSMETIC PROCEDURES OR UTILIZING INTRAVENOUS CONSCIOUS SEDATION; AND PROHIBITED FROM SUPERVISING PHYSICIAN ASSISTANTS AND ADVANCED PRACTICE NURSES.\":'5 YR PROBATION',\n",
    "    \"FIVE YEARS PROBATION WITH VARIOUS TERMS AND CONDITIONS. DURING PROBATION, DR. AHMAD IS PROHIBITED FROM SUPERVISING PHYSICIAN ASSISTANTS AND ADVANCED PRACTICE NURSES.\":'5 YR PROBATION',\n",
    "    \"FIVE YEARS PROBATION WITH VARIOUS TERMS AND CONDITIONS.\":'5 YR PROBATION',\n",
    "    \"FIVE YEARS PROBATION WITH VARIOUS TERMS AND CONDITIONS. RESTRICTIONS: PROHIBITED FROM ISSUING AN ORAL OR WRITTEN RECOMMENDATION OR APPROVAL TO A PATIENT OR A PATIENT'S PRIMARY CAREGIVER FOR THE POSSESSION OR CULTIVATION OF MARIJUANA FOR THE PERSONAL MEDICAL PURPOSES OF THE PATIENT; AND PROHIBITED FROM SUPERVISING PHYSICIAN ASSISTANTS AND ADVANCED PRACTICE NURSES.\":'5 YR PROBATION',\n",
    "    \"FIVE YEARS PROBATION WITH VARIOUS TERMS AND CONDITIONS. DURING PROBATION, DR. MCKENZIE IS PROHIBITED FROM SUPERVISING PHYSICIAN ASSISTANTS AND ADVANCED PRACTICE NURSES.\":'5 YR PROBATION',\n",
    "    \"FIVE YEARS PROBATION WITH VARIOUS TERMS AND CONDITIONS. SHALL NOT ORDER, PRESCRIBE, DISPENSE, ADMINISTER, FURNISH, OR POSSESS ANY OPIOID MEDICATIONS EXCEPT FOR BUPRENORPHINE, PROVIDED DR. DYNE MAINTAINS A VALID WAIVER AS A QUALIFIED PRACTITIONER. DURING PROBATION, DR. DYNE IS PROHIBITED FROM SUPERVISING PHYSICIAN ASSISTANTS AND ADVANCED PRACTICE NURSES.\":'5 YR PROBATION',\n",
    "    \"FIVE YEARS PROBATION WITH VARIOUS TERMS AND CONDITIONS. SHALL NOT ORDER, PRESCRIBE, DISPENSE, ADMINISTER, FURNISH, OR POSSESS ANY SCHEDULE II CONTROLLED SUBSTANCE. DURING PROBATION, DR. CAMHI IS PROHIBITED FROM SUPERVISING PHYSICIAN ASSISTANTS.\":'5 YR PROBATION',\n",
    "    \"FIVE YEARS PROBATION WITH VARIOUS TERMS AND CONDITIONS. RESTRICTIONS: PROHIBITED FROM SUPERVISING PHYSICIAN ASSISTANTS AND ADVANCED PRACTICE NURSES; AND PROHIBITED FROM PRACTICING PSYCHIATRY.\":'5 YR PROBATION',\n",
    "    \"FIVE YEARS PROBATION WITH VARIOUS TERMS AND CONDITIONS. DURING PROBATION, DR. SAAL IS PROHIBITED FROM SUPERVISING PHYSICIAN ASSISTANTS AND ADVANCED PRACTICE NURSES.\":'5 YR PROBATION',\n",
    "    \"FIVE YEARS PROBATION WITH VARIOUS TERMS AND CONDITIONS. DURING PROBATION, DR. SAUNDERS IS PROHIBITED FROM SUPERVISING PHYSICIAN ASSISTANTS AND ADVANCED PRACTICE NURSES.\":'5 YR PROBATION',\n",
    "    \"FIVE YEARS PROBATION WITH VARIOUS TERMS AND CONDITIONS. DURING PROBATION, DR. PALLAS IS PROHIBITED FROM SUPERVISING PHYSICIAN ASSISTANTS AND ADVANCED PRACTICE NURSES.\":'5 YR PROBATION',\n",
    "    \"FIVE YEARS PROBATION WITH VARIOUS TERMS AND CONDITIONS. SHALL NOT PRACTICE COSMETIC MEDICINE UNTIL SUCESSFULLY COMPLETING THE CLINICAL COMPETENCE ASSSESSMENT PROGRAM. DURING PROBATION, DR. MILSTEIN IS PROHIBITED FROM SUPERVISING PHYSICIAN ASSISTANTS AND ADVANCED PRACTICE NURSES.\":'5 YR PROBATION',\n",
    "    \"FIVE YEARS PROBATION WITH VARIOUS TERMS AND CONDITIONS. DURING PROBATION, DR. GUPTA IS PROHIBITED FROM SUPERVISING PHYSICIAN ASSISTANTS AND ADVANCED PRACTICE NURSES.\":'5 YR PROBATION',\n",
    "    \"FIVE YEARS PROBATION WITH VARIOUS TERMS AND CONDITIONS. RESTRICTIONS: PROHIBITED FROM ENGAGING IN THE SOLO PRACTICE OF MEDICINE; AND PROHIBITED FROM SUPERVISING PHYSICIAN ASSISTANTS AND ADVANCED PRACTICE NURSES.\":'5 YR PROBATION',\n",
    "    \"FIVE YEARS PROBATION WITH VARIOUS TERMS AND CONDITIONS. RESTRICTIONS: PROHIBITED FROM SELF-PRESCRIBING PRESCRIPTION DRUGS/MEDICATIONS; AND PROHIBTED FROM ENGAGING IN THE SOLO PRACTICE OF MEDICINE.\":'5 YR PROBATION',\n",
    "    \"FIVE YEARS' PROBATION TO BE SERVED CONCURRENTLY WITH AND UNDER THE SAME TERMS AND CONDITIONS IN CASE NUMBER 03-2013-234324, WITH ADDITIONAL TERMS AND CONDITIONS. SHALL NOT ENGAGE IN THE PRACTICE OF MEDICINE UNTIL COMPLETION OF THE CLINICAL DIAGNOSTIC EVALUATION AND NOTFIIED BY THE BOARD OR ITS DESIGNEE THAT DR. APAYDIN IS FIT TO PRACTICE MEDICINE SAFELY (CONDITION MET).\":'5 YR PROBATION',\n",
    "    \"FIVE YEARS PROBATION WITH VARIOUS TERMS AND CONDITIONS. DURING PROBATION, DR. MACMURRAY IS PROHIBITED FROM SUPERVISING PHYSICIAN ASSISTANTS AND ADVANCED PRACTICE NURSES.\":'5 YR PROBATION',\n",
    "    \"FIVE YEARS PROBATION WITH VARIOUS TERMS AND CONDITIONS. DURING PROBATION, DR. FRISOLI IS PROHIBITED FROM SUPERVISING PHYSICIAN ASSISTANTS AND ADVANCED PRACTICE NURSES.\":'5 YR PROBATION',\n",
    "    \"FIVE YEARS PROBATION WITH VARIOUS TERMS AND CONDITIONS. DURING PROBATION, DR. JAZAYERI IS PROHIBITED FROM SUPERVISING PHYSICIAN ASSISTANTS AND ADVANCED PRACTICE NURSES.\":'5 YR PROBATION',\n",
    "    \"FIVE YEARS PROBATION WITH VARIOUS TERMS AND CONDITIONS. RESTRICTIONS; PROHIBITED FROM ORDERING, PRESCRIBING, DISPENSING, ADMINISTERING, FURNISHING, OR POSSESSING ANY CONTROLLED SUBSTANCES, EXCEPT FOR THOSE DRUGS LISTED IN SCHEDULE V, UNTIL SUCCESSFUL COMPLETION OF A PRESCRIBING PRACTICES COURSE, AND FROM ISSUING AN ORAL OR WRITTEN RECOMMENDATION OR APPROVAL TO POSSESS OR CULTIVATE MARIJUANA; AND PROHIBITED FROM SUPERVISING PHYSICIAN ASSISTANTS AND ADVANCED PRACTICE NURSES.\":'5 YR PROBATION',\n",
    "    \"FIVE YEARS PROBATION WITH VARIOUS TERMS AND CONDITIONS. DURING PROBATION, DR. LE IS PROHIBITED FROM ENGAGING IN THE SOLO PRACTICE OF MEDICINE.\":'5 YR PROBATION',\n",
    "    \"FIVE YEARS PROBATION WITH VARIOUS TERMS AND CONDITIONS. DURING PROBATION, DR. PREIKSAITIS IS PROHIBITED FROM SUPERVISING PHYSICIAN ASSISTANTS AND ADVANCED PRACTICE NURSES.\":'5 YR PROBATION',\n",
    "    \"FIVE YEARS PROBATION WITH VARIOUS TERMS AND CONDITIONS. DURING PROBATION, DR. HAKALA IS PROHIBITED FROM SUPERVISING PHYSICIAN ASSISTANTS AND ADVANCED PRACTICE NURSES.\":'5 YR PROBATION',\n",
    "    \"FIVE YEARS PROBATION WITH VARIOUS TERMS AND CONDITIONS. RESTRICTIONS: PROHIBITED FROM PRESCRIBING SCHEDULE II CONTROLLED SUBSTANCES TO PATIENTS FOR CHRONIC PAIN MANAGEMENT THERAPY BUT CAN PRESCRIBE SCHEDULE II CONTROLLED SUBSTANCES TO TREAT ACUTE PAIN IN A QUANTITY THAT IS MEDICALLY CONSISTENT WITH A FIVE-DAY PRESCRIPTION; AND PROHIBITED FROM SUPERVISING PHYSICIAN ASSISTANTS AND ADVANCED PRACTICE NURSES.\":'5 YR PROBATION',\n",
    "    \"FIVE YEARS PROBATION WITH VARIOUS TERMS AND CONDITIONS. DURING PROBATION, DR. NGUYEN IS PROHIBITED FROM SUPERVISING PHYSICIAN ASSISTANTS AND ADVANCED PRACTICE NURSES.\":'5 YR PROBATION',\n",
    "    \"FIVE YEARS PROBATION WITH VARIOUS TERMS AND CONDITIONS. RESTRICTIONS: PROHIBITED FROM WRITING, ISSUING OR OTHERWISE AIDING AND ABETTING THE WRITING OR ISSUANCE OF EXEMPTIONS FROM ANY VACCINE FOR ANY PATIENT OR OTHER PERSON; AND PROHIBITED FROM SUPERVISING PHYSICIAN ASSISTANTS AND ADVANCED PRACTICE NURSES.\":'5 YR PROBATION',\n",
    "    \"FIVE YEARS PROBATION WITH VARIOUS TERMS AND CONDITIONS. SHALL HAVE A THIRD-PARTY CHAPERONE PRESENT WHILE CONSULTING, EXAMINING OR TREATING FEMALE PATIENTS. RESTRICTIONS: PROHIBITED FROM ENGAGING IN THE SOLO PRACTICE OF MEDICINE; AND PROHIBITED FROM SUPERVISING PHYSICIAN ASSISTANTS AND ADVANCED PRACTICE NURSES.\":'5 YR PROBATION',\n",
    "    \"FIVE YEARS PROBATION WITH VARIOUS TERMS AND CONDITIONS. DURING PROBATION, DR. BABAALI IS PROHIBITED FROM SUPERVISING PHYSICIAN ASSISTANTS AND ADVANCED PRACTICE NURSES.\":'5 YR PROBATION',\n",
    "    \"FIVE YEARS PROBATION WITH VARIOUS TERMS AND CONDITIONS. RESTRICTIONS: PROHIBITED FROM ENGAGING IN THE SOLO PRACTICE OF MEDICINE; PROHIBITED FROM PERFORMING STRABISMUS SURGERIES; AND PROHIBITED FROM SUPERVISING PHYSICIAN ASSISTANTS AND ADVANCED PRACTICE NURSES.\":'5 YR PROBATION',\n",
    "    \"FIVE YEARS PROBATION WITH VARIOUS TERMS AND CONDITIONS. RESTRICTIONS: PROHIBITED FROM ORDERING, PRESCRIBING, DISPENSING, ADMINISTERING, FURNISHING OR POSSESSING ANY CONTROLLED SUBSTANCES EXCEPT FOR THOSE DRUGS LISTED IN SCHEDULES III, IV, AND V (THIS RESTRICTION SHALL NOT APPLY TO CONTROLLED SUBSTANCES ADMINISTERED TO PATIENTS WHO ARE ADMITTED TO THE HOSPITAL AND ONLY FOR THEIR IMMEDIATE USE WHILE THEY REMAIN SO ADMITTED), AND FROM ISSUING AN ORAL OR WRITTEN RECOMMENDATION OR APPROVAL TO POSSES OR CULTIVATE MARIJUANA; AND PROHIBITED FROM SUPERVISING PHYSICIAN ASSISTANTS AND ADVANCED PRACTICE NURSES.\":'5 YR PROBATION',\n",
    "    \"FIVE YEARS PROBATION WITH VARIOUS TERMS AND CONDITIONS. RESTRICTIONS: PROHIBITED FROM PERFORMING COSMETIC PROCEDURES WITH A FRACTIONATED CO2 LASER AND FROM DELEGATING THE USE OF A FRACTIONATED CO2 LASER OR A MULTIWAVE LOCKED SYSTEM (MLS) LASER; AND PROHIBITED FROM SUPERVISING PHYSICIAN ASSISTANTS AND ADVANCED PRACTICE NURSES.\":'5 YR PROBATION',\n",
    "    \"FIVE YEARS PROBATION WITH VARIOUS TERMS AND CONDITIONS. RESTRICTIONS: PROHIBITED FROM ENGAGING IN THE SOLO PRACTICE OF MEDICINE; PROHIBITED FROM SUPERVISING PHYSICIAN ASSISTANTS AND ADVANCED PRACTICE NURSES.\":'5 YR PROBATION',\n",
    "    \"FOUR YEARS PROBATION WITH VARIOUS TERMS AND CONDITIONS. DURING PROBATION, DR. POLAK IS PROHIBITED FROM SUPERVISING PHYSICIAN ASSISTANTS AND ADVANCED PRACTICE NURSES.\":'4 YR PROBATION',\n",
    "    \"FOUR YEARS PROBATION WITH VARIOUS TERMS AND CONDITIONS. RESTRICTIONS: PROHIBITED FROM PROVIDING CARE AND TREATMENT TO PATIENTS UNDER SIXTY (60) DAYS OF AGE; AND PROHIBITED FROM SUPERVISING PHYSICIAN ASSISTANTS AND ADVANCED PRACTICE NURSES.\":'4 YR PROBATION',\n",
    "    \"FOUR YEARS' PROBATION TO RUN CONCURRENT, BUT SEPARATE AND APART FROM, THE PROBATIONARY ORDER IN CASE NO. 800-2015-016568, WITH VARIOUS TERMS AND CONDITIONS. RESTRICTIONS: PROHIBITED FROM SUPERVISING PHYSICIAN ASSISTANTS AND ADVANCED PRACTICE NURSES.\":'4 YR PROBATION',\n",
    "    \"FOUR YEARS PROBATION WITH VARIOUS TERMS AND CONDITIONS. DURING PROBATION, DR. POLIQUIN IS PROHIBITED FROM SUPERVISING PHYSICIAN ASSISTANTS AND ADVANCED PRACTICE NURSES.\":'4 YR PROBATION',\n",
    "    \"FOUR YEARS PROBATION WITH VARIOUS TERMS AND CONDITIONS. DURING PROBATION, DR. YAREMA IS PROHIBITED FROM SUPERVISING PHYSICIAN ASSISTANTS AND ADVANCED PRACTICE NURSES.\":'4 YR PROBATION',\n",
    "    \"FOUR YEARS PROBATION WITH VARIOUS TERMS AND CONDITIONS. DURING PROBATION, DR. RABIN IS PROHIBITED FROM SUPERVISING PHYSICIAN ASSISTANTS AND ADVANCED PRACTICE NURSES.\":'4 YR PROBATION',\n",
    "    \"FOUR YEARS PROBATION WITH VARIOUS TERMS AND CONDITIONS. DURING PROBATION, DR. IBRAHIM IS PROHIBITED FROM SUPERVISING PHYSICIAN ASSISTANTS AND ADVANCED PRACTICE NURSES.\":'4 YR PROBATION',\n",
    "    \"FOUR YEARS PROBATION WITH VARIOUS TERMS AND CONDITIONS. DURING PROBATION, DR. BEAUCLAIR IS PROHIBITED FROM SUPERVISING ADVANCED PRACTICE NURSES.\":'4 YR PROBATION',\n",
    "    \"FOUR YEARS PROBATION WITH VARIOUS TERMS AND CONDITIONS.\":'4 YR PROBATION',\n",
    "    \"FOUR YEARS PROBATION WITH VARIOUS TERMS AND CONDITIONS. DURING PROBATION, DR. PERSAUD IS PROHIBITED FROM SUPERVISING PHYSICIAN ASSISTANTS AND ADVANCED PRACTICE NURSES.\":'4 YR PROBATION',\n",
    "    \"FOUR YEARS PROBATION WITH VARIOUS TERMS AND CONDITIONS AND A 30 DAY ACTUAL SUSPENSION FROM THE PRACTICE OF MEDICINE TO BE COMPLETED BETWEEN JANUARY 1, 2023, AND JANUARY 1, 2024. DURING PROBATION, DR. PURCELL IS PROHIBITED FROM SUPERVISING PHYSICIAN ASSISTANTS AND ADVANCED PRACTICE NURSES.\":'4 YR PROBATION',\n",
    "    \"FOUR YEARS PROBATION WITH VARIOUS TERMS AND CONDITIONS. RESTRICTIONS: PROHIBITED FROM PERFORMING ANY AND ALL COSMETIC AND/OR AESTHETIC SURGICAL PROCEDURES OF ANY KIND, ON ANY PATIENT, AT ANY LOCATION; AND PROHIBITED FROM SUPERVISING PHYSICIAN ASSISTANTS AND ADVANCED PRACTICE NURSES.\":'4 YR PROBATION',\n",
    "    \"FOUR YEARS PROBATION WITH VARIOUS TERMS AND CONDITIONS. DURING PROBATION, DR. ROSENBERG IS PROHIBITED FROM SUPERVISING PHYSICIAN ASSISTANTS AND ADVANCED PRACTICE NURSES.\":'4 YR PROBATION',\n",
    "    \"FOUR YEARS PROBATION WITH VARIOUS TERMS AND CONDITIONS. DURING PROBATION, DR. KHAN IS PROHIBITED FROM SUPERVISING PHYSICIAN ASSISTANTS.\":'4 YR PROBATION',\n",
    "    \"FOUR YEARS PROBATION WITH VARIOUS TERMS AND CONDITIONS. RESTRICTIONS: PROHIBITED FROM PERFORMING COSMETIC LASER PROCEDURES EXCEPT FOR COSMETIC LASER HAIR REMOVAL, PROHIBITED FROM SUPERVISING ANYONE PERFORMING COSMETIC LASER PROCEDURES AND/OR PROHIBITED FROM DIRECTLY PROFITING IN ANY WAY FROM THE PERFORMANCE OF COSMETIC LASER PROCEDURES BEING DONE BY DR. GOODWIN OR SOMEONE UNDER HER SUPERVISION; AND PROHIBITED FROM SUPERVISING PHYSICIAN ASSISTANTS AND ADVANCED PRACTICE NURSES.\":'4 YR PROBATION',\n",
    "    \"FOUR YEARS PROBATION WITH VARIOUS TERMS AND CONDITIONS. DURING PROBATION, DR. KIRZNER IS PROHIBITED FROM SUPERVISING PHYSICIAN ASSISTANTS AND ADVANCED PRACTICE NURSES.\":'4 YR PROBATION',\n",
    "    \"FOUR YEARS PROBATION WITH VARIOUS TERMS AND CONDITIONS. DURING PROBATION, DR. MARIANO IS PROHIBITED FROM ORDERING, PRESCRIBING, DISPENSING, ADMINISTERING, FURNISHING, OR POSSESSING ANY CONTROLLED SUBSTANCES, EXCEPT FOR THOSE DRUGS LISTED IN SCHEDULE IV AND V, AND FROM ISSUING AN ORAL OR WRITTEN RECOMMENDATION OR APPROVAL TO POSSESS OR CULTIVATE MARIJUANA.\":'4 YR PROBATION',\n",
    "    \"FOUR YEARS PROBATION WITH VARIOUS TERMS AND CONDITIONS. RESTRICTIONS; PROHIBITED FROM ENGAGING IN THE SOLO PRACTICE OF MEDICINE; AND PROHIBITED FROM SUPERVISING PHYSICIAN ASSISTANTS AND ADVANCED PRACTICE NURSES.\":'4 YR PROBATION',\n",
    "    \"THREE YEARS PROBATION WITH VARIOUS TERMS AND CONDITIONS. DURING PROBATION, DR. LEE IS PROHBITED FROM ENGAGING IN THE SOLO PRACTICE OF MEDICINE.\":'3 YR PROBATION',\n",
    "    \"THREE YEARS PROBATION WITH VARIOUS TERMS AND CONDITIONS. RESTRICTIONS: PROHIBITED FROM ORDERING, PRESCRIBING, DISPENSING, ADMINISTERING, FURNISHING, OR POSSESSING ANY CONTROLLED SUBSTANCES AND FROM ISSUING AN ORAL OR WRITTEN RECOMMENDATION OR APPROVAL TO POSSESS OR CULTIVATE MARIJUANA UNTIL SUCCESSFUL COMPLETION OF A CLINICAL COMPETENCE ASSESSMENT PROGRAM; PROHIBITED FROM ENGAGING IN THE SOLO PRACTICE OF MEDICINE; PROHIBITED FROM PROVIDING TREATMENT TO DR. KIM?S FAMILY MEMBERS OR EMPLOYEES, EXCEPT TO DR. KIM?S FATHER IN EMERGENCY SITUATIONS ONLY ; AND PROHIBITED FROM SUPERVISING PHYSICIAN ASSISTANTS OR ADVANCED PRACTICE NURSES.\":'3 YR PROBATION',\n",
    "    \"THREE YEARS PROBATION WITH VARIOUS TERMS AND CONDITIONS. DURING PROBATION, DR. LIPSHITZ IS PROHIBITED FROM SUPERVISING PHYSICIAN ASSISTANTS AND ADVANCED PRACTICE NURSES.\":'3 YR PROBATION',\n",
    "    \"THREE YEARS PROBATION WITH VARIOUS TERMS AND CONDITIONS. DURING PROBATION, DR. LARDON IS PROHIBITED FROM SUPERVISING PHYSICIAN ASSISTANTS AND ADVANCED PRACTICE NURSES.\":'3 YR PROBATION',\n",
    "    \"THREE YEARS PROBATION WITH VARIOUS TERMS AND CONDITIONS. DURING PROBATION, DR. NIELSEN IS PROHIBITED FROM SUPERVISING PHYSICIAN ASSISTANTS AND ADVANCED PRACTICE NURSES.\":'3 YR PROBATION',\n",
    "    \"THREE YEARS PROBATION WITH VARIOUS TERMS AND CONDITIONS. DURING PROBATION, DR. BHANDARI IS PROHIBITED FROM SUPERVISING PHYSICIAN ASSISTANTS AND ADVANCED PRACTICE NURSES.\":'3 YR PROBATION',\n",
    "    \"THREE YEARS PROBATION WITH VARIOUS TERMS AND CONDITIONS. DURING PROBATION, DR. BEYRER IS PROHIBITED FROM SUPERVISING PHYSICIAN ASSISTANTS AND ADVANCED PRACTICE NURSES.\":'3 YR PROBATION',\n",
    "    \"THREE YEARS PROBATION WITH VARIOUS TERMS AND CONDITIONS. DURING PROBATION, DR. MCCALLION IS PROHIBITED FROM SUPERVISING PHYSICIAN ASSISTANTS AND ADVANCED PRACTICE NURSES.\":'3 YR PROBATION',\n",
    "    \"THREE YEARS PROBATION WITH VARIOUS TERMS AND CONDITIONS. DURING PROBATION, DR. KLASSEN IS PROHIBITED FROM SUPERVISING PHYSICIAN ASSISTANTS AND ADVANCED PRACTICE NURSES.\":'3 YR PROBATION',\n",
    "    \"THREE YEARS PROBATION WITH VARIOUS TERMS AND CONDITIONS.\":'3 YR PROBATION',\n",
    "    \"THREE YEARS PROBATION WITH VARIOUS TERMS AND CONDITIONS. DURING PROBATION, DR. WILLIAMS IS PROHIBITED FROM ENGAGING IN THE SOLO PRACTICE OF MEDICINE.\":'3 YR PROBATION',\n",
    "    \"THREE YEARS PROBATION WITH VARIOUS TERMS AND CONDITIONS. RESTRICTIONS: PROHIBITED FROM WRITING, ISSUING OR OTHERWISE AIDING AND ABETTING THE WRITING OR ISSUANCE OF EXEMPTIONS FROM ANY VACCINE FOR ANY PATIENT OR OTHER PERSONS; AND PROHIBITED FROM SUPERVISING PHYSICIAN ASSISTANTS AND ADVANCED PRACTICE NURSES.\":'3 YR PROBATION',\n",
    "    \"THREE YEARS PROBATION WITH VARIOUS TERMS AND CONDITIONS. RESTRICTIONS: PROHIBITED FROM HOLDING ANY OWNERSHIP INTEREST IN A MEDICAL OFFICE OR CLINIC; AND PROHIBITED FROM SUPERVISING PHYSICIAN ASSISTANTS AND ADVANCED PRACTICE NURSES.\":'3 YR PROBATION',\n",
    "    \"THREE YEARS PROBATION WITH VARIOUS TERMS AND CONDITIONS. RESTRICTIONS: PROHIBITED FROM ORDERING, PRESCRIBING, DISPENSING, ADMINISTERING, FURNISHING, OR POSSESSING ANY CONTROLLED SUBSTANCES EXCEPT FOR THOSE DRUGS LISTED IN SCHEDULE IV AND V, AND FROM ISSUING AN ORAL OR WRITTEN RECOMMENDATION OR APPROVAL TO POSSESS OR CULTIVATE MARIJUANA; AND PROHIBITED FROM SUPERVISING PHYSICIAN ASSISTANTS AND ADVANCED PRACTICE NURSES.\":'3 YR PROBATION',\n",
    "    \"THREE YEARS PROBATION WITH VARIOUS TERMS AND CONDITIONS. DURING PROBATION, DR. NGUYEN IS PROHIBITED FROM SUPERVISING PHYSICIAN ASSISTANTS AND ADVANCED PRACTICE NURSES.\":'3 YR PROBATION',\n",
    "    \"THREE YEARS PROBATION WITH VARIOUS TERMS AND CONDITIONS. RESTRICTIONS: PROHIBITED FROM ENGAGING IN THE SOLO PRACTICE OF MEDICINE; AND PROHIBITED FROM SUPERVISING PHYSICIAN ASSISTANTS AND ADVANCED PRACTICE NURSES.\":'3 YR PROBATION',\n",
    "    \"THREE YEARS PROBATION WITH VARIOUS TERMS AND CONDITIONS. DURING PROBATION, DR. ROSETE IS PROHIBITED FROM SUPERVISING PHYSICIAN ASSISTANTS AND ADVANCED PRACTICE NURSES.\":'3 YR PROBATION',\n",
    "    \"THREE YEARS PROBATION WITH VARIOUS TERMS AND CONDITIONS. DURING PROBATION, DR. BEESLEY IS PROHIBITED FROM SUPERVISING PHYSICIAN ASSISTANTS AND ADVANCED PRACTICE NURSES.\":'3 YR PROBATION',\n",
    "    \"THREE YEARS PROBATION WITH VARIOUS TERMS AND CONDITIONS. DURING PROBATION, DR. TOUSARKISSIAN IS PROHIBITED FROM SUPERVISING PHYSICIAN ASSISTANTS AND ADVANCED PRACTICE NURSES.\":'3 YR PROBATION',\n",
    "    \"THREE YEARS PROBATION WITH VARIOUS TERMS AND CONDITIONS. RESTRICTIONS: PROHIBITED FROM PRESCRIBING, DISPENSING, ADMINISTERING, FURNISHING, OR POSSESSING ANY CONTROLLED SUBSTANCES EXCEPT FOR THOSE DRUGS LISTED IN SCHEDULE V UNTIL COMPLETION OF A PRESCRIBING PRACTICES COURSE (CONDITION SATISFIED), AND FROM ISSUING AN ORAL OR WRITTEN RECOMMENDATION OR APPROVAL TO POSSESS OR CULTIVATE MARIJUANA; AND PROHIBITED FROM SUPERVISING PHYSICIAN ASSISTANTS AND ADVANCED PRACTICE NURSES.\":'3 YR PROBATION',\n",
    "    \"THREE YEARS PROBATION WITH VARIOUS TERMS AND CONDITIONS. RESTRICTIONS: PROHIBITED FROM ENGAGING IN THE SOLO PRACTICE OF MEDICINE; PROHIBITED FROM PERFORMING ANY VASCULAR PROCEDURE THAT INVOLVES THE USE OF CONTRAST DYE ON A PATIENT WITH A HISTORY OF RENAL FAILURE OR RENAL INSUFFICIENCY WITHOUT A PRIOR CONSULTATION WITH A NEPHROLOGY SPECIALIST; AND PROHIBITED FROM SUPERVISING PHYSICIAN ASSISTANTS AND ADVANCED PRACTICE NURSES.\":'3 YR PROBATION',\n",
    "    \"THREE YEARS PROBATION WITH VARIOUS TERMS AND CONDITIONS. DURING PROBATION, DR. DHALIWAL IS PROHIBITED FROM SUPERVISING PHYSICIAN ASSISTANTS AND ADVANCED PRACTICE NURSES.\":'3 YR PROBATION',\n",
    "    \"THREE YEARS PROBATION WITH VARIOUS TERMS AND CONDITIONS. DURING PROBATION, DR. HODGSON IS PROHIBITED FROM SUPERVISING PHYSICIAN ASSISTANTS AND ADVANCED PRACTICE NURSES.\":'3 YR PROBATION',\n",
    "    \"THREE YEARS PROBATION WITH VARIOUS TERMS AND CONDITIONS. DR. MALEK IS PROHIBITED FROM SUPERVISING PHYSICIAN ASSISTANTS AND ADVANCED PRACTICE NURSES.\":'3 YR PROBATION',\n",
    "    \"THREE YEARS PROBATION WITH VARIOUS TERMS AND CONDITIONS. DURING PROBATION, DR. NASIR IS PROHIBITED FROM SUPERVISING PHYSICIAN ASSISTANTS AND ADVANCED PRACTICE NURSES.\":'3 YR PROBATION',\n",
    "    \"THREE YEARS PROBATION WITH VARIOUS TERMS AND CONDITIONS. DURING PROBATION, DR. LEE IS PROHIBITED FROM SUPERVISING PHYSICIAN ASSISTANTS AND ADVANCED PRACTICE NURSES.\":'3 YR PROBATION',\n",
    "    \"THREE YEARS PROBATION WITH VARIOUS TERMS AND CONDITIONS. RESTRICTIONS: CANNOT ORDER, PRESCRIBE, DISPENSE, ADMINISTER, FURNISH, OR POSSESS ANY CONTROLLED SUBSTANCES UNTIL COMPLETION OF A PRESCRIBING PRACTICES COURSE; SHALL NOT ISSUE AN ORAL OR WRITTEN RECOMMENDATION OR APPROVAL TO POSSESS OR CULTIVATE MARIJUANA. PROHIBITED FROM ENGAGING IN THE SOLO PRACTICE OF MEDICINE; AND PROHIBITED FROM SUPERVISING PHYSICIAN ASSISTANTS AND ADVANCED PRACTICE NURSES.\":'3 YR PROBATION',\n",
    "    \"THREE YEARS PROBATION WITH VARIOUS TERMS AND CONDITIONS. RESTRICTIONS: PROHIBITED FROM UTILIZING VASER TECHNOLOGY WHILE PERFORMING LIPOSUCTION PROCEDURES; AND PROHIBITED FROM SUPERVISING PHYSICIAN ASSISTANTS AND ADVANCED PRACTICE NURSES.\":'3 YR PROBATION',\n",
    "    \"THREE YEARS PROBATION WITH VARIOUS TERMS AND CONDITIONS. RESTRICTIONS: PROHIBITED FROM ISSUING, RENEWING, OR EXTENDING ANY MEDICAL VACCINE EXEMPTIONS; AND PROHIBITED FROM SUPERVISING PHYSICIAN ASSISTANTS AND ADVANCED PRACTICE NURSES.\":'3 YR PROBATION',\n",
    "    \"THREE YEARS' PROBATION WITH VARIOUS TERMS AND CONDITIONS. RESTRICTIONS: CANNOT ORDER, PRESCRIBE, DISPENSE, ADMINISTER, FURNISH, OR POSSESS ANY CONTROLLED SUBSTANCES UNTIL COMPLETING A PRESCRIBING PRACTICES COURSE (CONDITION SATISFIED); AND PROHIBITED FROM SUPERVISING PHYSICIAN ASSISTANTS AND ADVANCED PRACTICE NURSES.\":'3 YR PROBATION',\n",
    "    \"THREE YEARS PROBATION WITH VARIOUS TERMS AND CONDITIONS. DURING PROBATION, DR. DOBKIN IS PROHIBITED FROM SUPERVISING PHYSICIAN ASSISTANTS.\":'3 YR PROBATION',\n",
    "    \"EFFECTIVE 09/04/2020, CASE NO. 800-2017-032412: THREE YEARS PROBATION WITH VARIOUS TERMS AND CONDITIONS. RESTRICTIONS: PROHIBITED FROM MAKING OR ISSUING ANY WRITTEN EXCEPTION FROM IMMUNIZATION, OR ANY OTHER WRITTEN STATEMENTS PROVIDING THAT ANY CHILD IS EXEMPT FROM THE REQUIREMENTS OF CHAPTER 1 COMMENCING WITH SECTIONS 120325, 120400, 120405, 120410, AND 120415 OF THE HEALTH AND SAFETY CODE; AND PROHIBITED FROM SUPERVISING PHYSICIAN ASSISTANTS AND ADVANCED PRACTICE NURSES. EFFECTIVE 01/21/2022, NEW DECISION SUPERSEDES THE PROBATIONARY ORDER IN CASE NO. 800-2017-032412; FIVE YEARS PROBATION WITH VARIOUS TERMS AND CONDITIONS. SHALL NOT ORDER, PRESCRIBE, DISPENSE, ADMINISTER, FURNISH, OR POSSESS ANY CONTROLLED SUBSTANCES EXCEPT FOR THOSE DRUGS LISTED IN SCHEDULES III, IV AND V; AND SHALL NOT ISSUE AN ORAL OR WRITTEN RECOMMENDATION OR APPROVAL TO A PATIENT OR A PATIENT'S PRIMARY CAREGIVER FOR THE POSSESSION OR CULTIVATION OF MARIJUANA FOR THE PERSONAL MEDICAL PURPOSES OF THE PATIENT. RESTRICTIONS: PROHIBITED FROM MAKING OR ISSUING ANY WRITTEN EXEMPTION FROM IMMUNIZATION, OR ANY OTHER WRITTEN STATEMENTS PROVIDING THAT ANY CHILD IS EXEMPT FROM THE REQUIREMENTS; AND PROHIBITED FROM SUPERVISING PHYSICIAN ASSISTANTS AND ADVANCED PRACTICE NURSES.\":'3 YR PROBATION',\n",
    "    \"TWO YEARS PROBATION WITH VARIOUS TERMS AND CONDITIONS. DURING PROBATION, DR. MAMO IS PROHIBITED FROM SUPERVISING PHYSICIAN ASSISTANTS AND ADVANCED PRACTICE NURSES.\":'2 YR PROBATION',\n",
    "    \"TWO YEARS PROBATION WITH VARIOUS TERMS AND CONDITIONS. EFFECTIVE 09/23/2022, CASE NO. 8002018047615 WILL RUN CONSECUTIVE TO AND SUPERSEDE THE TERMS OF PROBATION IN CASE NO. 8002017031593. RESTRICTIONS: PROHIBITED FROM ENGAGING IN THE SOLO PRACTICE OF MEDICINE; AND PROHIBITED FROM SUPERVISING PHYSICIAN ASSISTANTS AND ADVANCED PRACTICE NURSES.\":'2 YR PROBATION',\n",
    "    \"TWO YEARS PROBATION WITH VARIOUS TERMS AND CONDITIONS. DURING PROBATION, DR. LAO IS PROHIBITED FROM SUPERVISING PHYSICIAN ASSISTANTS AND ADVANCED PRACTICE NURSES.\":'2 YR PROBATION',\n",
    "    \"TWO YEARS PROBATION WITH VARIOUS TERMS AND CONDITIONS. RESTRICTIONS: PROHIBITED FROM SUPERVISING PHYSICIAN ASSISTANTS AND ADVANCED PRACTICE NURSES; PROHIBITED FROM ENGAGING IN THE PRACTICE OF MEDICINE IN DR. SAIFY?S OR PATIENT?S PLACE OF RESIDENCE, UNLESS THE PATIENT RESIDES IN A SKILLED NURSING FACILITY OR OTHER SIMILAR LICENSED FACILITY.\":'2 YR PROBATION',\n",
    "    \"TWO YEARS' PROBATION WITH VARIOUS TERMS AND CONDITIONS, AND SHALL RUN CONSECUTIVE TO, AND SHALL TAKE EFFECT IMMEDIATELY UPON COMPLETION OF THE PROBATIONARY ORDER IN CASE NO. 800-2016-022245. RESTRICTIONS: PROHIBITED FROM SUPERVISING PHYSICIAN ASSISTANTS AND ADVANCED PRACTICE NURSES.\":'2 YR PROBATION',\n",
    "    \"SEVEN YEARS PROBATION WITH VARIOUS TERMS AND CONDITIONS, AND A SIXTY (60) DAY SUSPENSION. SUSPENSION BEGINS 04/09/2022 UNTIL 06/07/2022 (CONDITION SATISFIED). CANNOT PRACTICE MEDICINE UNTIL COMPLETING A PSYCHIATRIC EVALUATION.(CONDITION SATISFIED) DURING PROBATION, DR. HUTCHMAN IS PROHIBITED FROM SUPERVISING PHYSICIAN ASSISTANTS AND ADVANCED PRACTICE NURSES.\":'7 YR PROBATION',\n",
    "    \"SEVEN YEARS PROBATION WITH VARIOUS TERMS AND CONDITIONS. CANNOT ENGAGE IN THE PRACTICE OF MEDICINE UNTIL COMPLETION OF THE CLINICAL DIAGNOSTIC EVALUATION (CONDITION SATISFIED). SHALL NOT ORDER, PRESCRIBE, DISPENSE, ADMINISTER, FURNISH, OR POSSESS ANY CONTROLLED SUBSTANCES AND SHALL NOT ISSUE AN ORAL OR WRITTEN RECOMMENDATION OR APPROVAL TO A PATIENT OR A PATIENT'S PRIMARY CAREGIVER FOR THE POSSESSION OR CULTIVATION OF MARIJUANA. RESTRICTIONS: PROHIBITED FROM ENGAGING IN THE SOLO PRACTICE OF MEDICINE; AND PROHIBITED FROM SUPERVISING PHYSICIAN ASSISTANTS AND ADVANCED PRACTICE NURSES.\":'7 YR PROBATION',\n",
    "    \"SEVEN YEARS PROBATION WITH VARIOUS TERMS AND CONDITIONS. RESTRICTIONS: PROHIBITED FROM ACCEPTING ANY NEW FEMALE PATIENTS FOR CARE AND TREATMENT; AND PROHIBITED FROM SUPERVISING PHYSICIAN ASSISTANTS AND ADVANCED PRACTICE NURSES.\":'7 YR PROBATION',\n",
    "    \"SEVEN YEARS PROBATION WITH VARIOUS TERMS AND CONDITIONS. RESTRICTIONS: SHALL NOT PRESCRIBE, DISPENSE, ADMINISTER, FURNISH, OR POSSESS ANY CONTROLLED SUBSTANCES; SHALL NOT ISSUE AN ORAL OR WRITTEN RECOMMENDATION OR APPROVAL TO A PATIENT OR A CAREGIVER FOR THE POSSESSION OR CULTIVATION OF MARIJUANA FOR PERSONAL MEDICAL PURPOSES; SHALL NOT PRACTICE UNTIL PROVIDING DOCUMENTARY PROOF TO THE BOARD THAT DEA PERMIT HAS BEEN SURRENDERED FOR CANCELLATION; PROHIBITED FROM ENGAGING IN THE SOLO PRACTICE OF MEDICINE; PROHIBITED FROM SUPERVISING PHYSICIAN ASSISTANTS.\":'7 YR PROBATION',\n",
    "    \"SEVEN YEARS PROBATION WITH VARIOUS TERMS AND CONDITIONS. RESTRICTIONS: PROHIBITED FROM ENGAGING IN THE SOLO PRACTICE OF MEDICINE; PROHIBITED FROM PERFORMING ARTERIAL OR VENOUS STENTING, EXCEPT UNDER DIRECT SUPERVISION BY ANOTHER PHYSICIAN OR WITHIN THE COURSE OF A FORMAL TRAINING PROGRAM; AND PROHIBITED FROM SUPERVISING PHYSICIAN ASSISTANTS AND ADVANCED PRACTICE NURSES.\":'7 YR PROBATION',\n",
    "    \"PUBLIC REPRIMAND WILL BE ISSUED UPON COMPLETION OF TERMS.\":'PUBLIC REPRIMAND',\n",
    "    \"THIRTY-FIVE MONTHS PROBATION WITH VARIOUS TERMS AND CONDITIONS. DURING PROBATION, DR. PATINO IS PROHIBITED FROM SUPERVISING PHYSICIAN ASSISTANTS AND ADVANCED PRACTICE NURSES.\":'35 MONTH PROBATION',\n",
    "    \"THIRTY-FIVE MONTHS PROBATION WITH VARIOUS TERMS AND CONDITIONS. DURING PROBATION, DR. SUMARTO IS PROHIBITED FROM SUPERVISING PHYSICIAN ASSISTANTS AND ADVANCED PRACTICE NURSES.\":'35 MONTH PROBATION',\n",
    "    \"THIRTY-FIVE MONTHS PROBATION WITH VARIOUS TERMS AND CONDITIONS. DURING PROBATION, DR. CHANG IS PROHIBITED FROM SUPERVISING PHYSICIAN ASSISTANTS OR ADVANCED PRACTICE NURSES.\":'35 MONTH PROBATION',\n",
    "    \"THIRTY-FIVE MONTHS PROBATION WITH VARIOUS TERMS AND CONDITIONS.\":'35 MONTH PROBATION',\n",
    "    \"EFFECTIVE 08/18/2017, CASE NO. 09-2013-230441: THREE YEARS PROBATION WITH VARIOUS TERMS AND CONDITIONS. DURING PROBATION, DR. MARCINKUS IS PROHIBITED FROM SUPERVISING PHYSICIAN ASSISTANTS AND ADVANCED PRACTICE NURSES. EFFECTIVE 05/05/2022, NEW DECISION EXTENDS PROBATION SEVEN YEARS IN CASE NO. 09-2013-230441 WITH VARIOUS TERMS AND CONDITIONS, AND AN ACTUAL SUSPENSION FOR NINETY (90) DAYS. SUSPENSION BEGINS 05/21/2022 UNTIL 08/18/2022.\":'3 YR PROBATION',\n",
    "    \"EFFECTIVE 07/17/2020, CASE NO. 800-2016-029031: FOUR YEARS PROBATION WITH VARIOUS TERMS AND CONDITIONS. EFFECTIVE 02/04/2022, NEW DECISION: EIGHT YEARS PROBATION TO RUN CONCURRENT WITH THE DISCIPLINARY ORDER IN CASE NO. 800-2016-029031, WITH VARIOUS TERMS AND CONDITIONS. SHALL NOT ENGAGE IN THE PRACTICE OF MEDICINE UNTIL COMPLETION OF THE CLINICAL DIAGNOSTIC EVALUATION AND NOTIFIED BY THE BOARD OR ITS DESIGNEE THAT DR. PARSAPOUR IS FIT TO PRACTICE MEDICINE SAFELY. RESTRICTIONS: PROHIBITED FROM PERFORMING SERVICES RELATING TO THE RECOMMENDATION OF MARIJUANA AND FROM RECOMMENDING MARIJUANA; AND PROHIBITED FROM SUPERVISING PHYSICIAN ASSISTANTS AND ADVANCED PRACTICE NURSES.\":'4 YR PROBATION',\n",
    "    \"EFFECTIVE 08/23/2013, CASE NO. 04 2007-181659: SEVEN YEARS PROBATION WITH ACTUAL SUSPENSION. SUSPENSION SERVED 08/23/13 UNTIL 01/21/14. RESTRICTIONS: PROHIBITED FROM ENGAGING IN THE SOLO PRACTICE OF MEDICINE AND SUPERVISING PHYSICIAN ASSISTANTS. EFFECTIVE 04/08/2022, NEW DECISION SUPERSEDES ALL OTHER TERMS AND CONDITIONS IN CASE NO. 04-2007-181659. FIVE YEARS PROBATION WITH VARIOUS TERMS AND CONDITIONS. RESTRICTIONS: PROHIBITED FROM ENGAGING IN THE SOLO PRACTICE OF MEDICINE; PROHIBITED FROM EVALUATING ANY PATIENT FOR, OR ISSUING, ANY EMOTIONAL SUPPORT ANIMAL OR MEDICAL CANNABIS RECOMMENDATION; AND PROHIBITED FROM SUPERVISING PHYSICIAN ASSISTANTS AND ADVANCED PRACTICE NURSES.\":'7 YR PROBATION',\n",
    "    \"THIRTY-FIVE MONTHS PROBATION WITH VARIOUS TERMS AND CONDITIONS. DURING PROBATION, DR. MAGIMBI IS PROHIBITED FROM SUPERVISING PHYSICIAN ASSISTANTS AND ADVANCED PRACTICE NURSES.\":'35 MONTH PROBATION',\n",
    "    \"THIRTY-FIVE MONTHS PROBATION WITH VARIOUS TERMS AND CONDITONS. DURING PROBATION, DR. RINE IS PROHIBITED FROM SUPERVISING PHYSICIAN ASSISTANTS AND ADVANCED PRACTICE NURSES.\":'35 MONTH PROBATION',\n",
    "    \"THIRTY-FIVE MONTHS PROBATION WITH VARIOUS TERMS AND CONDITIONS. CANNOT ENGAGE IN THE PRACTICE OF MEDICINE UNTIL COMPLETION OF THE CLINICAL DIAGNOSTIC EVALUATION (CONDITION SATISFIED). DURING PROBATION, DR. DESAI IS PROHIBITED FROM SUPERVISING PHYSICIAN ASSISTANTS AND ADVANCED PRACTICE NURSES.\":'35 MONTH PROBATION',\n",
    "    \"THIRTY-FIVE MONTHS PROBATION WITH VARIOUS TERMS AND CONDITIONS. RESTRICTIONS: PROHIBITED FROM PERFORMING ANY PROCEDURES REQUIRING ANY FORM OF SEDATION IN A NON-ACCREDITED SURGERY CENTER; AND PROHIBITED FROM SUPERVISING PHYSICIAN ASSISTANTS AND ADVANCED PRACTICE NURSES.\":'35 MONTH PROBATION',\n",
    "    \"EFFECTIVE 10/18/2018, CASE NO. 800-2017-038264: EIGHT YEARS PROBATION WITH VARIOUS TERMS AND CONDITIONS. RESTRICTIONS: PROHIBITED FROM ENGAGING IN THE SOLO PRACTICE OF MEDICINE, SUPERVISING PHYSICIAN ASSISTANTS AND ADVANCED PRACTICE NURSES. EFFECTIVE 03/11/2022, NEW DECISION EXTENDS PROBATION ONE ADDITIONAL YEAR WITH THE SAME TERMS AND CONDITIONS AS THE CURRENT PROBATION.\":'8 YR PROBATION',\n",
    "    \"TEN YEARS PROBATION WITH VARIOUS TERMS AND CONDITIONS AND A 90 DAY SUSPENSION. SUSPENSION BEGINS ON 10/07/2022 UNTIL 01/05/2023. RESTRICTIONS: PROHIBITED FROM PERFORMING AND/OR PARTICIPATING IN VASER LIPOSUCTION SURGERIES/PROCEDURES UNTIL COMPLETION OF A CLINICAL COMPETENCE ASSESSMENT PROGRAM (CONDITION SATISFIED); AND PROHIBITED FROM SUPERVISING PHYSICIAN ASSISTANTS AND ADVANCED PRACTICE NURSES.\":'10 YR PROBATION',\n",
    "    \"ACCUSATION FILED. THE PHYSICIAN HAS NOT HAD A HEARING OR BEEN FOUND GUILTY OF ANY CHARGES.\":'ACCUSATION FILED',\n",
    "    \"AMENDED ACCUSATION FILED. THE PHYSICIAN HAS NOT HAD A HEARING OR BEEN FOUND GUILTY OF ANY CHARGES.\":'ACCUSATION FILED',\n",
    "    \"CANNOT PRACTICE MEDICINE UNTIL COMPLETION OF A CLINICAL COMPETENCE ASSESSMENT PROGRAM, A CLINICAL DIAGNOSTIC EVALUATION, A PSYCHIATRIC EVALUATION, AND A MEDICAL EVALUATION, AND OBTAINING MEDICAL TREATMENT (CONDITION MET). SEVEN YEARS' PROBATION WITH VARIOUS TERMS AND CONDITIONS. RESTRICTIONS; PROHIBITED FROM ENGAGING IN THE SOLO PRACTICE OF MEDICINE; AND PROHIBITED FROM SUPERVISING PHYSICIAN ASSISTANTS AND ADVANCED PRACTICE NURSES.\":'TEMPORARY CEASE PRACTICE',\n",
    "    \"AUTOMATIC SUSPENSION ORDER ISSUED-NO PRACTICE, BY OPERATION OF LAW, THE EFFECTIVE DATE OF THE ORDER IS 12/09/2022.\":'AUTOMATIC SUSPENSION',\n",
    "    \"CEASE PRACTICE ORDER ISSUED - NO PRACTICE ALLOWED.\":'CEASE PRACTICE',\n",
    "    \"CEASE PRACTICE ORDER ISSUED-NO PRACTICE.\":'CEASE PRACTICE',\n",
    "    \"EFFECTIVE 09/04/2020, CASE NO. 800-2017-032412: THREE YEARS PROBATION WITH VARIOUS TERMS AND CONDITIONS. RESTRICTIONS: PROHIBITED FROM MAKING OR ISSUING ANY WRITTEN EXCEPTION FROM IMMUNIZATION, OR ANY OTHER WRITTEN STATEMENTS PROVIDING THAT ANY CHILD IS EXEMPT FROM THE REQUIREMENTS OF CHAPTER 1 COMMENCING WITH SECTIONS 120325, 120400, 120405, 120410, AND 120415 OF THE HEALTH AND SAFETY CODE; AND PROHIBITED FROM SUPERVISING PHYSICIAN ASSISTANTS AND ADVANCED PRACTICE NURSES. EFFECTIVE 01/21/2022, NEW DECISION SUPERSEDES THE PROBATIONARY ORDER IN CASE NO. 800-2017-032412; FIVE YEARS PROBATION WITH VARIOUS TERMS AND CONDITIONS. SHALL NOT ORDER, PRESCRIBE, DISPENSE, ADMINISTER, FURNISH, OR POSSESS ANY CONTROLLED SUBSTANCES EXCEPT FOR THOSE DRUGS LISTED IN SCHEDULES III, IV AND V; AND SHALL NOT ISSUE AN ORAL OR WRITTEN RECOMMENDATION OR APPROVAL TO A PATIENT OR A PATIENT'S PRIMARY CAREGIVER FOR THE POSSESSION OR CULTIVATION OF MARIJUANA FOR THE PERSONAL MEDICAL PURPOSES OF THE PATIENT. RESTRICTIONS: PROHIBITED FROM MAKING OR ISSUING ANY WRITTEN EXEMPTION FROM IMMUNIZATION, OR ANY OTHER WRITTEN STATEMENTS PROVIDING THAT ANY CHILD IS EXEMPT FROM THE REQUIREMENTS; AND PROHIBITED FROM SUPERVISING PHYSICIAN ASSISTANTS AND ADVANCED PRACTICE NURSES.\":'3 YR PROBATION',\n",
    "    \"EXTENDS PROBATION FOR SEVEN YEARS WITH VARIOUS TERMS AND CONDITIONS.\":'7 YR PROBATION',\n",
    "    \"FIVE YEARS PROBATION WITH VARIOUS TERMS AND CONDITIONS.\":'5 YR PROBATION',\n",
    "    \"FIVE YEARS PROBATION WITH VARIOUS TERMS AND CONDITIONS. DURING PROBATION, DR. AHMAD IS PROHIBITED FROM SUPERVISING PHYSICIAN ASSISTANTS AND ADVANCED PRACTICE NURSES.\":'5 YR PROBATION',\n",
    "    \"FIVE YEARS PROBATION WITH VARIOUS TERMS AND CONDITIONS. DURING PROBATION, DR. BABAALI IS PROHIBITED FROM SUPERVISING PHYSICIAN ASSISTANTS AND ADVANCED PRACTICE NURSES.\":'5 YR PROBATION',\n",
    "    \"FIVE YEARS PROBATION WITH VARIOUS TERMS AND CONDITIONS. DURING PROBATION, DR. FRISOLI IS PROHIBITED FROM SUPERVISING PHYSICIAN ASSISTANTS AND ADVANCED PRACTICE NURSES.\":'5 YR PROBATION',\n",
    "    \"FIVE YEARS PROBATION WITH VARIOUS TERMS AND CONDITIONS. DURING PROBATION, DR. GUPTA IS PROHIBITED FROM SUPERVISING PHYSICIAN ASSISTANTS AND ADVANCED PRACTICE NURSES.\":'5 YR PROBATION',\n",
    "    \"FIVE YEARS PROBATION WITH VARIOUS TERMS AND CONDITIONS. DURING PROBATION, DR. HAKALA IS PROHIBITED FROM SUPERVISING PHYSICIAN ASSISTANTS AND ADVANCED PRACTICE NURSES.\":'5 YR PROBATION',\n",
    "    \"FIVE YEARS PROBATION WITH VARIOUS TERMS AND CONDITIONS. DURING PROBATION, DR. JAZAYERI IS PROHIBITED FROM SUPERVISING PHYSICIAN ASSISTANTS AND ADVANCED PRACTICE NURSES.\":'5 YR PROBATION',\n",
    "    \"FIVE YEARS PROBATION WITH VARIOUS TERMS AND CONDITIONS. DURING PROBATION, DR. LE IS PROHIBITED FROM ENGAGING IN THE SOLO PRACTICE OF MEDICINE.\":'5 YR PROBATION',\n",
    "    \"FIVE YEARS PROBATION WITH VARIOUS TERMS AND CONDITIONS. DURING PROBATION, DR. MACMURRAY IS PROHIBITED FROM SUPERVISING PHYSICIAN ASSISTANTS AND ADVANCED PRACTICE NURSES.\":'5 YR PROBATION',\n",
    "    \"FIVE YEARS PROBATION WITH VARIOUS TERMS AND CONDITIONS. DURING PROBATION, DR. MCKENZIE IS PROHIBITED FROM SUPERVISING PHYSICIAN ASSISTANTS AND ADVANCED PRACTICE NURSES.\":'5 YR PROBATION',\n",
    "    \"FIVE YEARS PROBATION WITH VARIOUS TERMS AND CONDITIONS. DURING PROBATION, DR. NGUYEN IS PROHIBITED FROM SUPERVISING PHYSICIAN ASSISTANTS AND ADVANCED PRACTICE NURSES.\":'5 YR PROBATION',\n",
    "    \"FIVE YEARS PROBATION WITH VARIOUS TERMS AND CONDITIONS. DURING PROBATION, DR. PALLAS IS PROHIBITED FROM SUPERVISING PHYSICIAN ASSISTANTS AND ADVANCED PRACTICE NURSES.\":'5 YR PROBATION',\n",
    "    \"FIVE YEARS PROBATION WITH VARIOUS TERMS AND CONDITIONS. DURING PROBATION, DR. PREIKSAITIS IS PROHIBITED FROM SUPERVISING PHYSICIAN ASSISTANTS AND ADVANCED PRACTICE NURSES.\":'5 YR PROBATION',\n",
    "    \"FIVE YEARS PROBATION WITH VARIOUS TERMS AND CONDITIONS. DURING PROBATION, DR. SAAL IS PROHIBITED FROM SUPERVISING PHYSICIAN ASSISTANTS AND ADVANCED PRACTICE NURSES.\":'5 YR PROBATION',\n",
    "    \"FIVE YEARS PROBATION WITH VARIOUS TERMS AND CONDITIONS. DURING PROBATION, DR. SAUNDERS IS PROHIBITED FROM SUPERVISING PHYSICIAN ASSISTANTS AND ADVANCED PRACTICE NURSES.\":'5 YR PROBATION',\n",
    "    \"FIVE YEARS PROBATION WITH VARIOUS TERMS AND CONDITIONS. RESTRICTIONS: PROHIBITED FROM ENGAGING IN CONCIERGE SERVICE PRACTICE; AND PROHIBITED FROM SUPERVISING PHYSICIAN ASSISTANTS AND ADVANCED PRACTICE NURSES.\":'5 YR PROBATION',\n",
    "    \"FIVE YEARS PROBATION WITH VARIOUS TERMS AND CONDITIONS. RESTRICTIONS: PROHIBITED FROM ENGAGING IN THE SOLO PRACTICE OF MEDICINE; AND PROHIBITED FROM SUPERVISING PHYSICIAN ASSISTANTS AND ADVANCED PRACTICE NURSES.\":'5 YR PROBATION',\n",
    "    \"FIVE YEARS PROBATION WITH VARIOUS TERMS AND CONDITIONS. RESTRICTIONS: PROHIBITED FROM ENGAGING IN THE SOLO PRACTICE OF MEDICINE; PROHIBITED FROM PERFORMING STRABISMUS SURGERIES; AND PROHIBITED FROM SUPERVISING PHYSICIAN ASSISTANTS AND ADVANCED PRACTICE NURSES.\":'5 YR PROBATION',\n",
    "    \"FIVE YEARS PROBATION WITH VARIOUS TERMS AND CONDITIONS. RESTRICTIONS: PROHIBITED FROM ISSUING AN ORAL OR WRITTEN RECOMMENDATION OR APPROVAL TO A PATIENT OR A PATIENT'S PRIMARY CAREGIVER FOR THE POSSESSION OR CULTIVATION OF MARIJUANA FOR THE PERSONAL MEDICAL PURPOSES OF THE PATIENT; AND PROHIBITED FROM SUPERVISING PHYSICIAN ASSISTANTS AND ADVANCED PRACTICE NURSES.\":'5 YR PROBATION',\n",
    "    \"FIVE YEARS PROBATION WITH VARIOUS TERMS AND CONDITIONS. RESTRICTIONS: PROHIBITED FROM ORDERING, PRESCRIBING, DISPENSING, ADMINISTERING, FURNISHING OR POSSESSING ANY CONTROLLED SUBSTANCES EXCEPT FOR THOSE DRUGS LISTED IN SCHEDULES III, IV, AND V (THIS RESTRICTION SHALL NOT APPLY TO CONTROLLED SUBSTANCES ADMINISTERED TO PATIENTS WHO ARE ADMITTED TO THE HOSPITAL AND ONLY FOR THEIR IMMEDIATE USE WHILE THEY REMAIN SO ADMITTED), AND FROM ISSUING AN ORAL OR WRITTEN RECOMMENDATION OR APPROVAL TO POSSES OR CULTIVATE MARIJUANA; AND PROHIBITED FROM SUPERVISING PHYSICIAN ASSISTANTS AND ADVANCED PRACTICE NURSES.\":'5 YR PROBATION',\n",
    "    \"FIVE YEARS PROBATION WITH VARIOUS TERMS AND CONDITIONS. RESTRICTIONS: PROHIBITED FROM PERFORMING COSMETIC PROCEDURES WITH A FRACTIONATED CO2 LASER AND FROM DELEGATING THE USE OF A FRACTIONATED CO2 LASER OR A MULTIWAVE LOCKED SYSTEM (MLS) LASER; AND PROHIBITED FROM SUPERVISING PHYSICIAN ASSISTANTS AND ADVANCED PRACTICE NURSES.\":'5 YR PROBATION',\n",
    "    \"FIVE YEARS PROBATION WITH VARIOUS TERMS AND CONDITIONS. RESTRICTIONS: PROHIBITED FROM PERFORMING COSMETIC SURGERY OR COSMETIC PROCEDURES OR UTILIZING INTRAVENOUS CONSCIOUS SEDATION; AND PROHIBITED FROM SUPERVISING PHYSICIAN ASSISTANTS AND ADVANCED PRACTICE NURSES.\":'5 YR PROBATION',\n",
    "    \"FIVE YEARS PROBATION WITH VARIOUS TERMS AND CONDITIONS. RESTRICTIONS: PROHIBITED FROM PRESCRIBING SCHEDULE II CONTROLLED SUBSTANCES TO PATIENTS FOR CHRONIC PAIN MANAGEMENT THERAPY BUT CAN PRESCRIBE SCHEDULE II CONTROLLED SUBSTANCES TO TREAT ACUTE PAIN IN A QUANTITY THAT IS MEDICALLY CONSISTENT WITH A FIVE-DAY PRESCRIPTION; AND PROHIBITED FROM SUPERVISING PHYSICIAN ASSISTANTS AND ADVANCED PRACTICE NURSES.\":'5 YR PROBATION',\n",
    "    \"FIVE YEARS PROBATION WITH VARIOUS TERMS AND CONDITIONS. RESTRICTIONS: PROHIBITED FROM SELF-PRESCRIBING PRESCRIPTION DRUGS/MEDICATIONS; AND PROHIBTED FROM ENGAGING IN THE SOLO PRACTICE OF MEDICINE.\":'5 YR PROBATION',\n",
    "    \"FIVE YEARS PROBATION WITH VARIOUS TERMS AND CONDITIONS. RESTRICTIONS: PROHIBITED FROM SUPERVISING PHYSICIAN ASSISTANTS AND ADVANCED PRACTICE NURSES; AND PROHIBITED FROM PRACTICING PSYCHIATRY.\":'5 YR PROBATION',\n",
    "    \"FIVE YEARS PROBATION WITH VARIOUS TERMS AND CONDITIONS. RESTRICTIONS: PROHIBITED FROM WRITING, ISSUING OR OTHERWISE AIDING AND ABETTING THE WRITING OR ISSUANCE OF EXEMPTIONS FROM ANY VACCINE FOR ANY PATIENT OR OTHER PERSON; AND PROHIBITED FROM SUPERVISING PHYSICIAN ASSISTANTS AND ADVANCED PRACTICE NURSES.\":'5 YR PROBATION',\n",
    "    \"FIVE YEARS PROBATION WITH VARIOUS TERMS AND CONDITIONS. RESTRICTIONS: SHALL NOT ORDER, PRESCRIBE, DISPENSE, ADMINISTER, FURNISH, OR POSSESS SCHEDULE II CONTROLLED SUBSTANCES, AND SHALL NOT ISSUE AN ORAL OR WRITTEN RECOMMENDATION OR APPROVAL TO A PATIENT OR A PATIENT'S PRIMARY CAREGIVER FOR THE POSSESSION OR CULTIVATION OF MARIJUANA FOR THE PERSONAL MEDICAL PURPOSES OF THE PATIENT; AND PROHIBITED FROM SUPERVISING PHYSICIAN ASSISTANTS AND ADVANCED PRACTICE NURSES.\":'5 YR PROBATION',\n",
    "    \"FIVE YEARS PROBATION WITH VARIOUS TERMS AND CONDITIONS. RESTRICTIONS; PROHIBITED FROM ORDERING, PRESCRIBING, DISPENSING, ADMINISTERING, FURNISHING, OR POSSESSING ANY CONTROLLED SUBSTANCES, EXCEPT FOR THOSE DRUGS LISTED IN SCHEDULE V, UNTIL SUCCESSFUL COMPLETION OF A PRESCRIBING PRACTICES COURSE, AND FROM ISSUING AN ORAL OR WRITTEN RECOMMENDATION OR APPROVAL TO POSSESS OR CULTIVATE MARIJUANA; AND PROHIBITED FROM SUPERVISING PHYSICIAN ASSISTANTS AND ADVANCED PRACTICE NURSES.\":'5 YR PROBATION',\n",
    "    \"FIVE YEARS PROBATION WITH VARIOUS TERMS AND CONDITIONS. SHALL HAVE A THIRD-PARTY CHAPERONE PRESENT WHILE CONSULTING, EXAMINING OR TREATING FEMALE PATIENTS. RESTRICTIONS: PROHIBITED FROM ENGAGING IN THE SOLO PRACTICE OF MEDICINE; AND PROHIBITED FROM SUPERVISING PHYSICIAN ASSISTANTS AND ADVANCED PRACTICE NURSES.\":'5 YR PROBATION',\n",
    "    \"FIVE YEARS PROBATION WITH VARIOUS TERMS AND CONDITIONS. SHALL NOT ORDER, PRESCRIBE, DISPENSE, ADMINISTER, FURNISH, OR POSSESS ANY OPIOID MEDICATIONS EXCEPT FOR BUPRENORPHINE, PROVIDED DR. DYNE MAINTAINS A VALID WAIVER AS A QUALIFIED PRACTITIONER. DURING PROBATION, DR. DYNE IS PROHIBITED FROM SUPERVISING PHYSICIAN ASSISTANTS AND ADVANCED PRACTICE NURSES.\":'5 YR PROBATION',\n",
    "    \"FIVE YEARS PROBATION WITH VARIOUS TERMS AND CONDITIONS. SHALL NOT PRACTICE COSMETIC MEDICINE UNTIL SUCESSFULLY COMPLETING THE CLINICAL COMPETENCE ASSSESSMENT PROGRAM. DURING PROBATION, DR. MILSTEIN IS PROHIBITED FROM SUPERVISING PHYSICIAN ASSISTANTS AND ADVANCED PRACTICE NURSES.\":'5 YR PROBATION',\n",
    "    \"FIVE YEARS' PROBATION TO BE SERVED CONCURRENTLY WITH AND UNDER THE SAME TERMS AND CONDITIONS IN CASE NUMBER 03-2013-234324, WITH ADDITIONAL TERMS AND CONDITIONS. SHALL NOT ENGAGE IN THE PRACTICE OF MEDICINE UNTIL COMPLETION OF THE CLINICAL DIAGNOSTIC EVALUATION AND NOTFIIED BY THE BOARD OR ITS DESIGNEE THAT DR. APAYDIN IS FIT TO PRACTICE MEDICINE SAFELY (CONDITION MET).\":'5 YR PROBATION',\n",
    "    \"FOUR YEARS PROBATION WITH VARIOUS TERMS AND CONDITIONS AND A 30 DAY ACTUAL SUSPENSION FROM THE PRACTICE OF MEDICINE TO BE COMPLETED BETWEEN JANUARY 1, 2023, AND JANUARY 1, 2024. DURING PROBATION, DR. PURCELL IS PROHIBITED FROM SUPERVISING PHYSICIAN ASSISTANTS AND ADVANCED PRACTICE NURSES.\":'4 YR PROBATION',\n",
    "    \"FOUR YEARS PROBATION WITH VARIOUS TERMS AND CONDITIONS.\":'4 YR PROBATION',\n",
    "    \"FOUR YEARS PROBATION WITH VARIOUS TERMS AND CONDITIONS. DURING PROBATION, DR. BEAUCLAIR IS PROHIBITED FROM SUPERVISING ADVANCED PRACTICE NURSES.\":'4 YR PROBATION',\n",
    "    \"FOUR YEARS PROBATION WITH VARIOUS TERMS AND CONDITIONS. DURING PROBATION, DR. IBRAHIM IS PROHIBITED FROM SUPERVISING PHYSICIAN ASSISTANTS AND ADVANCED PRACTICE NURSES.\":'4 YR PROBATION',\n",
    "    \"FOUR YEARS PROBATION WITH VARIOUS TERMS AND CONDITIONS. DURING PROBATION, DR. KHAN IS PROHIBITED FROM SUPERVISING PHYSICIAN ASSISTANTS.\":'4 YR PROBATION',\n",
    "    \"FOUR YEARS PROBATION WITH VARIOUS TERMS AND CONDITIONS. DURING PROBATION, DR. KIRZNER IS PROHIBITED FROM SUPERVISING PHYSICIAN ASSISTANTS AND ADVANCED PRACTICE NURSES.\":'4 YR PROBATION',\n",
    "    \"FOUR YEARS PROBATION WITH VARIOUS TERMS AND CONDITIONS. DURING PROBATION, DR. MARIANO IS PROHIBITED FROM ORDERING, PRESCRIBING, DISPENSING, ADMINISTERING, FURNISHING, OR POSSESSING ANY CONTROLLED SUBSTANCES, EXCEPT FOR THOSE DRUGS LISTED IN SCHEDULE IV AND V, AND FROM ISSUING AN ORAL OR WRITTEN RECOMMENDATION OR APPROVAL TO POSSESS OR CULTIVATE MARIJUANA.\":'4 YR PROBATION',\n",
    "    \"FOUR YEARS PROBATION WITH VARIOUS TERMS AND CONDITIONS. DURING PROBATION, DR. PERSAUD IS PROHIBITED FROM SUPERVISING PHYSICIAN ASSISTANTS AND ADVANCED PRACTICE NURSES.\":'4 YR PROBATION',\n",
    "    \"FOUR YEARS PROBATION WITH VARIOUS TERMS AND CONDITIONS. DURING PROBATION, DR. POLAK IS PROHIBITED FROM SUPERVISING PHYSICIAN ASSISTANTS AND ADVANCED PRACTICE NURSES.\":'4 YR PROBATION',\n",
    "    \"FOUR YEARS PROBATION WITH VARIOUS TERMS AND CONDITIONS. DURING PROBATION, DR. POLIQUIN IS PROHIBITED FROM SUPERVISING PHYSICIAN ASSISTANTS AND ADVANCED PRACTICE NURSES.\":'4 YR PROBATION',\n",
    "    \"FOUR YEARS PROBATION WITH VARIOUS TERMS AND CONDITIONS. DURING PROBATION, DR. RABIN IS PROHIBITED FROM SUPERVISING PHYSICIAN ASSISTANTS AND ADVANCED PRACTICE NURSES.\":'4 YR PROBATION',\n",
    "    \"FOUR YEARS PROBATION WITH VARIOUS TERMS AND CONDITIONS. DURING PROBATION, DR. ROSENBERG IS PROHIBITED FROM SUPERVISING PHYSICIAN ASSISTANTS AND ADVANCED PRACTICE NURSES.\":'4 YR PROBATION',\n",
    "    \"FOUR YEARS PROBATION WITH VARIOUS TERMS AND CONDITIONS. DURING PROBATION, DR. YAREMA IS PROHIBITED FROM SUPERVISING PHYSICIAN ASSISTANTS AND ADVANCED PRACTICE NURSES.\":'4 YR PROBATION',\n",
    "    \"FOUR YEARS PROBATION WITH VARIOUS TERMS AND CONDITIONS. RESTRICTIONS: PROHIBITED FROM PERFORMING ANY AND ALL COSMETIC AND/OR AESTHETIC SURGICAL PROCEDURES OF ANY KIND, ON ANY PATIENT, AT ANY LOCATION; AND PROHIBITED FROM SUPERVISING PHYSICIAN ASSISTANTS AND ADVANCED PRACTICE NURSES.\":'4 YR PROBATION',\n",
    "    \"FOUR YEARS PROBATION WITH VARIOUS TERMS AND CONDITIONS. RESTRICTIONS: PROHIBITED FROM PERFORMING COSMETIC LASER PROCEDURES EXCEPT FOR COSMETIC LASER HAIR REMOVAL, PROHIBITED FROM SUPERVISING ANYONE PERFORMING COSMETIC LASER PROCEDURES AND/OR PROHIBITED FROM DIRECTLY PROFITING IN ANY WAY FROM THE PERFORMANCE OF COSMETIC LASER PROCEDURES BEING DONE BY DR. GOODWIN OR SOMEONE UNDER HER SUPERVISION; AND PROHIBITED FROM SUPERVISING PHYSICIAN ASSISTANTS AND ADVANCED PRACTICE NURSES.\":'4 YR PROBATION',\n",
    "    \"FOUR YEARS PROBATION WITH VARIOUS TERMS AND CONDITIONS. RESTRICTIONS: PROHIBITED FROM PROVIDING CARE AND TREATMENT TO PATIENTS UNDER SIXTY (60) DAYS OF AGE; AND PROHIBITED FROM SUPERVISING PHYSICIAN ASSISTANTS AND ADVANCED PRACTICE NURSES.\":'4 YR PROBATION',\n",
    "    \"FOUR YEARS PROBATION WITH VARIOUS TERMS AND CONDITIONS. RESTRICTIONS; PROHIBITED FROM ENGAGING IN THE SOLO PRACTICE OF MEDICINE; AND PROHIBITED FROM SUPERVISING PHYSICIAN ASSISTANTS AND ADVANCED PRACTICE NURSES.\":'4 YR PROBATION',\n",
    "    \"FOUR YEARS' PROBATION TO RUN CONCURRENT, BUT SEPARATE AND APART FROM, THE PROBATIONARY ORDER IN CASE NO. 800-2015-016568, WITH VARIOUS TERMS AND CONDITIONS. RESTRICTIONS: PROHIBITED FROM SUPERVISING PHYSICIAN ASSISTANTS AND ADVANCED PRACTICE NURSES.\":'4 YR PROBATION',\n",
    "    \"PROBATION COMPLETED\":'PROBATION COMPLETED',\n",
    "    \"FULL INTERIM SUSPENSION ORDER ISSUED-NO PRACTICE.\":'SUSPENSION',\n",
    "    \"NON-COMPLETION OF PROBATION DUE TO PHYSICIAN'S DEATH.\":'INCOMPLETE PROBATION (DEATH)',\n",
    "    \"ONE YEAR ADDITIONAL PROBATION WITH VARIOUS TERMS AND CONDITIONS. DURING PROBATION, DR. COLE IS PROHIBITED FROM SUPERVISING PHYSICIAN ASSISTANTS AND ADVANCED PRACTICE NURSES.\":'ADDITIONAL PROBATION',\n",
    "    \"PETITION FOR REINSTATEMENT OF REVOKED CERTIFICATE GRANTED.\":\"PETITION FOR REINSTATEMENT\",\n",
    "    \"PETITION FOR REINSTATEMENT OF SURRENDERED CERTIFICATE GRANTED.\":\"PETITION FOR REINSTATEMENT\",\n",
    "    \"PLACED ON A NEW TERM OF THREE YEARS PROBATION WITH VARIOUS TERMS AND CONDITIONS. SHALL NOT PRACTICE MEDICINE UNTIL DR. ROGERS HAS PASSED THE REQUIRED EXAMINATION AND HAS BEEN NOTIFIED BY THE BOARD OR ITS DESIGNEE IN WRITING. (CONDITION SATISFIED) RESTRICTIONS: PROHIBITED FROM ENGAGING IN THE SOLO PRACTICE OF MEDICINE, SUPERVISING PHYSICIAN ASSISTANTS AND ADVANCED PRACTICE NURSES.\":\"3 YR PROBATION\",\n",
    "    \"PLACED ON PROBATION FOR THE DURATION OF PROBATION IN CASE NO. 8002015013651. ADDITIONALLY PROHIBITED FROM PERFORMING ANY CARE OR TREATMENT WITH PATIENTS INVOLVING THE USE, MANAGEMENT, OR ANY SURGICAL PROCEDURE RELATED TO INTRATHECAL PUMPS, OR ADVISING ANY MEDICAL PROVIDER ON THE CARE OR TREATMENT OF PATIENTS INVOLVING THE USE, MANAGEMENT, OR ANY SURGICAL PROCEDURE RELATED TO INTRATHECAL PUMPS, FOR THE DURATION OF DR. SMITH'S PROBATION.\":\"ADDITIONAL PROBATION\",\n",
    "    \"PUBLIC LETTER OF REPRIMAND.\":\"PUBLIC REPRIMAND\",\n",
    "    \"PUBLIC REPRIMAND.\":\"PUBLIC REPRIMAND\",\n",
    "    \"REVOKED.\":\"REVOKED\",\n",
    "    \"SEVEN YEARS PROBATION WITH VARIOUS TERMS AND CONDITIONS, AND A SIXTY (60) DAY SUSPENSION. SUSPENSION BEGINS 04/09/2022 UNTIL 06/07/2022 (CONDITION SATISFIED). CANNOT PRACTICE MEDICINE UNTIL COMPLETING A PSYCHIATRIC EVALUATION.(CONDITION SATISFIED) DURING PROBATION, DR. HUTCHMAN IS PROHIBITED FROM SUPERVISING PHYSICIAN ASSISTANTS AND ADVANCED PRACTICE NURSES.\":\"7 YR PROBATION\",\n",
    "    \"SEVEN YEARS PROBATION WITH VARIOUS TERMS AND CONDITIONS. CANNOT ENGAGE IN THE PRACTICE OF MEDICINE UNTIL COMPLETION OF THE CLINICAL DIAGNOSTIC EVALUATION (CONDITION SATISFIED). SHALL NOT ORDER, PRESCRIBE, DISPENSE, ADMINISTER, FURNISH, OR POSSESS ANY CONTROLLED SUBSTANCES AND SHALL NOT ISSUE AN ORAL OR WRITTEN RECOMMENDATION OR APPROVAL TO A PATIENT OR A PATIENT'S PRIMARY CAREGIVER FOR THE POSSESSION OR CULTIVATION OF MARIJUANA. RESTRICTIONS: PROHIBITED FROM ENGAGING IN THE SOLO PRACTICE OF MEDICINE; AND PROHIBITED FROM SUPERVISING PHYSICIAN ASSISTANTS AND ADVANCED PRACTICE NURSES.\":\"7 YR PROBATION\",\n",
    "    \"SEVEN YEARS PROBATION WITH VARIOUS TERMS AND CONDITIONS. RESTRICTIONS: PROHIBITED FROM ACCEPTING ANY NEW FEMALE PATIENTS FOR CARE AND TREATMENT; AND PROHIBITED FROM SUPERVISING PHYSICIAN ASSISTANTS AND ADVANCED PRACTICE NURSES.\":\"7 YR PROBATION\",\n",
    "    \"SEVEN YEARS PROBATION WITH VARIOUS TERMS AND CONDITIONS. RESTRICTIONS: PROHIBITED FROM ENGAGING IN THE SOLO PRACTICE OF MEDICINE; PROHIBITED FROM PERFORMING ARTERIAL OR VENOUS STENTING, EXCEPT UNDER DIRECT SUPERVISION BY ANOTHER PHYSICIAN OR WITHIN THE COURSE OF A FORMAL TRAINING PROGRAM; AND PROHIBITED FROM SUPERVISING PHYSICIAN ASSISTANTS AND ADVANCED PRACTICE NURSES.\":\"7 YR PROBATION\",\n",
    "    \"SEVEN YEARS PROBATION WITH VARIOUS TERMS AND CONDITIONS. RESTRICTIONS: SHALL NOT PRESCRIBE, DISPENSE, ADMINISTER, FURNISH, OR POSSESS ANY CONTROLLED SUBSTANCES; SHALL NOT ISSUE AN ORAL OR WRITTEN RECOMMENDATION OR APPROVAL TO A PATIENT OR A CAREGIVER FOR THE POSSESSION OR CULTIVATION OF MARIJUANA FOR PERSONAL MEDICAL PURPOSES; SHALL NOT PRACTICE UNTIL PROVIDING DOCUMENTARY PROOF TO THE BOARD THAT DEA PERMIT HAS BEEN SURRENDERED FOR CANCELLATION; PROHIBITED FROM ENGAGING IN THE SOLO PRACTICE OF MEDICINE; PROHIBITED FROM SUPERVISING PHYSICIAN ASSISTANTS.\":\"7 YR PROBATION\",\n",
    "    \"SURRENDER OF LICENSE.\":\"SURRENDER OF LICENSE\",\n",
    "    \"SUSPENDED-NO PRACTICE PURSUANT TO SECTION 2310(A) OF THE BUSINESS AND PROFESSIONS CODE. BASED ON SUSPENSION OR REVOCATION IN ANOTHER STATE\":'SUSPENSION',\n",
    "    \"SUSPENDED-NO PRACTICE PURSUANT TO SECTION 2310(A) OF THE BUSINESS AND PROFESSIONS CODE. BASED ON SUSPENSION OR REVOCATION IN ANOTHER STATE.\":'SUSPENSION',\n",
    "    \"THIRTY-FIVE (35) MONTHS PROBATION WITH VARIOUS TERMS AND CONDITIONS. DURING PROBATION, DR. YEH IS PROHIBITED FROM SUPERVISING PHYSICIAN ASSISTANTS AND ADVANCED PRACTICE NURSES.\":'35 MONTH PROBATION',\n",
    "    \"THIRTY-FIVE MONTHS PROBATION WITH VARIOUS TERMS AND CONDITIONS.\":'35 MONTH PROBATION',\n",
    "    \"THIRTY-FIVE MONTHS PROBATION WITH VARIOUS TERMS AND CONDITIONS. CANNOT ENGAGE IN THE PRACTICE OF MEDICINE UNTIL COMPLETION OF THE CLINICAL DIAGNOSTIC EVALUATION (CONDITION SATISFIED). DURING PROBATION, DR. DESAI IS PROHIBITED FROM SUPERVISING PHYSICIAN ASSISTANTS AND ADVANCED PRACTICE NURSES.\":'35 MONTH PROBATION',\n",
    "    \"THIRTY-FIVE MONTHS PROBATION WITH VARIOUS TERMS AND CONDITIONS. DURING PROBATION, DR. CHANG IS PROHIBITED FROM SUPERVISING PHYSICIAN ASSISTANTS OR ADVANCED PRACTICE NURSES.\":'35 MONTH PROBATION',\n",
    "    \"THIRTY-FIVE MONTHS PROBATION WITH VARIOUS TERMS AND CONDITIONS. DURING PROBATION, DR. MAGIMBI IS PROHIBITED FROM SUPERVISING PHYSICIAN ASSISTANTS AND ADVANCED PRACTICE NURSES.\":'35 MONTH PROBATION',\n",
    "    \"THIRTY-FIVE MONTHS PROBATION WITH VARIOUS TERMS AND CONDITIONS. DURING PROBATION, DR. PATINO IS PROHIBITED FROM SUPERVISING PHYSICIAN ASSISTANTS AND ADVANCED PRACTICE NURSES.\":'35 MONTH PROBATION',\n",
    "    \"THIRTY-FIVE MONTHS PROBATION WITH VARIOUS TERMS AND CONDITIONS. DURING PROBATION, DR. SUMARTO IS PROHIBITED FROM SUPERVISING PHYSICIAN ASSISTANTS AND ADVANCED PRACTICE NURSES.\":'35 MONTH PROBATION',\n",
    "    \"THIRTY-FIVE MONTHS PROBATION WITH VARIOUS TERMS AND CONDITONS. DURING PROBATION, DR. RINE IS PROHIBITED FROM SUPERVISING PHYSICIAN ASSISTANTS AND ADVANCED PRACTICE NURSES.\":'35 MONTH PROBATION',\n",
    "    \"THREE YEARS PROBATION WITH VARIOUS TERMS AND CONDITIONS.\":'3 YR PROBATION',\n",
    "    \"THREE YEARS PROBATION WITH VARIOUS TERMS AND CONDITIONS. DURING PROBATION, DR. BEESLEY IS PROHIBITED FROM SUPERVISING PHYSICIAN ASSISTANTS AND ADVANCED PRACTICE NURSES.\":'3 YR PROBATION',\n",
    "    \"THREE YEARS PROBATION WITH VARIOUS TERMS AND CONDITIONS. DURING PROBATION, DR. BEYRER IS PROHIBITED FROM SUPERVISING PHYSICIAN ASSISTANTS AND ADVANCED PRACTICE NURSES.\":'3 YR PROBATION',\n",
    "    \"THREE YEARS PROBATION WITH VARIOUS TERMS AND CONDITIONS. DURING PROBATION, DR. BHANDARI IS PROHIBITED FROM SUPERVISING PHYSICIAN ASSISTANTS AND ADVANCED PRACTICE NURSES.\":'3 YR PROBATION',\n",
    "    \"THREE YEARS PROBATION WITH VARIOUS TERMS AND CONDITIONS. DURING PROBATION, DR. CHAPPELL IS PROHIBITED FROM SUPERVISING PHYSICIAN ASSISTANTS AND ADVANCED PRACTICE NURSES.\":'3 YR PROBATION',\n",
    "    \"THREE YEARS PROBATION WITH VARIOUS TERMS AND CONDITIONS. DURING PROBATION, DR. DHALIWAL IS PROHIBITED FROM SUPERVISING PHYSICIAN ASSISTANTS AND ADVANCED PRACTICE NURSES.\":'3 YR PROBATION',\n",
    "    \"THREE YEARS PROBATION WITH VARIOUS TERMS AND CONDITIONS. DURING PROBATION, DR. DOBKIN IS PROHIBITED FROM SUPERVISING PHYSICIAN ASSISTANTS.\":'3 YR PROBATION',\n",
    "    \"THREE YEARS PROBATION WITH VARIOUS TERMS AND CONDITIONS. DURING PROBATION, DR. HODGSON IS PROHIBITED FROM SUPERVISING PHYSICIAN ASSISTANTS AND ADVANCED PRACTICE NURSES.\":'3 YR PROBATION',\n",
    "    \"THREE YEARS PROBATION WITH VARIOUS TERMS AND CONDITIONS. DURING PROBATION, DR. KLASSEN IS PROHIBITED FROM SUPERVISING PHYSICIAN ASSISTANTS AND ADVANCED PRACTICE NURSES.\":'3 YR PROBATION',\n",
    "    \"THREE YEARS PROBATION WITH VARIOUS TERMS AND CONDITIONS. DURING PROBATION, DR. LARDON IS PROHIBITED FROM SUPERVISING PHYSICIAN ASSISTANTS AND ADVANCED PRACTICE NURSES.\":'3 YR PROBATION',\n",
    "    \"THREE YEARS PROBATION WITH VARIOUS TERMS AND CONDITIONS. DURING PROBATION, DR. LEE IS PROHBITED FROM ENGAGING IN THE SOLO PRACTICE OF MEDICINE.\":'3 YR PROBATION',\n",
    "    \"THREE YEARS PROBATION WITH VARIOUS TERMS AND CONDITIONS. DURING PROBATION, DR. LEE IS PROHIBITED FROM SUPERVISING PHYSICIAN ASSISTANTS AND ADVANCED PRACTICE NURSES.\":'3 YR PROBATION',\n",
    "    \"THREE YEARS PROBATION WITH VARIOUS TERMS AND CONDITIONS. DURING PROBATION, DR. LIPSHITZ IS PROHIBITED FROM SUPERVISING PHYSICIAN ASSISTANTS AND ADVANCED PRACTICE NURSES.\":'3 YR PROBATION',\n",
    "    \"THREE YEARS PROBATION WITH VARIOUS TERMS AND CONDITIONS. DURING PROBATION, DR. MCCALLION IS PROHIBITED FROM SUPERVISING PHYSICIAN ASSISTANTS AND ADVANCED PRACTICE NURSES.\":'3 YR PROBATION',\n",
    "    \"THREE YEARS PROBATION WITH VARIOUS TERMS AND CONDITIONS. DURING PROBATION, DR. NASIR IS PROHIBITED FROM SUPERVISING PHYSICIAN ASSISTANTS AND ADVANCED PRACTICE NURSES.\":'3 YR PROBATION',\n",
    "    \"THREE YEARS PROBATION WITH VARIOUS TERMS AND CONDITIONS. DURING PROBATION, DR. NGUYEN IS PROHIBITED FROM SUPERVISING PHYSICIAN ASSISTANTS AND ADVANCED PRACTICE NURSES.\":'3 YR PROBATION',\n",
    "    \"THREE YEARS PROBATION WITH VARIOUS TERMS AND CONDITIONS. DURING PROBATION, DR. NIELSEN IS PROHIBITED FROM SUPERVISING PHYSICIAN ASSISTANTS AND ADVANCED PRACTICE NURSES.\":'3 YR PROBATION',\n",
    "    \"THREE YEARS PROBATION WITH VARIOUS TERMS AND CONDITIONS. DURING PROBATION, DR. ROSETE IS PROHIBITED FROM SUPERVISING PHYSICIAN ASSISTANTS AND ADVANCED PRACTICE NURSES.\":'3 YR PROBATION',\n",
    "    \"THREE YEARS PROBATION WITH VARIOUS TERMS AND CONDITIONS. DURING PROBATION, DR. TOUSARKISSIAN IS PROHIBITED FROM SUPERVISING PHYSICIAN ASSISTANTS AND ADVANCED PRACTICE NURSES.\":'3 YR PROBATION',\n",
    "    \"THREE YEARS PROBATION WITH VARIOUS TERMS AND CONDITIONS. DURING PROBATION, DR. WILLIAMS IS PROHIBITED FROM ENGAGING IN THE SOLO PRACTICE OF MEDICINE.\":'3 YR PROBATION',\n",
    "    \"THREE YEARS PROBATION WITH VARIOUS TERMS AND CONDITIONS. RESTRICTIONS: CANNOT ORDER, PRESCRIBE, DISPENSE, ADMINISTER, FURNISH, OR POSSESS ANY CONTROLLED SUBSTANCES UNTIL COMPLETION OF A PRESCRIBING PRACTICES COURSE; SHALL NOT ISSUE AN ORAL OR WRITTEN RECOMMENDATION OR APPROVAL TO POSSESS OR CULTIVATE MARIJUANA. PROHIBITED FROM ENGAGING IN THE SOLO PRACTICE OF MEDICINE; AND PROHIBITED FROM SUPERVISING PHYSICIAN ASSISTANTS AND ADVANCED PRACTICE NURSES.\":'3 YR PROBATION',\n",
    "    \"THREE YEARS PROBATION WITH VARIOUS TERMS AND CONDITIONS. RESTRICTIONS: PROHIBITED FROM ENGAGING IN THE SOLO PRACTICE OF MEDICINE; AND PROHIBITED FROM SUPERVISING PHYSICIAN ASSISTANTS AND ADVANCED PRACTICE NURSES.\":'3 YR PROBATION',\n",
    "    \"THREE YEARS PROBATION WITH VARIOUS TERMS AND CONDITIONS. RESTRICTIONS: PROHIBITED FROM HOLDING ANY OWNERSHIP INTEREST IN A MEDICAL OFFICE OR CLINIC; AND PROHIBITED FROM SUPERVISING PHYSICIAN ASSISTANTS AND ADVANCED PRACTICE NURSES.\":'3 YR PROBATION',\n",
    "    \"THREE YEARS PROBATION WITH VARIOUS TERMS AND CONDITIONS. RESTRICTIONS: PROHIBITED FROM ISSUING, RENEWING, OR EXTENDING ANY MEDICAL VACCINE EXEMPTIONS; AND PROHIBITED FROM SUPERVISING PHYSICIAN ASSISTANTS AND ADVANCED PRACTICE NURSES.\":'3 YR PROBATION',\n",
    "    \"THREE YEARS PROBATION WITH VARIOUS TERMS AND CONDITIONS. RESTRICTIONS: PROHIBITED FROM ORDERING, PRESCRIBING, DISPENSING, ADMINISTERING, FURNISHING, OR POSSESSING ANY CONTROLLED SUBSTANCES AND FROM ISSUING AN ORAL OR WRITTEN RECOMMENDATION OR APPROVAL TO POSSESS OR CULTIVATE MARIJUANA UNTIL SUCCESSFUL COMPLETION OF A CLINICAL COMPETENCE ASSESSMENT PROGRAM; PROHIBITED FROM ENGAGING IN THE SOLO PRACTICE OF MEDICINE; PROHIBITED FROM PROVIDING TREATMENT TO DR. KIM?S FAMILY MEMBERS OR EMPLOYEES, EXCEPT TO DR. KIM?S FATHER IN EMERGENCY SITUATIONS ONLY ; AND PROHIBITED FROM SUPERVISING PHYSICIAN ASSISTANTS OR ADVANCED PRACTICE NURSES.\":'3 YR PROBATION',\n",
    "    \"THREE YEARS PROBATION WITH VARIOUS TERMS AND CONDITIONS. RESTRICTIONS: PROHIBITED FROM ORDERING, PRESCRIBING, DISPENSING, ADMINISTERING, FURNISHING, OR POSSESSING ANY CONTROLLED SUBSTANCES EXCEPT FOR THOSE DRUGS LISTED IN SCHEDULE IV AND V, AND FROM ISSUING AN ORAL OR WRITTEN RECOMMENDATION OR APPROVAL TO POSSESS OR CULTIVATE MARIJUANA; AND PROHIBITED FROM SUPERVISING PHYSICIAN ASSISTANTS AND ADVANCED PRACTICE NURSES.\":'3 YR PROBATION',\n",
    "    \"THREE YEARS PROBATION WITH VARIOUS TERMS AND CONDITIONS. RESTRICTIONS: PROHIBITED FROM PRESCRIBING, DISPENSING, ADMINISTERING, FURNISHING, OR POSSESSING ANY CONTROLLED SUBSTANCES EXCEPT FOR THOSE DRUGS LISTED IN SCHEDULE V UNTIL COMPLETION OF A PRESCRIBING PRACTICES COURSE (CONDITION SATISFIED), AND FROM ISSUING AN ORAL OR WRITTEN RECOMMENDATION OR APPROVAL TO POSSESS OR CULTIVATE MARIJUANA; AND PROHIBITED FROM SUPERVISING PHYSICIAN ASSISTANTS AND ADVANCED PRACTICE NURSES.\":'3 YR PROBATION',\n",
    "    \"THREE YEARS PROBATION WITH VARIOUS TERMS AND CONDITIONS. RESTRICTIONS: PROHIBITED FROM UTILIZING VASER TECHNOLOGY WHILE PERFORMING LIPOSUCTION PROCEDURES; AND PROHIBITED FROM SUPERVISING PHYSICIAN ASSISTANTS AND ADVANCED PRACTICE NURSES.\":'3 YR PROBATION',\n",
    "    \"THREE YEARS PROBATION WITH VARIOUS TERMS AND CONDITIONS. RESTRICTIONS: PROHIBITED FROM WRITING, ISSUING OR OTHERWISE AIDING AND ABETTING THE WRITING OR ISSUANCE OF EXEMPTIONS FROM ANY VACCINE FOR ANY PATIENT OR OTHER PERSONS; AND PROHIBITED FROM SUPERVISING PHYSICIAN ASSISTANTS AND ADVANCED PRACTICE NURSES.\":'3 YR PROBATION',\n",
    "    \"THREE YEARS' PROBATION WITH VARIOUS TERMS AND CONDITIONS. RESTRICTIONS: CANNOT ORDER, PRESCRIBE, DISPENSE, ADMINISTER, FURNISH, OR POSSESS ANY CONTROLLED SUBSTANCES UNTIL COMPLETING A PRESCRIBING PRACTICES COURSE (CONDITION SATISFIED); AND PROHIBITED FROM SUPERVISING PHYSICIAN ASSISTANTS AND ADVANCED PRACTICE NURSES.\":'3 YR PROBATION',\n",
    "    \"TWO YEARS PROBATION WITH VARIOUS TERMS AND CONDITIONS. DURING PROBATION, DR. LAO IS PROHIBITED FROM SUPERVISING PHYSICIAN ASSISTANTS AND ADVANCED PRACTICE NURSES.\":'2 YR PROBATION',\n",
    "    \"TWO YEARS PROBATION WITH VARIOUS TERMS AND CONDITIONS. DURING PROBATION, DR. MAMO IS PROHIBITED FROM SUPERVISING PHYSICIAN ASSISTANTS AND ADVANCED PRACTICE NURSES.\":'2 YR PROBATION',\n",
    "    \"TWO YEARS PROBATION WITH VARIOUS TERMS AND CONDITIONS. EFFECTIVE 09/23/2022, CASE NO. 8002018047615 WILL RUN CONSECUTIVE TO AND SUPERSEDE THE TERMS OF PROBATION IN CASE NO. 8002017031593. RESTRICTIONS: PROHIBITED FROM ENGAGING IN THE SOLO PRACTICE OF MEDICINE; AND PROHIBITED FROM SUPERVISING PHYSICIAN ASSISTANTS AND ADVANCED PRACTICE NURSES.\":'2 YR PROBATION',\n",
    "    \"TWO YEARS PROBATION WITH VARIOUS TERMS AND CONDITIONS. RESTRICTIONS: PROHIBITED FROM SUPERVISING PHYSICIAN ASSISTANTS AND ADVANCED PRACTICE NURSES; PROHIBITED FROM ENGAGING IN THE PRACTICE OF MEDICINE IN DR. SAIFY?S OR PATIENT?S PLACE OF RESIDENCE, UNLESS THE PATIENT RESIDES IN A SKILLED NURSING FACILITY OR OTHER SIMILAR LICENSED FACILITY.\":'2 YR PROBATION',\n",
    "    \"FIVE YEARS' PROBATION TO BE SERVED CONCURRENTLY WITH AND UNDER THE SAME TERMS AND CONDITIONS IN CASE NUMBER 03-2013-234324, WITH ADDITIONAL TERMS AND CONDITIONS. SHALL NOT ENGAGE IN THE PRACTICE OF MEDICINE UNTIL COMPLETION OF THE CLINICAL DIAGNOSTIC EVALUATION AND NOTFIIED BY THE BOARD OR ITS DESIGNEE THAT DR. APAYDIN IS FIT TO PRACTICE MEDICINE SAFELY (CONDITION MET).\" :'5 YR PROBATION',\n",
    "    \"PLACED ON PROBATION FOR THE DURATION OF PROBATION IN CASE NO. 8002015013651. ADDITIONALLY PROHIBITED FROM PERFORMING ANY CARE OR TREATMENT WITH PATIENTS INVOLVING THE USE, MANAGEMENT, OR ANY SURGICAL PROCEDURE RELATED TO INTRATHECAL PUMPS, OR ADVISING ANY MEDICAL PROVIDER ON THE CARE OR TREATMENT OF PATIENTS INVOLVING THE USE, MANAGEMENT, OR ANY SURGICAL PROCEDURE RELATED TO INTRATHECAL PUMPS, FOR THE DURATION OF DR. SMITH'S PROBATION\":\"ADDITIONAL PROBATION.\",\n",
    "    \"THREE YEARS PROBATION WITH VARIOUS TERMS AND CONDITIONS. RESTRICTIONS: PROHIBITED FROM PRESCRIBING, DISPENSING, ADMINISTERING, FURNISHING, OR POSSESSING ANY CONTROLLED SUBSTANCES EXCEPT FOR THOSE DRUGS LISTED IN SCHEDULE V UNTIL COMPLETION OF A PRESCRIBING PRACTICES COURSE (CONDITION SATISFIED), AND FROM ISSUING AN ORAL OR WRITTEN RECOMMENDATION OR APPROVAL TO POSSESS OR CULTIVATE MARIJUANA; AND PROHIBITED FROM SUPERVISING PHYSICIAN ASSISTANTS AND ADVANCED PRACTICE NURSES.\" :\"3 YR PROBATION\",\n",
    "    \"TWO YEARS' PROBATION WITH VARIOUS TERMS AND CONDITIONS, AND SHALL RUN CONSECUTIVE TO, AND SHALL TAKE EFFECT IMMEDIATELY UPON COMPLETION OF THE PROBATIONARY ORDER IN CASE NO. 800-2016-022245. RESTRICTIONS: PROHIBITED FROM SUPERVISING PHYSICIAN ASSISTANTS AND ADVANCED PRACTICE NURSES.\":\"2 YR PROBATION\"\n",
    "    }\n",
    "\n",
    "DisciplinaryAction_df_2022['Disciplinary Action'] = DisciplinaryAction_df_2022['Disciplinary Action'].replace(reversed_dict)\n",
    "DisciplinaryAction_df_2022"
   ]
  },
  {
   "cell_type": "code",
   "execution_count": null,
   "metadata": {},
   "outputs": [
    {
     "data": {
      "text/html": [
       "<div>\n",
       "<style scoped>\n",
       "    .dataframe tbody tr th:only-of-type {\n",
       "        vertical-align: middle;\n",
       "    }\n",
       "\n",
       "    .dataframe tbody tr th {\n",
       "        vertical-align: top;\n",
       "    }\n",
       "\n",
       "    .dataframe thead th {\n",
       "        text-align: right;\n",
       "    }\n",
       "</style>\n",
       "<table border=\"1\" class=\"dataframe\">\n",
       "  <thead>\n",
       "    <tr style=\"text-align: right;\">\n",
       "      <th></th>\n",
       "      <th>Disciplinary Action</th>\n",
       "      <th>No. Cases</th>\n",
       "    </tr>\n",
       "  </thead>\n",
       "  <tbody>\n",
       "    <tr>\n",
       "      <th>0</th>\n",
       "      <td>PROBATION COMPLETED</td>\n",
       "      <td>121</td>\n",
       "    </tr>\n",
       "    <tr>\n",
       "      <th>1</th>\n",
       "      <td>PUBLIC REPRIMAND</td>\n",
       "      <td>95</td>\n",
       "    </tr>\n",
       "    <tr>\n",
       "      <th>2</th>\n",
       "      <td>SURRENDER OF LICENSE</td>\n",
       "      <td>90</td>\n",
       "    </tr>\n",
       "    <tr>\n",
       "      <th>3</th>\n",
       "      <td>5 YR PROBATION</td>\n",
       "      <td>40</td>\n",
       "    </tr>\n",
       "    <tr>\n",
       "      <th>4</th>\n",
       "      <td>3 YR PROBATION</td>\n",
       "      <td>36</td>\n",
       "    </tr>\n",
       "    <tr>\n",
       "      <th>5</th>\n",
       "      <td>REVOKED</td>\n",
       "      <td>36</td>\n",
       "    </tr>\n",
       "    <tr>\n",
       "      <th>6</th>\n",
       "      <td>ACCUSATION FILED</td>\n",
       "      <td>21</td>\n",
       "    </tr>\n",
       "    <tr>\n",
       "      <th>7</th>\n",
       "      <td>4 YR PROBATION</td>\n",
       "      <td>19</td>\n",
       "    </tr>\n",
       "    <tr>\n",
       "      <th>8</th>\n",
       "      <td>35 MONTH PROBATION</td>\n",
       "      <td>11</td>\n",
       "    </tr>\n",
       "    <tr>\n",
       "      <th>9</th>\n",
       "      <td>7 YR PROBATION</td>\n",
       "      <td>7</td>\n",
       "    </tr>\n",
       "  </tbody>\n",
       "</table>\n",
       "</div>"
      ],
      "text/plain": [
       "    Disciplinary Action  No. Cases\n",
       "0   PROBATION COMPLETED        121\n",
       "1      PUBLIC REPRIMAND         95\n",
       "2  SURRENDER OF LICENSE         90\n",
       "3        5 YR PROBATION         40\n",
       "4        3 YR PROBATION         36\n",
       "5               REVOKED         36\n",
       "6      ACCUSATION FILED         21\n",
       "7        4 YR PROBATION         19\n",
       "8    35 MONTH PROBATION         11\n",
       "9        7 YR PROBATION          7"
      ]
     },
     "execution_count": 168,
     "metadata": {},
     "output_type": "execute_result"
    }
   ],
   "source": [
    "#DisciplinaryAction_df_2022\n",
    "DisciplinaryAction_df_group = DisciplinaryAction_df_2022.groupby(['Disciplinary Action']).count().sort_values('Date',ascending = False).head(10)\n",
    "\n",
    "del DisciplinaryAction_df_group['Month']\n",
    "\n",
    "DisciplinaryAction_df_group  = DisciplinaryAction_df_group.rename(columns={\n",
    "    \"Date\":'No. Cases'\n",
    "})\n",
    "DisciplinaryAction_df_group = DisciplinaryAction_df_group.reset_index()\n",
    "\n",
    "DisciplinaryAction_df_group"
   ]
  },
  {
   "cell_type": "markdown",
   "metadata": {},
   "source": [
    "<h3>Plot SQL Data</h3>"
   ]
  },
  {
   "cell_type": "code",
   "execution_count": 307,
   "metadata": {},
   "outputs": [
    {
     "name": "stderr",
     "output_type": "stream",
     "text": [
      "/Users/leslieleiva/Library/Python/3.9/lib/python/site-packages/plotly/graph_objs/_deprecations.py:378: DeprecationWarning:\n",
      "\n",
      "plotly.graph_objs.Line is deprecated.\n",
      "Please replace it with one of the following more specific types\n",
      "  - plotly.graph_objs.scatter.Line\n",
      "  - plotly.graph_objs.layout.shape.Line\n",
      "  - etc.\n",
      "\n",
      "\n"
     ]
    },
    {
     "data": {
      "application/vnd.plotly.v1+json": {
       "config": {
        "plotlyServerURL": "https://plot.ly"
       },
       "data": [
        {
         "name": "Total Cases",
         "opacity": 0.75,
         "type": "bar",
         "x": [
          "01",
          "02",
          "03",
          "04",
          "05",
          "06",
          "07",
          "08",
          "09",
          "10",
          "11",
          "12"
         ],
         "y": [
          18,
          18,
          19,
          22,
          17,
          17,
          20,
          15,
          18,
          19,
          12,
          18
         ]
        },
        {
         "name": "Avg No. Cases",
         "opacity": 0.75,
         "type": "bar",
         "x": [
          "01",
          "02",
          "03",
          "04",
          "05",
          "06",
          "07",
          "08",
          "09",
          "10",
          "11",
          "12"
         ],
         "y": [
          2.7,
          2.6,
          2.5,
          2.4,
          1.6,
          2.4,
          1.5,
          2.4,
          3.3,
          2.8,
          1.8,
          2.2
         ]
        },
        {
         "name": "Total No. Disciplinary Alerts",
         "opacity": 0.75,
         "type": "scatter",
         "x": [
          "01",
          "02",
          "03",
          "04",
          "05",
          "06",
          "07",
          "08",
          "09",
          "10",
          "11",
          "12"
         ],
         "y": [
          103,
          84,
          118,
          75,
          51,
          71,
          47,
          71,
          91,
          47,
          16,
          17
         ]
        },
        {
         "name": "Avg No. Disciplinary Alerts",
         "opacity": 0.75,
         "type": "scatter",
         "x": [
          "01",
          "02",
          "03",
          "04",
          "05",
          "06",
          "07",
          "08",
          "09",
          "10",
          "11",
          "12"
         ],
         "y": [
          4.904761904761905,
          4.421052631578948,
          4.916666666666667,
          3.9473684210526314,
          2.6842105263157894,
          3.227272727272727,
          2.611111111111111,
          3.55,
          4.7894736842105265,
          3.9166666666666665,
          1.4545454545454546,
          1.8888888888888888
         ]
        }
       ],
       "layout": {
        "barmode": "overlay",
        "template": {
         "data": {
          "bar": [
           {
            "error_x": {
             "color": "#2a3f5f"
            },
            "error_y": {
             "color": "#2a3f5f"
            },
            "marker": {
             "line": {
              "color": "#E5ECF6",
              "width": 0.5
             },
             "pattern": {
              "fillmode": "overlay",
              "size": 10,
              "solidity": 0.2
             }
            },
            "type": "bar"
           }
          ],
          "barpolar": [
           {
            "marker": {
             "line": {
              "color": "#E5ECF6",
              "width": 0.5
             },
             "pattern": {
              "fillmode": "overlay",
              "size": 10,
              "solidity": 0.2
             }
            },
            "type": "barpolar"
           }
          ],
          "carpet": [
           {
            "aaxis": {
             "endlinecolor": "#2a3f5f",
             "gridcolor": "white",
             "linecolor": "white",
             "minorgridcolor": "white",
             "startlinecolor": "#2a3f5f"
            },
            "baxis": {
             "endlinecolor": "#2a3f5f",
             "gridcolor": "white",
             "linecolor": "white",
             "minorgridcolor": "white",
             "startlinecolor": "#2a3f5f"
            },
            "type": "carpet"
           }
          ],
          "choropleth": [
           {
            "colorbar": {
             "outlinewidth": 0,
             "ticks": ""
            },
            "type": "choropleth"
           }
          ],
          "contour": [
           {
            "colorbar": {
             "outlinewidth": 0,
             "ticks": ""
            },
            "colorscale": [
             [
              0,
              "#0d0887"
             ],
             [
              0.1111111111111111,
              "#46039f"
             ],
             [
              0.2222222222222222,
              "#7201a8"
             ],
             [
              0.3333333333333333,
              "#9c179e"
             ],
             [
              0.4444444444444444,
              "#bd3786"
             ],
             [
              0.5555555555555556,
              "#d8576b"
             ],
             [
              0.6666666666666666,
              "#ed7953"
             ],
             [
              0.7777777777777778,
              "#fb9f3a"
             ],
             [
              0.8888888888888888,
              "#fdca26"
             ],
             [
              1,
              "#f0f921"
             ]
            ],
            "type": "contour"
           }
          ],
          "contourcarpet": [
           {
            "colorbar": {
             "outlinewidth": 0,
             "ticks": ""
            },
            "type": "contourcarpet"
           }
          ],
          "heatmap": [
           {
            "colorbar": {
             "outlinewidth": 0,
             "ticks": ""
            },
            "colorscale": [
             [
              0,
              "#0d0887"
             ],
             [
              0.1111111111111111,
              "#46039f"
             ],
             [
              0.2222222222222222,
              "#7201a8"
             ],
             [
              0.3333333333333333,
              "#9c179e"
             ],
             [
              0.4444444444444444,
              "#bd3786"
             ],
             [
              0.5555555555555556,
              "#d8576b"
             ],
             [
              0.6666666666666666,
              "#ed7953"
             ],
             [
              0.7777777777777778,
              "#fb9f3a"
             ],
             [
              0.8888888888888888,
              "#fdca26"
             ],
             [
              1,
              "#f0f921"
             ]
            ],
            "type": "heatmap"
           }
          ],
          "heatmapgl": [
           {
            "colorbar": {
             "outlinewidth": 0,
             "ticks": ""
            },
            "colorscale": [
             [
              0,
              "#0d0887"
             ],
             [
              0.1111111111111111,
              "#46039f"
             ],
             [
              0.2222222222222222,
              "#7201a8"
             ],
             [
              0.3333333333333333,
              "#9c179e"
             ],
             [
              0.4444444444444444,
              "#bd3786"
             ],
             [
              0.5555555555555556,
              "#d8576b"
             ],
             [
              0.6666666666666666,
              "#ed7953"
             ],
             [
              0.7777777777777778,
              "#fb9f3a"
             ],
             [
              0.8888888888888888,
              "#fdca26"
             ],
             [
              1,
              "#f0f921"
             ]
            ],
            "type": "heatmapgl"
           }
          ],
          "histogram": [
           {
            "marker": {
             "pattern": {
              "fillmode": "overlay",
              "size": 10,
              "solidity": 0.2
             }
            },
            "type": "histogram"
           }
          ],
          "histogram2d": [
           {
            "colorbar": {
             "outlinewidth": 0,
             "ticks": ""
            },
            "colorscale": [
             [
              0,
              "#0d0887"
             ],
             [
              0.1111111111111111,
              "#46039f"
             ],
             [
              0.2222222222222222,
              "#7201a8"
             ],
             [
              0.3333333333333333,
              "#9c179e"
             ],
             [
              0.4444444444444444,
              "#bd3786"
             ],
             [
              0.5555555555555556,
              "#d8576b"
             ],
             [
              0.6666666666666666,
              "#ed7953"
             ],
             [
              0.7777777777777778,
              "#fb9f3a"
             ],
             [
              0.8888888888888888,
              "#fdca26"
             ],
             [
              1,
              "#f0f921"
             ]
            ],
            "type": "histogram2d"
           }
          ],
          "histogram2dcontour": [
           {
            "colorbar": {
             "outlinewidth": 0,
             "ticks": ""
            },
            "colorscale": [
             [
              0,
              "#0d0887"
             ],
             [
              0.1111111111111111,
              "#46039f"
             ],
             [
              0.2222222222222222,
              "#7201a8"
             ],
             [
              0.3333333333333333,
              "#9c179e"
             ],
             [
              0.4444444444444444,
              "#bd3786"
             ],
             [
              0.5555555555555556,
              "#d8576b"
             ],
             [
              0.6666666666666666,
              "#ed7953"
             ],
             [
              0.7777777777777778,
              "#fb9f3a"
             ],
             [
              0.8888888888888888,
              "#fdca26"
             ],
             [
              1,
              "#f0f921"
             ]
            ],
            "type": "histogram2dcontour"
           }
          ],
          "mesh3d": [
           {
            "colorbar": {
             "outlinewidth": 0,
             "ticks": ""
            },
            "type": "mesh3d"
           }
          ],
          "parcoords": [
           {
            "line": {
             "colorbar": {
              "outlinewidth": 0,
              "ticks": ""
             }
            },
            "type": "parcoords"
           }
          ],
          "pie": [
           {
            "automargin": true,
            "type": "pie"
           }
          ],
          "scatter": [
           {
            "fillpattern": {
             "fillmode": "overlay",
             "size": 10,
             "solidity": 0.2
            },
            "type": "scatter"
           }
          ],
          "scatter3d": [
           {
            "line": {
             "colorbar": {
              "outlinewidth": 0,
              "ticks": ""
             }
            },
            "marker": {
             "colorbar": {
              "outlinewidth": 0,
              "ticks": ""
             }
            },
            "type": "scatter3d"
           }
          ],
          "scattercarpet": [
           {
            "marker": {
             "colorbar": {
              "outlinewidth": 0,
              "ticks": ""
             }
            },
            "type": "scattercarpet"
           }
          ],
          "scattergeo": [
           {
            "marker": {
             "colorbar": {
              "outlinewidth": 0,
              "ticks": ""
             }
            },
            "type": "scattergeo"
           }
          ],
          "scattergl": [
           {
            "marker": {
             "colorbar": {
              "outlinewidth": 0,
              "ticks": ""
             }
            },
            "type": "scattergl"
           }
          ],
          "scattermapbox": [
           {
            "marker": {
             "colorbar": {
              "outlinewidth": 0,
              "ticks": ""
             }
            },
            "type": "scattermapbox"
           }
          ],
          "scatterpolar": [
           {
            "marker": {
             "colorbar": {
              "outlinewidth": 0,
              "ticks": ""
             }
            },
            "type": "scatterpolar"
           }
          ],
          "scatterpolargl": [
           {
            "marker": {
             "colorbar": {
              "outlinewidth": 0,
              "ticks": ""
             }
            },
            "type": "scatterpolargl"
           }
          ],
          "scatterternary": [
           {
            "marker": {
             "colorbar": {
              "outlinewidth": 0,
              "ticks": ""
             }
            },
            "type": "scatterternary"
           }
          ],
          "surface": [
           {
            "colorbar": {
             "outlinewidth": 0,
             "ticks": ""
            },
            "colorscale": [
             [
              0,
              "#0d0887"
             ],
             [
              0.1111111111111111,
              "#46039f"
             ],
             [
              0.2222222222222222,
              "#7201a8"
             ],
             [
              0.3333333333333333,
              "#9c179e"
             ],
             [
              0.4444444444444444,
              "#bd3786"
             ],
             [
              0.5555555555555556,
              "#d8576b"
             ],
             [
              0.6666666666666666,
              "#ed7953"
             ],
             [
              0.7777777777777778,
              "#fb9f3a"
             ],
             [
              0.8888888888888888,
              "#fdca26"
             ],
             [
              1,
              "#f0f921"
             ]
            ],
            "type": "surface"
           }
          ],
          "table": [
           {
            "cells": {
             "fill": {
              "color": "#EBF0F8"
             },
             "line": {
              "color": "white"
             }
            },
            "header": {
             "fill": {
              "color": "#C8D4E3"
             },
             "line": {
              "color": "white"
             }
            },
            "type": "table"
           }
          ]
         },
         "layout": {
          "annotationdefaults": {
           "arrowcolor": "#2a3f5f",
           "arrowhead": 0,
           "arrowwidth": 1
          },
          "autotypenumbers": "strict",
          "coloraxis": {
           "colorbar": {
            "outlinewidth": 0,
            "ticks": ""
           }
          },
          "colorscale": {
           "diverging": [
            [
             0,
             "#8e0152"
            ],
            [
             0.1,
             "#c51b7d"
            ],
            [
             0.2,
             "#de77ae"
            ],
            [
             0.3,
             "#f1b6da"
            ],
            [
             0.4,
             "#fde0ef"
            ],
            [
             0.5,
             "#f7f7f7"
            ],
            [
             0.6,
             "#e6f5d0"
            ],
            [
             0.7,
             "#b8e186"
            ],
            [
             0.8,
             "#7fbc41"
            ],
            [
             0.9,
             "#4d9221"
            ],
            [
             1,
             "#276419"
            ]
           ],
           "sequential": [
            [
             0,
             "#0d0887"
            ],
            [
             0.1111111111111111,
             "#46039f"
            ],
            [
             0.2222222222222222,
             "#7201a8"
            ],
            [
             0.3333333333333333,
             "#9c179e"
            ],
            [
             0.4444444444444444,
             "#bd3786"
            ],
            [
             0.5555555555555556,
             "#d8576b"
            ],
            [
             0.6666666666666666,
             "#ed7953"
            ],
            [
             0.7777777777777778,
             "#fb9f3a"
            ],
            [
             0.8888888888888888,
             "#fdca26"
            ],
            [
             1,
             "#f0f921"
            ]
           ],
           "sequentialminus": [
            [
             0,
             "#0d0887"
            ],
            [
             0.1111111111111111,
             "#46039f"
            ],
            [
             0.2222222222222222,
             "#7201a8"
            ],
            [
             0.3333333333333333,
             "#9c179e"
            ],
            [
             0.4444444444444444,
             "#bd3786"
            ],
            [
             0.5555555555555556,
             "#d8576b"
            ],
            [
             0.6666666666666666,
             "#ed7953"
            ],
            [
             0.7777777777777778,
             "#fb9f3a"
            ],
            [
             0.8888888888888888,
             "#fdca26"
            ],
            [
             1,
             "#f0f921"
            ]
           ]
          },
          "colorway": [
           "#636efa",
           "#EF553B",
           "#00cc96",
           "#ab63fa",
           "#FFA15A",
           "#19d3f3",
           "#FF6692",
           "#B6E880",
           "#FF97FF",
           "#FECB52"
          ],
          "font": {
           "color": "#2a3f5f"
          },
          "geo": {
           "bgcolor": "white",
           "lakecolor": "white",
           "landcolor": "#E5ECF6",
           "showlakes": true,
           "showland": true,
           "subunitcolor": "white"
          },
          "hoverlabel": {
           "align": "left"
          },
          "hovermode": "closest",
          "mapbox": {
           "style": "light"
          },
          "paper_bgcolor": "white",
          "plot_bgcolor": "#E5ECF6",
          "polar": {
           "angularaxis": {
            "gridcolor": "white",
            "linecolor": "white",
            "ticks": ""
           },
           "bgcolor": "#E5ECF6",
           "radialaxis": {
            "gridcolor": "white",
            "linecolor": "white",
            "ticks": ""
           }
          },
          "scene": {
           "xaxis": {
            "backgroundcolor": "#E5ECF6",
            "gridcolor": "white",
            "gridwidth": 2,
            "linecolor": "white",
            "showbackground": true,
            "ticks": "",
            "zerolinecolor": "white"
           },
           "yaxis": {
            "backgroundcolor": "#E5ECF6",
            "gridcolor": "white",
            "gridwidth": 2,
            "linecolor": "white",
            "showbackground": true,
            "ticks": "",
            "zerolinecolor": "white"
           },
           "zaxis": {
            "backgroundcolor": "#E5ECF6",
            "gridcolor": "white",
            "gridwidth": 2,
            "linecolor": "white",
            "showbackground": true,
            "ticks": "",
            "zerolinecolor": "white"
           }
          },
          "shapedefaults": {
           "line": {
            "color": "#2a3f5f"
           }
          },
          "ternary": {
           "aaxis": {
            "gridcolor": "white",
            "linecolor": "white",
            "ticks": ""
           },
           "baxis": {
            "gridcolor": "white",
            "linecolor": "white",
            "ticks": ""
           },
           "bgcolor": "#E5ECF6",
           "caxis": {
            "gridcolor": "white",
            "linecolor": "white",
            "ticks": ""
           }
          },
          "title": {
           "x": 0.05
          },
          "xaxis": {
           "automargin": true,
           "gridcolor": "white",
           "linecolor": "white",
           "ticks": "",
           "title": {
            "standoff": 15
           },
           "zerolinecolor": "white",
           "zerolinewidth": 2
          },
          "yaxis": {
           "automargin": true,
           "gridcolor": "white",
           "linecolor": "white",
           "ticks": "",
           "title": {
            "standoff": 15
           },
           "zerolinecolor": "white",
           "zerolinewidth": 2
          }
         }
        },
        "title": {
         "text": "Statistics: Cases & Disciplinary Alerts"
        },
        "xaxis": {
         "title": {
          "text": "Month"
         }
        }
       }
      }
     },
     "metadata": {},
     "output_type": "display_data"
    }
   ],
   "source": [
    "import plotly.graph_objects as go\n",
    "\n",
    "#First Dataset\n",
    "#Total cases in a month\n",
    "DisciplinaryAction_df_date = DisciplinaryAction_df_2022.groupby(['Month','Date']).count() #.sort_values('Date',ascending = False).head(10)\n",
    "DisciplinaryAction_df_date = DisciplinaryAction_df_date.reset_index()\n",
    "DisciplinaryAction_df_date  = DisciplinaryAction_df_date.rename(columns={\n",
    "    \"Disciplinary Action\":'No. Cases'\n",
    "})\n",
    "df1 = DisciplinaryAction_df_date.groupby('Month').count().reset_index()\n",
    "del df1['Date']\n",
    "\n",
    "\n",
    "##Second data set\n",
    "#Avg number of cases in a month\n",
    "DisciplinaryAction_df_date_avg = DisciplinaryAction_df_date.drop(columns={'Date'})\n",
    "DisciplinaryAction_df_date_avg = DisciplinaryAction_df_date_avg.groupby('Month').mean()\n",
    "DisciplinaryAction_df_date_avg = DisciplinaryAction_df_date_avg.reset_index()\n",
    "DisciplinaryAction_df_date_avg['No. Cases'] = round(DisciplinaryAction_df_date_avg['No. Cases'],1)\n",
    "df2 = DisciplinaryAction_df_date_avg\n",
    "\n",
    "# Extract the 'No. Cases' columns for plotting\n",
    "count_data = df1['No. Cases'].tolist()\n",
    "mean_data = df2['No. Cases'].tolist()\n",
    "alert_sum_data = disciplinary_month_total['No. Alerts'].tolist()\n",
    "alert_avg_data = disciplinary_month_avg['No. Alerts'].tolist()\n",
    "\n",
    "months_data = df1['Month'].tolist()\n",
    "\n",
    "# Group data together\n",
    "hist_data = [count_data, mean_data]\n",
    "group_labels = ['Total Cases', 'Average Cases']\n",
    "\n",
    "colors = ['slategray', 'magenta']\n",
    "\n",
    "fig = go.Figure()\n",
    "fig.add_trace(go.Bar(x=months_data,\n",
    "                     y=count_data, \n",
    "                     name='Total Cases'))\n",
    "fig.add_trace(go.Bar(x=months_data,\n",
    "                     y=mean_data,\n",
    "                     name='Avg No. Cases'))\n",
    "fig.add_trace(go.Line(x=months_data,\n",
    "                     y=alert_sum_data,\n",
    "                     name='Total No. Disciplinary Alerts'))\n",
    "fig.add_trace(go.Line(x=months_data,\n",
    "                     y=alert_avg_data,\n",
    "                     name='Avg No. Disciplinary Alerts'))\n",
    "# Overlay both histograms\n",
    "fig.update_layout(barmode='overlay',\n",
    "                  title='Statistics: Cases & Disciplinary Alerts',\n",
    "                  xaxis=dict(title=\"Month\"),\n",
    "                  #yaxis=dict(title=\"No. Cases\"\n",
    "                  )\n",
    "\n",
    "# Reduce opacity to see both histograms\n",
    "fig.update_traces(opacity=0.75)\n",
    "\n",
    "fig.show()"
   ]
  },
  {
   "cell_type": "code",
   "execution_count": null,
   "metadata": {},
   "outputs": [
    {
     "data": {
      "application/vnd.plotly.v1+json": {
       "config": {
        "plotlyServerURL": "https://plot.ly"
       },
       "data": [
        {
         "domain": {
          "x": [
           0,
           1
          ],
          "y": [
           0,
           1
          ]
         },
         "hovertemplate": "Disciplinary Action=%{label}<br>No. Cases=%{value}<extra></extra>",
         "labels": [
          "PROBATION COMPLETED",
          "PUBLIC REPRIMAND",
          "SURRENDER OF LICENSE",
          "5 YR PROBATION",
          "3 YR PROBATION",
          "REVOKED",
          "ACCUSATION FILED",
          "4 YR PROBATION",
          "35 MONTH PROBATION",
          "7 YR PROBATION"
         ],
         "legendgroup": "",
         "name": "",
         "showlegend": true,
         "type": "pie",
         "values": [
          121,
          95,
          90,
          40,
          36,
          36,
          21,
          19,
          11,
          7
         ]
        }
       ],
       "layout": {
        "legend": {
         "tracegroupgap": 0
        },
        "piecolorway": [
         "rgb(103,0,31)",
         "rgb(178,24,43)",
         "rgb(214,96,77)",
         "rgb(244,165,130)",
         "rgb(253,219,199)",
         "rgb(247,247,247)",
         "rgb(209,229,240)",
         "rgb(146,197,222)",
         "rgb(67,147,195)",
         "rgb(33,102,172)",
         "rgb(5,48,97)"
        ],
        "template": {
         "data": {
          "bar": [
           {
            "error_x": {
             "color": "#2a3f5f"
            },
            "error_y": {
             "color": "#2a3f5f"
            },
            "marker": {
             "line": {
              "color": "#E5ECF6",
              "width": 0.5
             },
             "pattern": {
              "fillmode": "overlay",
              "size": 10,
              "solidity": 0.2
             }
            },
            "type": "bar"
           }
          ],
          "barpolar": [
           {
            "marker": {
             "line": {
              "color": "#E5ECF6",
              "width": 0.5
             },
             "pattern": {
              "fillmode": "overlay",
              "size": 10,
              "solidity": 0.2
             }
            },
            "type": "barpolar"
           }
          ],
          "carpet": [
           {
            "aaxis": {
             "endlinecolor": "#2a3f5f",
             "gridcolor": "white",
             "linecolor": "white",
             "minorgridcolor": "white",
             "startlinecolor": "#2a3f5f"
            },
            "baxis": {
             "endlinecolor": "#2a3f5f",
             "gridcolor": "white",
             "linecolor": "white",
             "minorgridcolor": "white",
             "startlinecolor": "#2a3f5f"
            },
            "type": "carpet"
           }
          ],
          "choropleth": [
           {
            "colorbar": {
             "outlinewidth": 0,
             "ticks": ""
            },
            "type": "choropleth"
           }
          ],
          "contour": [
           {
            "colorbar": {
             "outlinewidth": 0,
             "ticks": ""
            },
            "colorscale": [
             [
              0,
              "#0d0887"
             ],
             [
              0.1111111111111111,
              "#46039f"
             ],
             [
              0.2222222222222222,
              "#7201a8"
             ],
             [
              0.3333333333333333,
              "#9c179e"
             ],
             [
              0.4444444444444444,
              "#bd3786"
             ],
             [
              0.5555555555555556,
              "#d8576b"
             ],
             [
              0.6666666666666666,
              "#ed7953"
             ],
             [
              0.7777777777777778,
              "#fb9f3a"
             ],
             [
              0.8888888888888888,
              "#fdca26"
             ],
             [
              1,
              "#f0f921"
             ]
            ],
            "type": "contour"
           }
          ],
          "contourcarpet": [
           {
            "colorbar": {
             "outlinewidth": 0,
             "ticks": ""
            },
            "type": "contourcarpet"
           }
          ],
          "heatmap": [
           {
            "colorbar": {
             "outlinewidth": 0,
             "ticks": ""
            },
            "colorscale": [
             [
              0,
              "#0d0887"
             ],
             [
              0.1111111111111111,
              "#46039f"
             ],
             [
              0.2222222222222222,
              "#7201a8"
             ],
             [
              0.3333333333333333,
              "#9c179e"
             ],
             [
              0.4444444444444444,
              "#bd3786"
             ],
             [
              0.5555555555555556,
              "#d8576b"
             ],
             [
              0.6666666666666666,
              "#ed7953"
             ],
             [
              0.7777777777777778,
              "#fb9f3a"
             ],
             [
              0.8888888888888888,
              "#fdca26"
             ],
             [
              1,
              "#f0f921"
             ]
            ],
            "type": "heatmap"
           }
          ],
          "heatmapgl": [
           {
            "colorbar": {
             "outlinewidth": 0,
             "ticks": ""
            },
            "colorscale": [
             [
              0,
              "#0d0887"
             ],
             [
              0.1111111111111111,
              "#46039f"
             ],
             [
              0.2222222222222222,
              "#7201a8"
             ],
             [
              0.3333333333333333,
              "#9c179e"
             ],
             [
              0.4444444444444444,
              "#bd3786"
             ],
             [
              0.5555555555555556,
              "#d8576b"
             ],
             [
              0.6666666666666666,
              "#ed7953"
             ],
             [
              0.7777777777777778,
              "#fb9f3a"
             ],
             [
              0.8888888888888888,
              "#fdca26"
             ],
             [
              1,
              "#f0f921"
             ]
            ],
            "type": "heatmapgl"
           }
          ],
          "histogram": [
           {
            "marker": {
             "pattern": {
              "fillmode": "overlay",
              "size": 10,
              "solidity": 0.2
             }
            },
            "type": "histogram"
           }
          ],
          "histogram2d": [
           {
            "colorbar": {
             "outlinewidth": 0,
             "ticks": ""
            },
            "colorscale": [
             [
              0,
              "#0d0887"
             ],
             [
              0.1111111111111111,
              "#46039f"
             ],
             [
              0.2222222222222222,
              "#7201a8"
             ],
             [
              0.3333333333333333,
              "#9c179e"
             ],
             [
              0.4444444444444444,
              "#bd3786"
             ],
             [
              0.5555555555555556,
              "#d8576b"
             ],
             [
              0.6666666666666666,
              "#ed7953"
             ],
             [
              0.7777777777777778,
              "#fb9f3a"
             ],
             [
              0.8888888888888888,
              "#fdca26"
             ],
             [
              1,
              "#f0f921"
             ]
            ],
            "type": "histogram2d"
           }
          ],
          "histogram2dcontour": [
           {
            "colorbar": {
             "outlinewidth": 0,
             "ticks": ""
            },
            "colorscale": [
             [
              0,
              "#0d0887"
             ],
             [
              0.1111111111111111,
              "#46039f"
             ],
             [
              0.2222222222222222,
              "#7201a8"
             ],
             [
              0.3333333333333333,
              "#9c179e"
             ],
             [
              0.4444444444444444,
              "#bd3786"
             ],
             [
              0.5555555555555556,
              "#d8576b"
             ],
             [
              0.6666666666666666,
              "#ed7953"
             ],
             [
              0.7777777777777778,
              "#fb9f3a"
             ],
             [
              0.8888888888888888,
              "#fdca26"
             ],
             [
              1,
              "#f0f921"
             ]
            ],
            "type": "histogram2dcontour"
           }
          ],
          "mesh3d": [
           {
            "colorbar": {
             "outlinewidth": 0,
             "ticks": ""
            },
            "type": "mesh3d"
           }
          ],
          "parcoords": [
           {
            "line": {
             "colorbar": {
              "outlinewidth": 0,
              "ticks": ""
             }
            },
            "type": "parcoords"
           }
          ],
          "pie": [
           {
            "automargin": true,
            "type": "pie"
           }
          ],
          "scatter": [
           {
            "fillpattern": {
             "fillmode": "overlay",
             "size": 10,
             "solidity": 0.2
            },
            "type": "scatter"
           }
          ],
          "scatter3d": [
           {
            "line": {
             "colorbar": {
              "outlinewidth": 0,
              "ticks": ""
             }
            },
            "marker": {
             "colorbar": {
              "outlinewidth": 0,
              "ticks": ""
             }
            },
            "type": "scatter3d"
           }
          ],
          "scattercarpet": [
           {
            "marker": {
             "colorbar": {
              "outlinewidth": 0,
              "ticks": ""
             }
            },
            "type": "scattercarpet"
           }
          ],
          "scattergeo": [
           {
            "marker": {
             "colorbar": {
              "outlinewidth": 0,
              "ticks": ""
             }
            },
            "type": "scattergeo"
           }
          ],
          "scattergl": [
           {
            "marker": {
             "colorbar": {
              "outlinewidth": 0,
              "ticks": ""
             }
            },
            "type": "scattergl"
           }
          ],
          "scattermapbox": [
           {
            "marker": {
             "colorbar": {
              "outlinewidth": 0,
              "ticks": ""
             }
            },
            "type": "scattermapbox"
           }
          ],
          "scatterpolar": [
           {
            "marker": {
             "colorbar": {
              "outlinewidth": 0,
              "ticks": ""
             }
            },
            "type": "scatterpolar"
           }
          ],
          "scatterpolargl": [
           {
            "marker": {
             "colorbar": {
              "outlinewidth": 0,
              "ticks": ""
             }
            },
            "type": "scatterpolargl"
           }
          ],
          "scatterternary": [
           {
            "marker": {
             "colorbar": {
              "outlinewidth": 0,
              "ticks": ""
             }
            },
            "type": "scatterternary"
           }
          ],
          "surface": [
           {
            "colorbar": {
             "outlinewidth": 0,
             "ticks": ""
            },
            "colorscale": [
             [
              0,
              "#0d0887"
             ],
             [
              0.1111111111111111,
              "#46039f"
             ],
             [
              0.2222222222222222,
              "#7201a8"
             ],
             [
              0.3333333333333333,
              "#9c179e"
             ],
             [
              0.4444444444444444,
              "#bd3786"
             ],
             [
              0.5555555555555556,
              "#d8576b"
             ],
             [
              0.6666666666666666,
              "#ed7953"
             ],
             [
              0.7777777777777778,
              "#fb9f3a"
             ],
             [
              0.8888888888888888,
              "#fdca26"
             ],
             [
              1,
              "#f0f921"
             ]
            ],
            "type": "surface"
           }
          ],
          "table": [
           {
            "cells": {
             "fill": {
              "color": "#EBF0F8"
             },
             "line": {
              "color": "white"
             }
            },
            "header": {
             "fill": {
              "color": "#C8D4E3"
             },
             "line": {
              "color": "white"
             }
            },
            "type": "table"
           }
          ]
         },
         "layout": {
          "annotationdefaults": {
           "arrowcolor": "#2a3f5f",
           "arrowhead": 0,
           "arrowwidth": 1
          },
          "autotypenumbers": "strict",
          "coloraxis": {
           "colorbar": {
            "outlinewidth": 0,
            "ticks": ""
           }
          },
          "colorscale": {
           "diverging": [
            [
             0,
             "#8e0152"
            ],
            [
             0.1,
             "#c51b7d"
            ],
            [
             0.2,
             "#de77ae"
            ],
            [
             0.3,
             "#f1b6da"
            ],
            [
             0.4,
             "#fde0ef"
            ],
            [
             0.5,
             "#f7f7f7"
            ],
            [
             0.6,
             "#e6f5d0"
            ],
            [
             0.7,
             "#b8e186"
            ],
            [
             0.8,
             "#7fbc41"
            ],
            [
             0.9,
             "#4d9221"
            ],
            [
             1,
             "#276419"
            ]
           ],
           "sequential": [
            [
             0,
             "#0d0887"
            ],
            [
             0.1111111111111111,
             "#46039f"
            ],
            [
             0.2222222222222222,
             "#7201a8"
            ],
            [
             0.3333333333333333,
             "#9c179e"
            ],
            [
             0.4444444444444444,
             "#bd3786"
            ],
            [
             0.5555555555555556,
             "#d8576b"
            ],
            [
             0.6666666666666666,
             "#ed7953"
            ],
            [
             0.7777777777777778,
             "#fb9f3a"
            ],
            [
             0.8888888888888888,
             "#fdca26"
            ],
            [
             1,
             "#f0f921"
            ]
           ],
           "sequentialminus": [
            [
             0,
             "#0d0887"
            ],
            [
             0.1111111111111111,
             "#46039f"
            ],
            [
             0.2222222222222222,
             "#7201a8"
            ],
            [
             0.3333333333333333,
             "#9c179e"
            ],
            [
             0.4444444444444444,
             "#bd3786"
            ],
            [
             0.5555555555555556,
             "#d8576b"
            ],
            [
             0.6666666666666666,
             "#ed7953"
            ],
            [
             0.7777777777777778,
             "#fb9f3a"
            ],
            [
             0.8888888888888888,
             "#fdca26"
            ],
            [
             1,
             "#f0f921"
            ]
           ]
          },
          "colorway": [
           "#636efa",
           "#EF553B",
           "#00cc96",
           "#ab63fa",
           "#FFA15A",
           "#19d3f3",
           "#FF6692",
           "#B6E880",
           "#FF97FF",
           "#FECB52"
          ],
          "font": {
           "color": "#2a3f5f"
          },
          "geo": {
           "bgcolor": "white",
           "lakecolor": "white",
           "landcolor": "#E5ECF6",
           "showlakes": true,
           "showland": true,
           "subunitcolor": "white"
          },
          "hoverlabel": {
           "align": "left"
          },
          "hovermode": "closest",
          "mapbox": {
           "style": "light"
          },
          "paper_bgcolor": "white",
          "plot_bgcolor": "#E5ECF6",
          "polar": {
           "angularaxis": {
            "gridcolor": "white",
            "linecolor": "white",
            "ticks": ""
           },
           "bgcolor": "#E5ECF6",
           "radialaxis": {
            "gridcolor": "white",
            "linecolor": "white",
            "ticks": ""
           }
          },
          "scene": {
           "xaxis": {
            "backgroundcolor": "#E5ECF6",
            "gridcolor": "white",
            "gridwidth": 2,
            "linecolor": "white",
            "showbackground": true,
            "ticks": "",
            "zerolinecolor": "white"
           },
           "yaxis": {
            "backgroundcolor": "#E5ECF6",
            "gridcolor": "white",
            "gridwidth": 2,
            "linecolor": "white",
            "showbackground": true,
            "ticks": "",
            "zerolinecolor": "white"
           },
           "zaxis": {
            "backgroundcolor": "#E5ECF6",
            "gridcolor": "white",
            "gridwidth": 2,
            "linecolor": "white",
            "showbackground": true,
            "ticks": "",
            "zerolinecolor": "white"
           }
          },
          "shapedefaults": {
           "line": {
            "color": "#2a3f5f"
           }
          },
          "ternary": {
           "aaxis": {
            "gridcolor": "white",
            "linecolor": "white",
            "ticks": ""
           },
           "baxis": {
            "gridcolor": "white",
            "linecolor": "white",
            "ticks": ""
           },
           "bgcolor": "#E5ECF6",
           "caxis": {
            "gridcolor": "white",
            "linecolor": "white",
            "ticks": ""
           }
          },
          "title": {
           "x": 0.05
          },
          "xaxis": {
           "automargin": true,
           "gridcolor": "white",
           "linecolor": "white",
           "ticks": "",
           "title": {
            "standoff": 15
           },
           "zerolinecolor": "white",
           "zerolinewidth": 2
          },
          "yaxis": {
           "automargin": true,
           "gridcolor": "white",
           "linecolor": "white",
           "ticks": "",
           "title": {
            "standoff": 15
           },
           "zerolinecolor": "white",
           "zerolinewidth": 2
          }
         }
        },
        "title": {
         "text": "Top Ten Disciplinary Convictions"
        }
       }
      }
     },
     "metadata": {},
     "output_type": "display_data"
    }
   ],
   "source": [
    "import plotly.express as px\n",
    "\n",
    "df = DisciplinaryAction_df_group\n",
    "fig = px.pie(df, \n",
    "             values='No. Cases', \n",
    "             names='Disciplinary Action',\n",
    "             title = 'Top Ten Disciplinary Convictions', \n",
    "             color_discrete_sequence=px.colors.sequential.RdBu)\n",
    "fig.show()"
   ]
  }
 ],
 "metadata": {
  "kernelspec": {
   "display_name": "Python 3",
   "language": "python",
   "name": "python3"
  },
  "language_info": {
   "codemirror_mode": {
    "name": "ipython",
    "version": 3
   },
   "file_extension": ".py",
   "mimetype": "text/x-python",
   "name": "python",
   "nbconvert_exporter": "python",
   "pygments_lexer": "ipython3",
   "version": "3.9.6"
  }
 },
 "nbformat": 4,
 "nbformat_minor": 2
}
